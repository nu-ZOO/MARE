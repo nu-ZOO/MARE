{
 "cells": [
  {
   "cell_type": "code",
   "execution_count": null,
   "metadata": {},
   "outputs": [],
   "source": [
    "import uproot\n",
    "import matplotlib.pyplot as plt\n",
    "import numpy as np"
   ]
  },
  {
   "cell_type": "code",
   "execution_count": null,
   "metadata": {},
   "outputs": [],
   "source": [
    "\n",
    "# Viewing particular event of particular file.\n",
    "# Open the data, apply to variable\n",
    "file = r\"D:\\Documents 2\\Uni\\YEAR5\\MPhys\\ROOT_FILES\\RUN000008\\Run_8_PMT_162_Loc_9_Test_N.root\"\n",
    "\n",
    "# File directory specific, just to remove the E:\\PMTsignals\\ rubbish\n",
    "filename = file[51:]"
   ]
  },
  {
   "cell_type": "code",
   "execution_count": null,
   "metadata": {},
   "outputs": [],
   "source": [
    "\n",
    "# Taking specific cooked run, you can check them in python easily, swap 36 with 35\n",
    "tree = uproot.open(file)[\"Cooked_Run_8_PMT_162_Loc_9_Test_N;36\"]\n",
    "branches = tree.arrays()\n",
    "print(branches)\n",
    "print(branches['ADC']) # <- follows same formatting as h5, more or less"
   ]
  },
  {
   "cell_type": "code",
   "execution_count": null,
   "metadata": {},
   "outputs": [],
   "source": [
    "# how long between data taken\n",
    "timegate = 2\n",
    "# length of event\n",
    "eventno = len(branches['ADC'][0])\n",
    "time = []\n",
    "# Creating list for sample times that are 2ns intervals, 150 samples\n",
    "for i in range(eventno):\n",
    "    time.append(i*timegate)\n",
    "\n",
    "# Input event\n",
    "eventmore = int(input(\"How many events?\"))"
   ]
  },
  {
   "cell_type": "code",
   "execution_count": null,
   "metadata": {},
   "outputs": [],
   "source": [
    "for i in range(eventmore):\n",
    "    plt.plot(time,branches['ADC'][i], linewidth = 5)\n",
    "    plt.xlabel(\"Sample Time (ns)\", fontsize = 17)\n",
    "    plt.ylabel(\"ADC Value\", fontsize = 17)\n",
    "    plt.xticks(fontsize=16)\n",
    "    plt.yticks(fontsize=16)\n",
    "    plt.title(str(filename) + \" event \" + str(i), fontsize = 22)\n",
    "    plt.show()"
   ]
  }
 ],
 "metadata": {
  "kernelspec": {
   "display_name": "MULE-3.12-10-24",
   "language": "python",
   "name": "python3"
  },
  "language_info": {
   "name": "python",
   "version": "3.12.7"
  }
 },
 "nbformat": 4,
 "nbformat_minor": 2
}
