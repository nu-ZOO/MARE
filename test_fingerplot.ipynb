{
 "cells": [
  {
   "cell_type": "code",
   "execution_count": 7,
   "metadata": {},
   "outputs": [],
   "source": [
    "import numpy as np\n",
    "import sys\n",
    "import scipy.stats as scs\n",
    "\n",
    "sys.path.append(\"../\")\n",
    "\n",
    "from MULE.packs.tools import fit_functions"
   ]
  },
  {
   "cell_type": "code",
   "execution_count": 26,
   "metadata": {},
   "outputs": [
    {
     "name": "stdout",
     "output_type": "stream",
     "text": [
      "[]\n"
     ]
    }
   ],
   "source": [
    "maxpercent = 0.999\n",
    "\n",
    "poispeaks_pos = np.arange(0, scs.poisson.ppf(maxpercent, 0))\n",
    "print(poispeaks_pos)"
   ]
  },
  {
   "cell_type": "code",
   "execution_count": 23,
   "metadata": {},
   "outputs": [
    {
     "name": "stdout",
     "output_type": "stream",
     "text": [
      "[1.000e+03 1.001e+06 2.001e+06 3.001e+06 4.001e+06]\n"
     ]
    }
   ],
   "source": [
    "gain = 1*10**6\n",
    "# baseline\n",
    "bl = 1000\n",
    "realpeaks_pos = gain * poispeaks_pos + bl\n",
    "print(realpeaks_pos)"
   ]
  },
  {
   "cell_type": "code",
   "execution_count": 24,
   "metadata": {},
   "outputs": [
    {
     "name": "stdout",
     "output_type": "stream",
     "text": [
      "[9.57584798e-171 3.83033919e-168 7.66067839e-166 1.02142378e-163\n",
      " 1.02142378e-161]\n"
     ]
    }
   ],
   "source": [
    "amp = 5000\n",
    "poismu = 400\n",
    "realpeaks_amp = amp * scs.poisson.pmf(poispeaks_pos, poismu)\n",
    "print(realpeaks_amp)"
   ]
  },
  {
   "cell_type": "code",
   "execution_count": null,
   "metadata": {},
   "outputs": [],
   "source": []
  }
 ],
 "metadata": {
  "kernelspec": {
   "display_name": "MULE-3.12-10-24",
   "language": "python",
   "name": "python3"
  },
  "language_info": {
   "codemirror_mode": {
    "name": "ipython",
    "version": 3
   },
   "file_extension": ".py",
   "mimetype": "text/x-python",
   "name": "python",
   "nbconvert_exporter": "python",
   "pygments_lexer": "ipython3",
   "version": "3.12.7"
  }
 },
 "nbformat": 4,
 "nbformat_minor": 2
}
