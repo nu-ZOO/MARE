{
 "cells": [
  {
   "cell_type": "code",
   "execution_count": 1,
   "metadata": {},
   "outputs": [],
   "source": [
    "import numpy as np\n",
    "import matplotlib.pyplot as plt\n",
    "import pandas as pd"
   ]
  },
  {
   "cell_type": "markdown",
   "metadata": {},
   "source": [
    "# this is for the default binary format (non multi-board single file)"
   ]
  },
  {
   "cell_type": "code",
   "execution_count": 2,
   "metadata": {},
   "outputs": [],
   "source": [
    "fileName = 'test_data.bin'\n",
    "\n",
    "file = open(fileName, 'rb')\n",
    "data = []"
   ]
  },
  {
   "cell_type": "code",
   "execution_count": 3,
   "metadata": {},
   "outputs": [
    {
     "name": "stdout",
     "output_type": "stream",
     "text": [
      "[    0 94024     0 12500     8     0]\n"
     ]
    }
   ],
   "source": [
    "# lets take some data from the file\n",
    "array = np.fromfile(file, dtype = 'i4', count = 6)\n",
    "print(array)\n",
    "array2 = np.fromfile(file, dtype = 'i', count = 12500)\n"
   ]
  },
  {
   "cell_type": "markdown",
   "metadata": {},
   "source": []
  },
  {
   "cell_type": "markdown",
   "metadata": {},
   "source": []
  },
  {
   "cell_type": "code",
   "execution_count": 4,
   "metadata": {},
   "outputs": [
    {
     "data": {
      "text/plain": [
       "[<matplotlib.lines.Line2D at 0x760529de35c0>]"
      ]
     },
     "execution_count": 4,
     "metadata": {},
     "output_type": "execute_result"
    },
    {
     "data": {
      "image/png": "[encoded data removed]",
      "text/plain": [
       "<Figure size 640x480 with 1 Axes>"
      ]
     },
     "metadata": {},
     "output_type": "display_data"
    }
   ],
   "source": [
    "x = np.linspace(0, len(array2), len(array2))\n",
    "\n",
    "plt.plot(x,array2)\n",
    "#plt.xlim([0,1000])"
   ]
  },
  {
   "cell_type": "markdown",
   "metadata": {},
   "source": []
  },
  {
   "cell_type": "code",
   "execution_count": 1,
   "metadata": {},
   "outputs": [],
   "source": [
    "fileName = 'test_data.bin'\n",
    "\n",
    "file = open(fileName, 'rb')\n",
    "data = []"
   ]
  },
  {
   "cell_type": "code",
   "execution_count": null,
   "metadata": {},
   "outputs": [],
   "source": []
  },
  {
   "cell_type": "code",
   "execution_count": 2,
   "metadata": {},
   "outputs": [
    {
     "ename": "NameError",
     "evalue": "name 'np' is not defined",
     "output_type": "error",
     "traceback": [
      "\u001b[0;31m---------------------------------------------------------------------------\u001b[0m",
      "\u001b[0;31mNameError\u001b[0m                                 Traceback (most recent call last)",
      "Cell \u001b[0;32mIn[2], line 1\u001b[0m\n\u001b[0;32m----> 1\u001b[0m wdtype \u001b[38;5;241m=\u001b[39m np\u001b[38;5;241m.\u001b[39mdtype([\n\u001b[1;32m      2\u001b[0m         (\u001b[38;5;124m'\u001b[39m\u001b[38;5;124mEvent number\u001b[39m\u001b[38;5;124m'\u001b[39m, np\u001b[38;5;241m.\u001b[39muint32), \n\u001b[1;32m      3\u001b[0m         (\u001b[38;5;124m'\u001b[39m\u001b[38;5;124mTimestamp\u001b[39m\u001b[38;5;124m'\u001b[39m, np\u001b[38;5;241m.\u001b[39muint64), \n\u001b[1;32m      4\u001b[0m         (\u001b[38;5;124m'\u001b[39m\u001b[38;5;124mSamples\u001b[39m\u001b[38;5;124m'\u001b[39m, np\u001b[38;5;241m.\u001b[39muint32), \n\u001b[1;32m      5\u001b[0m         (\u001b[38;5;124m'\u001b[39m\u001b[38;5;124mSampling Period\u001b[39m\u001b[38;5;124m'\u001b[39m, np\u001b[38;5;241m.\u001b[39muint64), \n\u001b[1;32m      6\u001b[0m         \u001b[38;5;66;03m#('Channels', np.int32),     # this is removed if 'one file per channel' is selected\u001b[39;00m\n\u001b[1;32m      7\u001b[0m         (\u001b[38;5;124m'\u001b[39m\u001b[38;5;124mdata\u001b[39m\u001b[38;5;124m'\u001b[39m, np\u001b[38;5;241m.\u001b[39mfloat32, (\u001b[38;5;241m12500\u001b[39m,)),\n\u001b[1;32m      8\u001b[0m         ])\n",
      "\u001b[0;31mNameError\u001b[0m: name 'np' is not defined"
     ]
    }
   ],
   "source": [
    "\n",
    "\n",
    "\n",
    "wdtype = np.dtype([\n",
    "        ('Event number', np.uint32), \n",
    "        ('Timestamp', np.uint64), \n",
    "        ('Samples', np.uint32), \n",
    "        ('Sampling Period', np.uint64), \n",
    "        #('Channels', np.int32),     # this is removed if 'one file per channel' is selected\n",
    "        ('data', np.float32, (12500,)),\n",
    "        ])"
   ]
  },
  {
   "cell_type": "code",
   "execution_count": 12,
   "metadata": {},
   "outputs": [],
   "source": [
    "data = np.fromfile(file, dtype=wdtype)"
   ]
  },
  {
   "cell_type": "code",
   "execution_count": 13,
   "metadata": {},
   "outputs": [
    {
     "name": "stdout",
     "output_type": "stream",
     "text": [
      "0\n"
     ]
    },
    {
     "ename": "IndexError",
     "evalue": "index 0 is out of bounds for axis 0 with size 0",
     "output_type": "error",
     "traceback": [
      "\u001b[0;31m---------------------------------------------------------------------------\u001b[0m",
      "\u001b[0;31mIndexError\u001b[0m                                Traceback (most recent call last)",
      "Cell \u001b[0;32mIn[13], line 2\u001b[0m\n\u001b[1;32m      1\u001b[0m \u001b[38;5;28mprint\u001b[39m(\u001b[38;5;28mlen\u001b[39m(data))\n\u001b[0;32m----> 2\u001b[0m \u001b[38;5;28mprint\u001b[39m(\u001b[38;5;28mlen\u001b[39m(data[\u001b[38;5;241m0\u001b[39m]))\n",
      "\u001b[0;31mIndexError\u001b[0m: index 0 is out of bounds for axis 0 with size 0"
     ]
    }
   ],
   "source": [
    "print(len(data))\n",
    "print(len(data[0]))"
   ]
  },
  {
   "cell_type": "code",
   "execution_count": 10,
   "metadata": {},
   "outputs": [
    {
     "name": "stdout",
     "output_type": "stream",
     "text": [
      "(0, 94024, 12500, 8, 0, [-5.760e-01, -3.840e-01, -6.400e-01, ..., -3.200e-01, -2.560e-01,  1.401e-45])\n"
     ]
    }
   ],
   "source": [
    "print(data[0])"
   ]
  },
  {
   "cell_type": "code",
   "execution_count": 9,
   "metadata": {},
   "outputs": [
    {
     "name": "stdout",
     "output_type": "stream",
     "text": [
      "[(0, 0, array([0.00000e+00, 6.40000e-02, 6.40000e-02, ..., 4.20390e-45,\n",
      "       6.56999e-40, 0.00000e+00], dtype=float32))]\n"
     ]
    }
   ],
   "source": [
    "channel_no = 1\n",
    "q = [[(data[j][0], 0, list(data[j])[-i:][0]) for i in reversed(range(1, channel_no+1))] for j in range(len(data))]\n",
    "print(q[2])"
   ]
  },
  {
   "cell_type": "code",
   "execution_count": 7,
   "metadata": {},
   "outputs": [
    {
     "name": "stdout",
     "output_type": "stream",
     "text": [
      "12500\n"
     ]
    }
   ],
   "source": [
    "print(len(data[0][4]))"
   ]
  },
  {
   "cell_type": "code",
   "execution_count": 8,
   "metadata": {},
   "outputs": [
    {
     "name": "stdout",
     "output_type": "stream",
     "text": [
      "channels detected as np array\n"
     ]
    }
   ],
   "source": [
    "if not isinstance(data[0][4], np.ndarray):\n",
    "    channels = data[0][4]\n",
    "    print(f\"number of channels {channels}\")\n",
    "    print(channels.type)\n",
    "else:\n",
    "    print(\"channels detected as np array\")\n",
    "    channels = 1"
   ]
  },
  {
   "cell_type": "code",
   "execution_count": 9,
   "metadata": {},
   "outputs": [
    {
     "name": "stdout",
     "output_type": "stream",
     "text": [
      "5\n"
     ]
    },
    {
     "ename": "NameError",
     "evalue": "name 'datathree' is not defined",
     "output_type": "error",
     "traceback": [
      "\u001b[0;31m---------------------------------------------------------------------------\u001b[0m",
      "\u001b[0;31mNameError\u001b[0m                                 Traceback (most recent call last)",
      "Cell \u001b[0;32mIn[9], line 2\u001b[0m\n\u001b[1;32m      1\u001b[0m \u001b[38;5;28mprint\u001b[39m(\u001b[38;5;28mlen\u001b[39m(data[\u001b[38;5;241m0\u001b[39m]))\n\u001b[0;32m----> 2\u001b[0m \u001b[38;5;28mprint\u001b[39m(\u001b[38;5;28mlen\u001b[39m(datathree))\n",
      "\u001b[0;31mNameError\u001b[0m: name 'datathree' is not defined"
     ]
    }
   ],
   "source": [
    "print(len(data[0]))\n",
    "print(len(datathree))"
   ]
  },
  {
   "cell_type": "code",
   "execution_count": 29,
   "metadata": {},
   "outputs": [],
   "source": [
    "testing_1chan = [[data[i][-chan] for chan in reversed(range(1,channels + 1))] for i in range(len(data))]\n",
    "\n",
    "event_information = [[data[i][info] for info in range(0,4)] for i in range(len(data))]\n"
   ]
  },
  {
   "cell_type": "code",
   "execution_count": 31,
   "metadata": {},
   "outputs": [
    {
     "name": "stdout",
     "output_type": "stream",
     "text": [
      "[[array([ 0.   , -0.576, -0.384, ..., -0.384, -0.32 , -0.256], dtype=float32)], [array([-0.512, -0.768, -0.192, ..., -0.704, -0.384, -0.512], dtype=float32)], [array([-0.256, -0.384, -0.128, ..., -0.064, -0.384, -0.32 ], dtype=float32)], [array([-0.768, -0.768, -0.576, ..., -0.448, -0.576, -0.384], dtype=float32)], [array([-0.832, -0.64 , -0.704, ..., -0.256, -0.192, -0.128], dtype=float32)], [array([-0.512, -0.256, -0.384, ..., -0.448, -0.128, -0.192], dtype=float32)], [array([-0.64 , -0.576, -0.576, ..., -0.384, -0.64 , -0.576], dtype=float32)], [array([-0.576, -0.96 , -1.344, ..., -0.704, -0.576, -0.448], dtype=float32)], [array([-0.576, -0.704, -0.448, ..., -0.192, -0.192, -0.192], dtype=float32)], [array([-0.384, -0.704, -0.32 , ..., -0.256, -0.064, -0.704], dtype=float32)], [array([-0.576, -0.768, -0.576, ..., -0.192,  0.   , -0.192], dtype=float32)], [array([-0.704, -0.512, -0.256, ..., -0.576, -0.896, -0.64 ], dtype=float32)], [array([-0.704, -0.512, -0.704, ..., -0.32 , -0.384, -0.896], dtype=float32)], [array([-0.64 , -0.96 , -0.704, ..., -0.256, -0.704, -0.448], dtype=float32)], [array([-0.576, -0.576, -0.192, ..., -0.192, -0.256, -0.768], dtype=float32)], [array([-0.896, -0.256, -0.256, ..., -0.768, -0.768, -0.512], dtype=float32)], [array([-0.128, -0.256, -0.064, ..., -0.832, -0.576, -0.448], dtype=float32)], [array([ 0.128,  0.   , -0.32 , ..., -0.832, -0.384, -0.448], dtype=float32)], [array([-1.344, -1.152, -0.832, ..., -0.832, -1.152, -1.216], dtype=float32)], [array([-1.088, -0.64 , -0.832, ..., -0.576, -1.024, -1.408], dtype=float32)], [array([-0.896, -0.192, -0.128, ..., -1.088, -1.344, -0.96 ], dtype=float32)], [array([-0.704, -0.384,  0.064, ..., -0.832, -0.704, -0.512], dtype=float32)], [array([-0.448, -0.384,  0.064, ..., -0.704, -0.896, -1.088], dtype=float32)], [array([-0.384, -0.064,  0.   , ..., -1.024, -1.088, -0.576], dtype=float32)], [array([-0.768, -0.704, -0.384, ..., -1.024, -0.768, -0.704], dtype=float32)], [array([-0.192,  0.448,  0.384, ..., -0.512, -0.32 , -0.448], dtype=float32)], [array([-0.512, -0.448, -0.064, ..., -0.768, -0.64 , -0.512], dtype=float32)], [array([-0.384, -0.704, -0.896, ..., -1.088, -0.512, -0.576], dtype=float32)], [array([-0.576,  0.   ,  0.448, ..., -1.088, -1.088, -1.088], dtype=float32)], [array([-0.96 , -0.576, -0.192, ..., -0.768, -1.216, -0.96 ], dtype=float32)], [array([-0.704, -0.256, -0.384, ..., -1.152, -1.024, -1.088], dtype=float32)], [array([-0.512, -0.064, -0.256, ..., -0.192, -0.704, -0.192], dtype=float32)], [array([-0.064, -0.192, -0.768, ..., -0.256, -0.192, -0.704], dtype=float32)], [array([-0.768, -0.512, -0.192, ..., -0.768, -0.704, -0.576], dtype=float32)], [array([-0.576, -0.832, -0.512, ..., -0.704, -0.576, -0.704], dtype=float32)], [array([-0.512, -0.32 , -0.64 , ..., -0.448, -0.704, -0.64 ], dtype=float32)], [array([-0.704, -0.576, -0.448, ..., -0.128, -0.32 , -0.576], dtype=float32)], [array([-0.64 , -0.064, -0.768, ..., -0.64 , -0.576, -0.512], dtype=float32)], [array([-0.256, -0.384, -0.768, ..., -0.192, -0.704, -0.512], dtype=float32)], [array([-0.32 , -0.512, -0.64 , ..., -0.256, -0.384, -0.512], dtype=float32)], [array([-0.128, -0.384, -0.32 , ..., -0.832, -0.576, -0.576], dtype=float32)], [array([-0.832, -0.768, -0.896, ..., -0.576, -0.704, -0.576], dtype=float32)], [array([-0.704, -0.384, -0.704, ..., -0.64 , -0.576, -0.576], dtype=float32)], [array([-0.32 , -0.704, -0.64 , ..., -0.704, -0.32 , -0.448], dtype=float32)], [array([-0.32 , -0.96 , -0.832, ..., -0.448, -0.576, -0.64 ], dtype=float32)], [array([-0.64 , -0.384, -1.024, ..., -0.832, -0.448, -0.512], dtype=float32)], [array([-0.704, -0.512, -0.768, ..., -0.128, -0.64 , -0.576], dtype=float32)], [array([-0.512, -0.64 , -0.576, ..., -0.896, -0.128, -1.024], dtype=float32)], [array([-0.384, -0.384, -0.448, ..., -0.576, -0.832, -0.64 ], dtype=float32)], [array([-0.704, -0.512, -0.704, ..., -0.32 , -0.768, -0.576], dtype=float32)], [array([-0.896, -0.512, -0.64 , ..., -0.064, -0.576, -0.576], dtype=float32)], [array([-0.384, -0.384, -0.064, ..., -0.832, -0.576, -0.832], dtype=float32)], [array([-0.384, -0.384, -0.32 , ..., -0.576, -0.064,  0.064], dtype=float32)], [array([-0.064, -0.64 , -0.064, ..., -0.384, -0.128, -0.256], dtype=float32)], [array([-0.576, -0.64 , -0.576, ..., -0.448, -0.064, -0.448], dtype=float32)], [array([-0.704, -0.192, -0.384, ..., -0.896, -0.96 , -0.576], dtype=float32)], [array([-0.576, -0.448, -0.64 , ..., -0.256, -0.256, -0.832], dtype=float32)], [array([ 0.128, -0.32 , -0.384, ..., -0.32 , -0.384, -0.512], dtype=float32)], [array([-0.32 , -0.064, -0.32 , ..., -0.32 , -0.832, -0.704], dtype=float32)], [array([-0.256, -0.64 , -0.512, ..., -0.448, -0.512, -0.832], dtype=float32)], [array([-0.384, -0.256, -0.512, ..., -0.704, -0.576, -0.96 ], dtype=float32)], [array([-0.384, -0.384, -0.768, ...,  0.448,  0.064,  0.192], dtype=float32)], [array([-0.192, -0.704, -0.512, ..., -0.128,  0.   , -0.512], dtype=float32)], [array([-0.32 , -0.896, -0.576, ..., -0.704,  0.064, -0.192], dtype=float32)], [array([-0.192, -0.448, -0.128, ..., -0.832, -0.768, -0.96 ], dtype=float32)], [array([-0.32 , -0.192, -0.448, ..., -0.64 , -0.384,  0.   ], dtype=float32)], [array([-0.704, -0.64 , -0.704, ..., -0.128,  0.   ,  0.064], dtype=float32)], [array([-0.576, -0.896, -0.768, ..., -0.384, -0.32 , -0.704], dtype=float32)], [array([-0.32 , -0.448, -0.704, ..., -0.512, -0.768,  0.128], dtype=float32)], [array([-0.448, -0.576, -0.64 , ..., -0.512, -0.64 ,  0.128], dtype=float32)], [array([-1.28 , -1.344, -1.024, ..., -0.96 , -0.32 , -0.64 ], dtype=float32)], [array([-0.32 , -0.384, -0.384, ..., -0.448, -0.896, -0.768], dtype=float32)], [array([-0.576, -0.704, -0.064, ..., -1.024, -0.832, -0.704], dtype=float32)], [array([-0.704, -0.96 , -0.576, ...,  0.128, -0.064, -1.216], dtype=float32)], [array([-0.576, -0.512,  0.   , ..., -0.704, -0.32 , -0.896], dtype=float32)], [array([-0.96 , -0.96 , -0.64 , ..., -1.28 , -0.896, -0.704], dtype=float32)], [array([-0.512, -0.576, -0.896, ..., -0.512, -0.448, -0.64 ], dtype=float32)], [array([-0.768, -0.512, -0.768, ..., -0.576, -0.832, -0.512], dtype=float32)], [array([-0.768, -0.768, -0.384, ..., -1.152, -0.832, -0.704], dtype=float32)], [array([-0.64 , -0.96 , -0.768, ..., -0.704, -0.064, -0.512], dtype=float32)], [array([-0.32 , -0.256, -0.384, ..., -0.512, -0.448, -0.256], dtype=float32)], [array([-0.576, -1.344, -0.96 , ..., -0.384, -0.256, -0.448], dtype=float32)], [array([-0.32 , -0.832, -0.896, ..., -0.256, -0.512, -0.832], dtype=float32)], [array([-0.576, -0.64 , -0.704, ..., -0.384, -0.768, -0.576], dtype=float32)], [array([-0.384, -0.064, -0.448, ..., -0.384, -0.704, -0.192], dtype=float32)], [array([-0.576, -0.576, -0.384, ..., -0.768, -0.448, -0.128], dtype=float32)], [array([-0.704, -0.384, -0.064, ..., -0.064, -0.832, -0.896], dtype=float32)], [array([-0.192, -0.896, -0.832, ..., -0.512, -0.576, -0.704], dtype=float32)], [array([-0.192, -0.96 , -0.576, ..., -0.704, -0.768, -0.896], dtype=float32)], [array([-0.576, -0.32 , -0.576, ..., -0.384, -0.512, -0.704], dtype=float32)], [array([-0.064, -0.704, -0.384, ...,  0.256,  0.192, -0.384], dtype=float32)], [array([-0.768, -0.96 ,  0.   , ..., -0.704, -0.704, -0.512], dtype=float32)], [array([-0.448, -0.576, -0.384, ..., -0.704, -0.448, -0.704], dtype=float32)], [array([-0.832, -0.96 , -0.32 , ..., -0.256, -0.384, -0.832], dtype=float32)], [array([-0.512, -0.512, -0.576, ..., -0.384, -0.32 , -0.448], dtype=float32)], [array([-0.576, -0.256, -0.384, ..., -0.576, -0.704, -0.384], dtype=float32)], [array([ 0.128, -0.192,  0.128, ..., -0.704, -0.384, -1.024], dtype=float32)], [array([ 0.32 ,  0.384,  0.32 , ..., -0.064, -0.896, -0.128], dtype=float32)], [array([-0.064, -0.384, -0.576, ..., -0.64 , -0.256, -0.896], dtype=float32)], [array([-0.192, -0.576, -0.32 , ..., -0.576, -0.64 , -0.512], dtype=float32)]]\n"
     ]
    }
   ],
   "source": [
    "#print(event_information[0][0].type)\n",
    "print(testing_1chan)"
   ]
  },
  {
   "cell_type": "code",
   "execution_count": 25,
   "metadata": {},
   "outputs": [
    {
     "data": {
      "text/plain": [
       "['Event number', 'Timestamp', 'Samples', 'Sampling Period', 'data']"
      ]
     },
     "execution_count": 25,
     "metadata": {},
     "output_type": "execute_result"
    }
   ],
   "source": [
    "list(wdtype.names)"
   ]
  },
  {
   "cell_type": "code",
   "execution_count": 21,
   "metadata": {},
   "outputs": [
    {
     "name": "stdout",
     "output_type": "stream",
     "text": [
      "[('Event number', '<u4'), ('Timestamp', '<u8'), ('Samples', '<u4'), ('Sampling Period', '<u8'), ('data', '<f4', (12500,))]\n",
      "[('Event number', '<u4'), ('Timestamp', '<u8'), ('Samples', '<u4'), ('Sampling Period', '<u8')]\n"
     ]
    }
   ],
   "source": [
    "print(wdtype)\n",
    "fields = wdtype.descr[:-1]\n",
    "new_dtype = np.dtype(fields)\n",
    "print(new_dtype)"
   ]
  },
  {
   "cell_type": "code",
   "execution_count": 14,
   "metadata": {},
   "outputs": [
    {
     "name": "stdout",
     "output_type": "stream",
     "text": [
      "0\n",
      "[0, 94024, 12500, 8]\n"
     ]
    }
   ],
   "source": [
    "for n, d in enumerate(event_information):\n",
    "    print(n)\n",
    "    print(d)\n",
    "    break"
   ]
  },
  {
   "cell_type": "code",
   "execution_count": 54,
   "metadata": {},
   "outputs": [
    {
     "name": "stdout",
     "output_type": "stream",
     "text": [
      "[array([ 0.128,  0.064,  0.32 , -0.32 ,  0.   , -0.064,  0.256,  0.384,\n",
      "        0.   ,  0.   , -0.128, -0.32 , -0.128,  0.128,  0.256,  0.704,\n",
      "        0.512,  0.384,  0.128, -0.064,  0.256, -0.064,  0.064, -0.064,\n",
      "        0.32 ,  0.128,  0.   , -0.192, -0.064,  0.192,  0.   , -0.32 ,\n",
      "        0.   , -0.32 , -0.704, -0.576,  0.192, -0.064,  0.   , -0.192,\n",
      "        0.128, -0.32 ,  0.32 , -0.192,  0.   , -0.32 ,  0.192, -0.32 ,\n",
      "        0.128,  0.256,  0.256,  0.192,  0.256, -0.064,  0.192,  0.192,\n",
      "        0.256,  0.128,  0.   , -0.32 ,  0.064, -0.064, -0.128, -0.064,\n",
      "        0.192,  0.768,  0.32 ,  0.192,  0.256,  0.192,  0.   , -0.256,\n",
      "        0.   , -0.128,  0.064,  0.32 ,  0.256,  0.064,  0.128, -0.064,\n",
      "        0.   , -0.32 ,  0.32 ,  0.192,  0.32 ,  0.448,  0.128,  0.128,\n",
      "        0.256,  0.512,  0.384,  0.384,  0.32 , -0.064,  0.256,  0.128,\n",
      "        0.256,  0.448,  0.32 ,  0.32 ,  0.32 ,  0.32 ,  0.192,  0.256,\n",
      "        0.   , -0.192,  0.32 ,  0.256,  0.256,  0.512,  0.32 ,  0.704,\n",
      "        0.256,  0.192,  0.   , -0.064,  0.32 ,  0.128,  0.192,  0.128,\n",
      "        0.256, -0.192,  0.256,  0.064,  0.192,  0.128,  0.192,  0.128,\n",
      "        0.384,  0.576,  0.192,  0.32 ,  0.32 ,  0.384,  0.256, -0.192,\n",
      "        0.32 ,  0.256,  0.   ,  0.192,  0.256, -0.32 ,  0.064,  0.128,\n",
      "        0.32 ,  0.256,  0.192,  0.192,  0.32 ,  0.448,  0.512,  0.256,\n",
      "       -0.192, -0.384,  0.512,  0.64 ,  0.832,  0.32 ,  0.704,  0.128,\n",
      "        0.32 , -0.064,  0.192, -0.128,  0.128, -0.128,  0.192,  0.192,\n",
      "        0.32 ,  0.32 ,  0.448,  0.192,  0.   , -0.192,  0.   , -0.064,\n",
      "       -0.192,  0.192,  0.32 ,  0.384,  0.32 , -0.064,  0.32 ,  0.128,\n",
      "        0.064,  0.128, -0.064, -0.384,  0.   ,  0.064,  0.32 ,  0.384,\n",
      "        0.192,  0.192,  0.512,  0.192,  0.32 ,  0.32 , -0.064,  0.32 ,\n",
      "        0.832,  0.448, -0.128,  0.32 ,  0.32 ,  0.128,  0.   ,  0.192,\n",
      "        0.32 ,  0.384,  0.192, -0.32 ,  0.128,  0.32 ,  0.256, -0.32 ,\n",
      "        0.256,  0.192,  0.064, -0.32 ,  0.   ,  0.064,  0.   , -0.128,\n",
      "       -0.256, -0.192,  0.256,  0.576,  0.32 ,  0.192,  0.   , -0.064,\n",
      "        0.384,  0.32 ,  0.32 , -0.256,  0.   , -0.192, -0.064, -0.064,\n",
      "        0.512,  0.064,  0.384,  0.256,  0.384, -0.064,  0.064, -0.064,\n",
      "        0.064,  0.064,  0.128, -0.192,  0.128, -0.064,  0.32 , -0.192,\n",
      "       -0.384, -0.256,  0.32 ,  0.32 ,  0.512, -0.064,  0.32 ,  0.192,\n",
      "        0.32 ,  0.128,  0.192,  0.32 , -0.128, -0.064,  0.064,  0.256,\n",
      "        0.   , -0.32 ,  0.256, -0.064,  0.32 ,  0.   ,  0.128, -0.064,\n",
      "        0.32 ,  0.128,  0.256,  0.128,  0.   ,  0.064,  0.   , -0.064,\n",
      "        0.   ,  0.064,  0.128,  0.192,  0.256,  0.128,  0.128, -0.192,\n",
      "        0.384,  0.256,  0.32 ,  0.192,  0.128,  0.192,  0.384,  0.128,\n",
      "        0.128,  0.32 ,  0.384,  0.576,  0.256,  0.448,  0.32 ,  0.064,\n",
      "        0.32 ,  0.32 ,  0.256, -0.128, -0.064, -0.064,  0.448,  0.32 ,\n",
      "        0.384,  0.448,  0.32 ,  0.128,  0.32 ,  0.32 ,  0.256,  0.128,\n",
      "        0.064, -0.128,  0.   ,  0.064,  0.128,  0.128,  0.192, -0.192,\n",
      "        0.   ,  0.192,  0.192, -0.192,  0.256, -0.384,  0.128, -0.192,\n",
      "        0.256,  0.128,  0.256, -0.192,  0.128,  0.192,  0.256,  0.192,\n",
      "        0.256,  0.576,  0.512,  0.32 ,  0.128,  0.064,  0.32 ,  0.384,\n",
      "        0.064, -0.064,  0.   ,  0.   ,  0.32 ,  0.576,  0.256,  0.064,\n",
      "        0.192,  0.384,  0.32 ,  0.192,  0.32 ,  0.32 ,  0.32 ,  0.32 ,\n",
      "        0.32 , -0.064,  0.128, -0.064,  0.064, -0.192,  0.   , -0.128,\n",
      "        0.256,  0.064,  0.32 ,  0.192, -0.384, -0.32 ,  0.192,  0.128,\n",
      "        0.32 ,  0.448,  0.32 ,  0.064,  0.   ,  0.32 ,  0.192,  0.192,\n",
      "        0.   ,  0.448,  0.384,  0.448, -0.192, -0.064,  0.   , -0.064,\n",
      "        0.256,  0.32 ,  0.32 ,  0.32 ,  0.256,  0.064,  0.32 ,  0.32 ,\n",
      "        0.256,  0.192,  0.128,  0.   ,  0.32 ,  0.192,  0.064,  0.   ,\n",
      "        0.256,  0.128,  0.32 ,  0.192,  0.064,  0.128,  0.512,  0.192,\n",
      "        0.256,  0.384,  0.512,  0.32 ,  0.   , -0.192,  0.256,  0.192,\n",
      "        0.192,  0.128,  0.32 ,  0.704,  0.32 , -0.128,  0.256,  0.128,\n",
      "        0.32 , -0.192, -0.192,  0.192,  0.32 , -0.192,  0.256,  0.128,\n",
      "        0.32 , -0.128, -0.064, -0.128,  0.32 ,  0.32 ,  0.832,  0.32 ,\n",
      "        0.32 ,  0.192,  0.32 ,  0.128, -0.128, -0.192,  0.   ,  0.32 ,\n",
      "        0.512,  0.32 ,  0.192,  0.32 ,  0.064,  0.256,  0.256,  0.128,\n",
      "        0.128,  0.128,  0.576,  0.32 ,  0.32 ,  0.32 ,  0.448,  0.576,\n",
      "        0.384,  0.576,  0.64 ,  0.256,  0.32 , -0.064,  0.32 ,  0.192,\n",
      "        0.32 ,  0.192,  0.32 ,  0.512,  0.256,  0.192,  0.256,  0.832,\n",
      "        0.256, -0.064,  0.256,  0.704,  0.448,  0.   ,  0.   , -0.32 ,\n",
      "        0.128,  0.192,  0.384,  0.384,  0.576,  0.832,  0.256,  0.128,\n",
      "        0.32 ,  0.32 ,  0.384,  0.32 ,  0.256,  0.512,  0.128,  0.192,\n",
      "        0.192,  0.32 ,  0.384,  0.448,  0.96 ,  0.96 ,  0.384,  0.448,\n",
      "        0.256,  0.32 ,  0.192,  0.32 ,  0.512,  0.256,  0.192,  0.192,\n",
      "        0.128,  0.192,  0.32 ,  0.32 ,  0.192,  0.384,  0.32 ,  0.256,\n",
      "        0.32 , -0.128,  0.32 , -0.512, -0.128, -0.32 ,  0.384,  0.704,\n",
      "        0.704,  0.32 ,  0.512,  0.128,  0.32 ,  0.192,  0.128, -0.064,\n",
      "        0.384,  0.128,  0.448,  0.512,  0.128,  0.192,  0.576,  0.32 ,\n",
      "        0.128, -0.32 ,  0.   , -0.192,  0.064,  0.256,  0.256,  0.32 ,\n",
      "        0.   ,  0.192,  0.384,  0.448,  0.   ,  0.384,  0.448,  0.   ,\n",
      "        0.064,  0.064,  0.128,  0.256,  0.256,  0.128,  0.32 ,  0.192,\n",
      "        0.   , -0.128,  0.064, -0.128, -0.064, -0.064,  0.256, -0.192,\n",
      "        0.256, -0.064,  0.256,  0.32 ,  0.448,  0.192,  0.448,  0.32 ,\n",
      "        0.256, -0.064,  0.384,  0.32 ,  0.32 ,  0.128,  0.256,  0.128,\n",
      "        0.512,  0.768,  0.32 ,  0.192,  0.256,  0.064,  0.448,  0.32 ,\n",
      "        0.32 ,  0.32 ,  0.256,  0.192,  0.192,  0.576,  0.512,  0.448,\n",
      "        0.192,  0.192,  0.384, -0.192,  0.384,  0.32 ,  0.   , -0.32 ,\n",
      "        0.256, -0.192, -0.192, -0.32 , -0.192,  0.064,  0.192,  0.256,\n",
      "        0.064, -0.064,  0.32 ,  0.768,  0.   ,  0.192,  0.32 ,  0.576,\n",
      "        0.128,  0.   ,  0.064,  0.128,  0.32 ,  0.128,  0.128,  0.256,\n",
      "        0.128,  0.32 ,  0.448,  0.576,  0.512,  0.32 ,  0.32 , -0.128,\n",
      "        0.256, -0.32 ,  0.   ,  0.256,  0.32 ,  0.192, -0.064, -0.384,\n",
      "        0.   ,  0.064,  0.32 ,  0.128,  0.128, -0.192,  0.32 ,  0.32 ,\n",
      "        0.   , -0.064,  0.192, -0.128,  0.256,  0.192,  0.448, -0.32 ,\n",
      "        0.064,  0.064,  0.448,  0.192,  0.256,  0.64 ,  0.832,  0.448,\n",
      "        0.768,  0.448,  0.192,  0.384,  0.512, -0.128,  0.256,  0.128,\n",
      "        0.256,  0.128,  0.384,  0.192,  0.32 ,  0.128,  0.   , -0.064,\n",
      "        0.32 ,  0.192,  0.32 ,  0.448,  0.064, -0.064,  0.192, -0.128,\n",
      "        0.256, -0.064,  0.064,  0.128,  0.128,  0.384,  0.32 ,  0.32 ,\n",
      "        0.32 ,  0.576,  0.192,  0.32 ,  0.384,  0.384,  0.32 , -0.064,\n",
      "        0.128,  0.576,  0.512,  0.448,  0.256,  0.128,  0.128, -0.448,\n",
      "        0.128,  0.576,  0.96 ,  0.384,  0.064,  0.128,  0.32 ,  0.256,\n",
      "        0.32 ,  0.576,  0.384,  0.32 ,  0.576, -0.064,  0.192,  0.32 ,\n",
      "        0.384,  0.128,  0.256,  0.192,  0.32 ,  0.384,  0.064,  0.192,\n",
      "        0.32 , -0.128,  0.32 ,  0.192,  0.32 ,  0.32 ,  0.256,  0.32 ,\n",
      "        0.384, -0.128,  0.32 ,  0.32 ,  0.32 ,  0.128,  0.064, -0.128,\n",
      "        0.192,  0.192,  0.256,  0.32 ,  0.128,  0.128,  0.512,  0.448,\n",
      "        0.512,  0.512,  0.512,  0.384,  0.32 ,  0.32 ,  0.448,  0.064,\n",
      "        0.32 ,  0.32 ,  0.192,  0.32 ,  0.32 ,  0.32 ,  0.384,  0.32 ,\n",
      "        0.32 , -0.064,  0.384,  0.32 ,  0.32 ,  0.512,  0.512,  0.32 ,\n",
      "        0.32 ,  0.384,  0.384,  0.064, -0.128,  0.   ,  0.192,  0.128,\n",
      "        0.32 , -0.192, -0.128, -0.448,  0.064,  0.128,  0.384,  0.128,\n",
      "        0.128, -0.128,  0.32 , -0.064, -0.128, -0.192,  0.192, -0.128,\n",
      "        0.32 ,  0.128,  0.32 , -0.256,  0.192,  0.256,  0.256,  0.32 ,\n",
      "        0.192,  0.448,  0.128,  0.576,  0.32 , -0.192,  0.064, -0.128,\n",
      "        0.192,  0.128,  0.256,  0.32 ,  0.128,  0.128,  0.32 ,  0.384,\n",
      "       -0.064, -0.064,  0.128,  0.128,  0.064,  0.192,  0.128, -0.064,\n",
      "        0.384, -0.064,  0.32 , -0.192,  0.32 ,  0.128,  0.128,  0.128,\n",
      "        0.   , -0.32 ,  0.128,  0.   ,  0.   ,  0.512,  0.192, -0.384,\n",
      "        0.32 ,  0.32 ,  0.512,  0.32 ,  0.256,  0.064,  0.   , -0.192,\n",
      "        0.128,  0.064,  0.256,  0.128,  0.064,  0.32 ,  0.32 ,  0.064,\n",
      "        0.192, -0.192,  0.128, -0.128,  0.256,  0.448,  0.512,  0.64 ,\n",
      "        0.256,  0.128,  0.32 ,  0.128, -0.064, -0.128, -0.064, -0.32 ,\n",
      "        0.   ,  0.064,  0.256,  0.576,  0.128, -0.064, -0.192, -0.128,\n",
      "        0.256,  0.128,  0.384,  0.576,  0.384,  0.192,  0.128, -0.128,\n",
      "        0.   ,  0.256,  0.32 ,  0.192,  0.128, -0.32 , -0.192, -0.128,\n",
      "        0.192,  0.576,  0.32 ,  0.192, -0.064, -0.128,  0.576,  0.384,\n",
      "        0.384,  0.064,  0.256,  0.064,  0.   , -0.32 ,  0.32 ,  0.448,\n",
      "        0.   , -0.192,  0.   ,  0.32 ,  0.32 ,  0.32 ,  0.32 , -0.064,\n",
      "        0.192,  0.384,  0.256,  0.   ,  0.192, -0.32 ,  0.256, -0.064,\n",
      "        0.064, -0.32 ,  0.   ,  0.192,  0.32 , -0.192,  0.192,  0.064],\n",
      "      dtype=float32)]\n"
     ]
    }
   ],
   "source": [
    "print(testing[2])"
   ]
  },
  {
   "cell_type": "code",
   "execution_count": 40,
   "metadata": {},
   "outputs": [
    {
     "name": "stdout",
     "output_type": "stream",
     "text": [
      "[[0, 94024, 12500, 8], [1, 219046, 12500, 8], [2, 343935, 12500, 8], [3, 468850, 12500, 8], [4, 593825, 12500, 8], [5, 718788, 12500, 8], [6, 844100, 12500, 8], [7, 968898, 12500, 8], [8, 1093882, 12500, 8], [10, 1218898, 12500, 8], [11, 1343944, 12500, 8], [12, 1468945, 12500, 8], [13, 1593840, 12500, 8], [14, 1719034, 12500, 8], [15, 1843898, 12500, 8], [16, 1968927, 12500, 8], [17, 2094020, 12500, 8], [20, 2218934, 12500, 8], [22, 2344008, 12500, 8], [23, 2468883, 12500, 8], [25, 2593823, 12500, 8], [26, 2718892, 12500, 8], [28, 2843896, 12500, 8], [30, 2968919, 12500, 8], [32, 3093950, 12500, 8], [34, 3218919, 12500, 8], [35, 3343866, 12500, 8], [37, 3468964, 12500, 8], [38, 3594030, 12500, 8], [39, 3718969, 12500, 8], [41, 3843983, 12500, 8], [43, 3968803, 12500, 8], [46, 4093964, 12500, 8], [48, 4218995, 12500, 8], [50, 4343970, 12500, 8], [52, 4468897, 12500, 8], [53, 4593937, 12500, 8], [55, 4718981, 12500, 8], [56, 4843837, 12500, 8], [57, 4968959, 12500, 8], [58, 5093882, 12500, 8], [59, 5218911, 12500, 8], [61, 5343789, 12500, 8], [62, 5468812, 12500, 8], [63, 5594048, 12500, 8], [64, 5718915, 12500, 8], [65, 5843927, 12500, 8], [66, 5968834, 12500, 8], [67, 6093979, 12500, 8], [68, 6218945, 12500, 8], [69, 6343943, 12500, 8], [70, 6469038, 12500, 8], [71, 6593930, 12500, 8], [72, 6718918, 12500, 8], [73, 6843822, 12500, 8], [74, 6968807, 12500, 8], [75, 7093976, 12500, 8], [77, 7218879, 12500, 8], [78, 7344095, 12500, 8], [79, 7468952, 12500, 8], [81, 7593894, 12500, 8], [82, 7718849, 12500, 8], [83, 7843818, 12500, 8], [84, 7968764, 12500, 8], [85, 8094096, 12500, 8], [86, 8218864, 12500, 8], [87, 8343827, 12500, 8], [88, 8468944, 12500, 8], [89, 8593933, 12500, 8], [90, 8718951, 12500, 8], [91, 8844028, 12500, 8], [92, 8968814, 12500, 8], [93, 9093872, 12500, 8], [94, 9218832, 12500, 8], [95, 9343924, 12500, 8], [96, 9468790, 12500, 8], [97, 9593949, 12500, 8], [98, 9718827, 12500, 8], [99, 9843934, 12500, 8], [100, 9969008, 12500, 8], [101, 10094078, 12500, 8], [102, 10218972, 12500, 8], [103, 10343918, 12500, 8], [104, 10468851, 12500, 8], [105, 10593877, 12500, 8], [106, 10718963, 12500, 8], [107, 10844047, 12500, 8], [108, 10968830, 12500, 8], [109, 11093820, 12500, 8], [110, 11218906, 12500, 8], [111, 11343854, 12500, 8], [112, 11468990, 12500, 8], [113, 11593918, 12500, 8], [114, 11718926, 12500, 8], [115, 11843956, 12500, 8], [116, 11968803, 12500, 8], [117, 12093904, 12500, 8]]\n"
     ]
    }
   ],
   "source": [
    "print(event_information[:-3])\n",
    "e_dtype = np.dtype(wdtype.descr[:-1])\n",
    "df = pd.DataFrame(event_information, columns=e_dtype.names)\n",
    "df_data = pd.DataFrame(testing)"
   ]
  },
  {
   "cell_type": "code",
   "execution_count": 48,
   "metadata": {},
   "outputs": [
    {
     "name": "stdout",
     "output_type": "stream",
     "text": [
      "0    [0.512, 0.128, 0.512, 0.128, 0.576, 0.448, 0.0...\n",
      "Name: 0, dtype: object\n"
     ]
    }
   ],
   "source": [
    "print(df_data.iloc[0])"
   ]
  },
  {
   "cell_type": "code",
   "execution_count": 42,
   "metadata": {},
   "outputs": [
    {
     "name": "stdout",
     "output_type": "stream",
     "text": [
      "    Event number  Timestamp  Samples  Sampling Period\n",
      "0              0      94024    12500                8\n",
      "1              1     219046    12500                8\n",
      "2              2     343935    12500                8\n",
      "3              3     468850    12500                8\n",
      "4              4     593825    12500                8\n",
      "..           ...        ...      ...              ...\n",
      "95           116   11968803    12500                8\n",
      "96           117   12093904    12500                8\n",
      "97           118   12218787    12500                8\n",
      "98           119   12344018    12500                8\n",
      "99           120   12468958    12500                8\n",
      "\n",
      "[100 rows x 4 columns]\n",
      "                                                    0\n",
      "0   [0.512, 0.128, 0.512, 0.128, 0.576, 0.448, 0.0...\n",
      "1   [-0.064, 0.32, -0.064, 0.256, 0.128, 0.256, 0....\n",
      "2   [0.128, 0.064, 0.32, -0.32, 0.0, -0.064, 0.256...\n",
      "3   [0.256, 0.256, 0.064, 0.0, -0.128, -0.448, 0.1...\n",
      "4   [0.128, 0.192, 0.32, 0.64, 0.704, 0.256, 0.192...\n",
      "..                                                ...\n",
      "77  [-0.064, 0.0, 0.256, 0.128, -0.192, 0.0, -0.19...\n",
      "78  [0.32, 0.256, 0.256, 0.64, 0.32, 0.192, 0.32, ...\n",
      "79  [0.128, 0.064, 0.32, 0.128, 0.192, -0.128, 0.0...\n",
      "80  [0.32, 0.064, 0.064, 0.576, 0.064, 0.256, -0.3...\n",
      "81  [0.32, 0.256, 0.32, 0.32, 0.256, 0.448, -0.064...\n",
      "\n",
      "[82 rows x 1 columns]\n"
     ]
    },
    {
     "data": {
      "text/html": [
       "<div>\n",
       "<style scoped>\n",
       "    .dataframe tbody tr th:only-of-type {\n",
       "        vertical-align: middle;\n",
       "    }\n",
       "\n",
       "    .dataframe tbody tr th {\n",
       "        vertical-align: top;\n",
       "    }\n",
       "\n",
       "    .dataframe thead th {\n",
       "        text-align: right;\n",
       "    }\n",
       "</style>\n",
       "<table border=\"1\" class=\"dataframe\">\n",
       "  <thead>\n",
       "    <tr style=\"text-align: right;\">\n",
       "      <th></th>\n",
       "      <th>0</th>\n",
       "    </tr>\n",
       "  </thead>\n",
       "  <tbody>\n",
       "    <tr>\n",
       "      <th>0</th>\n",
       "      <td>[0.512, 0.128, 0.512, 0.128, 0.576, 0.448, 0.0...</td>\n",
       "    </tr>\n",
       "    <tr>\n",
       "      <th>1</th>\n",
       "      <td>[-0.064, 0.32, -0.064, 0.256, 0.128, 0.256, 0....</td>\n",
       "    </tr>\n",
       "    <tr>\n",
       "      <th>2</th>\n",
       "      <td>[0.128, 0.064, 0.32, -0.32, 0.0, -0.064, 0.256...</td>\n",
       "    </tr>\n",
       "    <tr>\n",
       "      <th>3</th>\n",
       "      <td>[0.256, 0.256, 0.064, 0.0, -0.128, -0.448, 0.1...</td>\n",
       "    </tr>\n",
       "    <tr>\n",
       "      <th>4</th>\n",
       "      <td>[0.128, 0.192, 0.32, 0.64, 0.704, 0.256, 0.192...</td>\n",
       "    </tr>\n",
       "    <tr>\n",
       "      <th>...</th>\n",
       "      <td>...</td>\n",
       "    </tr>\n",
       "    <tr>\n",
       "      <th>77</th>\n",
       "      <td>[-0.064, 0.0, 0.256, 0.128, -0.192, 0.0, -0.19...</td>\n",
       "    </tr>\n",
       "    <tr>\n",
       "      <th>78</th>\n",
       "      <td>[0.32, 0.256, 0.256, 0.64, 0.32, 0.192, 0.32, ...</td>\n",
       "    </tr>\n",
       "    <tr>\n",
       "      <th>79</th>\n",
       "      <td>[0.128, 0.064, 0.32, 0.128, 0.192, -0.128, 0.0...</td>\n",
       "    </tr>\n",
       "    <tr>\n",
       "      <th>80</th>\n",
       "      <td>[0.32, 0.064, 0.064, 0.576, 0.064, 0.256, -0.3...</td>\n",
       "    </tr>\n",
       "    <tr>\n",
       "      <th>81</th>\n",
       "      <td>[0.32, 0.256, 0.32, 0.32, 0.256, 0.448, -0.064...</td>\n",
       "    </tr>\n",
       "  </tbody>\n",
       "</table>\n",
       "<p>82 rows × 1 columns</p>\n",
       "</div>"
      ],
      "text/plain": [
       "                                                    0\n",
       "0   [0.512, 0.128, 0.512, 0.128, 0.576, 0.448, 0.0...\n",
       "1   [-0.064, 0.32, -0.064, 0.256, 0.128, 0.256, 0....\n",
       "2   [0.128, 0.064, 0.32, -0.32, 0.0, -0.064, 0.256...\n",
       "3   [0.256, 0.256, 0.064, 0.0, -0.128, -0.448, 0.1...\n",
       "4   [0.128, 0.192, 0.32, 0.64, 0.704, 0.256, 0.192...\n",
       "..                                                ...\n",
       "77  [-0.064, 0.0, 0.256, 0.128, -0.192, 0.0, -0.19...\n",
       "78  [0.32, 0.256, 0.256, 0.64, 0.32, 0.192, 0.32, ...\n",
       "79  [0.128, 0.064, 0.32, 0.128, 0.192, -0.128, 0.0...\n",
       "80  [0.32, 0.064, 0.064, 0.576, 0.064, 0.256, -0.3...\n",
       "81  [0.32, 0.256, 0.32, 0.32, 0.256, 0.448, -0.064...\n",
       "\n",
       "[82 rows x 1 columns]"
      ]
     },
     "metadata": {},
     "output_type": "display_data"
    }
   ],
   "source": [
    "print(df)\n",
    "print(df_data)\n",
    "display(df_data)"
   ]
  },
  {
   "cell_type": "code",
   "execution_count": 229,
   "metadata": {},
   "outputs": [
    {
     "name": "stdout",
     "output_type": "stream",
     "text": [
      "12500\n",
      "[-0.256 -0.384 -0.128 ... -0.064 -0.384 -0.32 ]\n"
     ]
    }
   ],
   "source": [
    "print(len(testing_1chan[0][0]))\n",
    "print(testing_1chan[2][0])"
   ]
  },
  {
   "cell_type": "code",
   "execution_count": 32,
   "metadata": {},
   "outputs": [
    {
     "name": "stdout",
     "output_type": "stream",
     "text": [
      "[ 0.    -0.576 -0.384 ... -0.384 -0.32  -0.256]\n"
     ]
    },
    {
     "ename": "NameError",
     "evalue": "name 'testing' is not defined",
     "output_type": "error",
     "traceback": [
      "\u001b[0;31m---------------------------------------------------------------------------\u001b[0m",
      "\u001b[0;31mNameError\u001b[0m                                 Traceback (most recent call last)",
      "Cell \u001b[0;32mIn[32], line 2\u001b[0m\n\u001b[1;32m      1\u001b[0m \u001b[38;5;28mprint\u001b[39m(testing_1chan[\u001b[38;5;241m0\u001b[39m][\u001b[38;5;241m0\u001b[39m])\n\u001b[0;32m----> 2\u001b[0m \u001b[38;5;28mprint\u001b[39m(testing[\u001b[38;5;241m0\u001b[39m][\u001b[38;5;241m0\u001b[39m][:\u001b[38;5;241m4\u001b[39m], testing[\u001b[38;5;241m0\u001b[39m][\u001b[38;5;241m1\u001b[39m][:\u001b[38;5;241m4\u001b[39m], testing[\u001b[38;5;241m0\u001b[39m][\u001b[38;5;241m2\u001b[39m][:\u001b[38;5;241m4\u001b[39m])\n\u001b[1;32m      3\u001b[0m \u001b[38;5;28mprint\u001b[39m(np\u001b[38;5;241m.\u001b[39marray(testing)[\u001b[38;5;241m0\u001b[39m][\u001b[38;5;241m0\u001b[39m])\n",
      "\u001b[0;31mNameError\u001b[0m: name 'testing' is not defined"
     ]
    }
   ],
   "source": [
    "print(testing_1chan[0][0])\n",
    "print(testing[0][0][:4], testing[0][1][:4], testing[0][2][:4])\n",
    "print(np.array(testing)[0][0])"
   ]
  },
  {
   "cell_type": "markdown",
   "metadata": {},
   "source": []
  },
  {
   "cell_type": "markdown",
   "metadata": {},
   "source": [
    "you then need to separate each section appropriately to be dataframe'd"
   ]
  },
  {
   "cell_type": "code",
   "execution_count": 195,
   "metadata": {},
   "outputs": [
    {
     "name": "stdout",
     "output_type": "stream",
     "text": [
      "0\n",
      "1\n",
      "2\n",
      "3\n"
     ]
    }
   ],
   "source": [
    "for i in range(0,4):\n",
    "    print(i)"
   ]
  },
  {
   "cell_type": "code",
   "execution_count": 180,
   "metadata": {},
   "outputs": [
    {
     "name": "stdout",
     "output_type": "stream",
     "text": [
      "(0, 94024, 12500, 8, [ 0.   , -0.576, -0.384, ..., -0.384, -0.32 , -0.256])\n",
      "(1, 219046, 12500, 8, [-0.512, -0.768, -0.192, ..., -0.704, -0.384, -0.512])\n"
     ]
    }
   ],
   "source": [
    "print(data[0])\n",
    "print(data[1])\n",
    "\n",
    "#for i in range(0,100):\n",
    "#    print(data[i])\n",
    "#data[0][-1]\n",
    "#print(data[0][4:])"
   ]
  },
  {
   "cell_type": "code",
   "execution_count": 15,
   "metadata": {},
   "outputs": [
    {
     "ename": "ValueError",
     "evalue": "Data must be 1-dimensional, got ndarray of shape (99, 12500) instead",
     "output_type": "error",
     "traceback": [
      "\u001b[0;31m---------------------------------------------------------------------------\u001b[0m",
      "\u001b[0;31mValueError\u001b[0m                                Traceback (most recent call last)",
      "Cell \u001b[0;32mIn[15], line 1\u001b[0m\n\u001b[0;32m----> 1\u001b[0m df \u001b[38;5;241m=\u001b[39m pd\u001b[38;5;241m.\u001b[39mDataFrame(data, columns \u001b[38;5;241m=\u001b[39m data\u001b[38;5;241m.\u001b[39mdtype\u001b[38;5;241m.\u001b[39mnames)\n",
      "File \u001b[0;32m~/anaconda3/envs/MULE-3.12-10-24/lib/python3.12/site-packages/pandas/core/frame.py:805\u001b[0m, in \u001b[0;36mDataFrame.__init__\u001b[0;34m(self, data, index, columns, dtype, copy)\u001b[0m\n\u001b[1;32m    802\u001b[0m \u001b[38;5;28;01mif\u001b[39;00m data\u001b[38;5;241m.\u001b[39mdtype\u001b[38;5;241m.\u001b[39mnames:\n\u001b[1;32m    803\u001b[0m     \u001b[38;5;66;03m# i.e. numpy structured array\u001b[39;00m\n\u001b[1;32m    804\u001b[0m     data \u001b[38;5;241m=\u001b[39m cast(np\u001b[38;5;241m.\u001b[39mndarray, data)\n\u001b[0;32m--> 805\u001b[0m     mgr \u001b[38;5;241m=\u001b[39m rec_array_to_mgr(\n\u001b[1;32m    806\u001b[0m         data,\n\u001b[1;32m    807\u001b[0m         index,\n\u001b[1;32m    808\u001b[0m         columns,\n\u001b[1;32m    809\u001b[0m         dtype,\n\u001b[1;32m    810\u001b[0m         copy,\n\u001b[1;32m    811\u001b[0m         typ\u001b[38;5;241m=\u001b[39mmanager,\n\u001b[1;32m    812\u001b[0m     )\n\u001b[1;32m    813\u001b[0m \u001b[38;5;28;01melif\u001b[39;00m \u001b[38;5;28mgetattr\u001b[39m(data, \u001b[38;5;124m\"\u001b[39m\u001b[38;5;124mname\u001b[39m\u001b[38;5;124m\"\u001b[39m, \u001b[38;5;28;01mNone\u001b[39;00m) \u001b[38;5;129;01mis\u001b[39;00m \u001b[38;5;129;01mnot\u001b[39;00m \u001b[38;5;28;01mNone\u001b[39;00m:\n\u001b[1;32m    814\u001b[0m     \u001b[38;5;66;03m# i.e. Series/Index with non-None name\u001b[39;00m\n\u001b[1;32m    815\u001b[0m     _copy \u001b[38;5;241m=\u001b[39m copy \u001b[38;5;28;01mif\u001b[39;00m using_copy_on_write() \u001b[38;5;28;01melse\u001b[39;00m \u001b[38;5;28;01mTrue\u001b[39;00m\n",
      "File \u001b[0;32m~/anaconda3/envs/MULE-3.12-10-24/lib/python3.12/site-packages/pandas/core/internals/construction.py:189\u001b[0m, in \u001b[0;36mrec_array_to_mgr\u001b[0;34m(data, index, columns, dtype, copy, typ)\u001b[0m\n\u001b[1;32m    186\u001b[0m \u001b[38;5;28;01mif\u001b[39;00m columns \u001b[38;5;129;01mis\u001b[39;00m \u001b[38;5;28;01mNone\u001b[39;00m:\n\u001b[1;32m    187\u001b[0m     columns \u001b[38;5;241m=\u001b[39m arr_columns\n\u001b[0;32m--> 189\u001b[0m mgr \u001b[38;5;241m=\u001b[39m arrays_to_mgr(arrays, columns, index, dtype\u001b[38;5;241m=\u001b[39mdtype, typ\u001b[38;5;241m=\u001b[39mtyp)\n\u001b[1;32m    191\u001b[0m \u001b[38;5;28;01mif\u001b[39;00m copy:\n\u001b[1;32m    192\u001b[0m     mgr \u001b[38;5;241m=\u001b[39m mgr\u001b[38;5;241m.\u001b[39mcopy()\n",
      "File \u001b[0;32m~/anaconda3/envs/MULE-3.12-10-24/lib/python3.12/site-packages/pandas/core/internals/construction.py:119\u001b[0m, in \u001b[0;36marrays_to_mgr\u001b[0;34m(arrays, columns, index, dtype, verify_integrity, typ, consolidate)\u001b[0m\n\u001b[1;32m    116\u001b[0m         index \u001b[38;5;241m=\u001b[39m ensure_index(index)\n\u001b[1;32m    118\u001b[0m     \u001b[38;5;66;03m# don't force copy because getting jammed in an ndarray anyway\u001b[39;00m\n\u001b[0;32m--> 119\u001b[0m     arrays, refs \u001b[38;5;241m=\u001b[39m _homogenize(arrays, index, dtype)\n\u001b[1;32m    120\u001b[0m     \u001b[38;5;66;03m# _homogenize ensures\u001b[39;00m\n\u001b[1;32m    121\u001b[0m     \u001b[38;5;66;03m#  - all(len(x) == len(index) for x in arrays)\u001b[39;00m\n\u001b[1;32m    122\u001b[0m     \u001b[38;5;66;03m#  - all(x.ndim == 1 for x in arrays)\u001b[39;00m\n\u001b[0;32m   (...)\u001b[0m\n\u001b[1;32m    125\u001b[0m \n\u001b[1;32m    126\u001b[0m \u001b[38;5;28;01melse\u001b[39;00m:\n\u001b[1;32m    127\u001b[0m     index \u001b[38;5;241m=\u001b[39m ensure_index(index)\n",
      "File \u001b[0;32m~/anaconda3/envs/MULE-3.12-10-24/lib/python3.12/site-packages/pandas/core/internals/construction.py:629\u001b[0m, in \u001b[0;36m_homogenize\u001b[0;34m(data, index, dtype)\u001b[0m\n\u001b[1;32m    626\u001b[0m         val \u001b[38;5;241m=\u001b[39m \u001b[38;5;28mdict\u001b[39m(val)\n\u001b[1;32m    627\u001b[0m     val \u001b[38;5;241m=\u001b[39m lib\u001b[38;5;241m.\u001b[39mfast_multiget(val, oindex\u001b[38;5;241m.\u001b[39m_values, default\u001b[38;5;241m=\u001b[39mnp\u001b[38;5;241m.\u001b[39mnan)\n\u001b[0;32m--> 629\u001b[0m val \u001b[38;5;241m=\u001b[39m sanitize_array(val, index, dtype\u001b[38;5;241m=\u001b[39mdtype, copy\u001b[38;5;241m=\u001b[39m\u001b[38;5;28;01mFalse\u001b[39;00m)\n\u001b[1;32m    630\u001b[0m com\u001b[38;5;241m.\u001b[39mrequire_length_match(val, index)\n\u001b[1;32m    631\u001b[0m refs\u001b[38;5;241m.\u001b[39mappend(\u001b[38;5;28;01mNone\u001b[39;00m)\n",
      "File \u001b[0;32m~/anaconda3/envs/MULE-3.12-10-24/lib/python3.12/site-packages/pandas/core/construction.py:659\u001b[0m, in \u001b[0;36msanitize_array\u001b[0;34m(data, index, dtype, copy, allow_2d)\u001b[0m\n\u001b[1;32m    656\u001b[0m             subarr \u001b[38;5;241m=\u001b[39m cast(np\u001b[38;5;241m.\u001b[39mndarray, subarr)\n\u001b[1;32m    657\u001b[0m             subarr \u001b[38;5;241m=\u001b[39m maybe_infer_to_datetimelike(subarr)\n\u001b[0;32m--> 659\u001b[0m subarr \u001b[38;5;241m=\u001b[39m _sanitize_ndim(subarr, data, dtype, index, allow_2d\u001b[38;5;241m=\u001b[39mallow_2d)\n\u001b[1;32m    661\u001b[0m \u001b[38;5;28;01mif\u001b[39;00m \u001b[38;5;28misinstance\u001b[39m(subarr, np\u001b[38;5;241m.\u001b[39mndarray):\n\u001b[1;32m    662\u001b[0m     \u001b[38;5;66;03m# at this point we should have dtype be None or subarr.dtype == dtype\u001b[39;00m\n\u001b[1;32m    663\u001b[0m     dtype \u001b[38;5;241m=\u001b[39m cast(np\u001b[38;5;241m.\u001b[39mdtype, dtype)\n",
      "File \u001b[0;32m~/anaconda3/envs/MULE-3.12-10-24/lib/python3.12/site-packages/pandas/core/construction.py:718\u001b[0m, in \u001b[0;36m_sanitize_ndim\u001b[0;34m(result, data, dtype, index, allow_2d)\u001b[0m\n\u001b[1;32m    716\u001b[0m     \u001b[38;5;28;01mif\u001b[39;00m allow_2d:\n\u001b[1;32m    717\u001b[0m         \u001b[38;5;28;01mreturn\u001b[39;00m result\n\u001b[0;32m--> 718\u001b[0m     \u001b[38;5;28;01mraise\u001b[39;00m \u001b[38;5;167;01mValueError\u001b[39;00m(\n\u001b[1;32m    719\u001b[0m         \u001b[38;5;124mf\u001b[39m\u001b[38;5;124m\"\u001b[39m\u001b[38;5;124mData must be 1-dimensional, got ndarray of shape \u001b[39m\u001b[38;5;132;01m{\u001b[39;00mdata\u001b[38;5;241m.\u001b[39mshape\u001b[38;5;132;01m}\u001b[39;00m\u001b[38;5;124m instead\u001b[39m\u001b[38;5;124m\"\u001b[39m\n\u001b[1;32m    720\u001b[0m     )\n\u001b[1;32m    721\u001b[0m \u001b[38;5;28;01mif\u001b[39;00m is_object_dtype(dtype) \u001b[38;5;129;01mand\u001b[39;00m \u001b[38;5;28misinstance\u001b[39m(dtype, ExtensionDtype):\n\u001b[1;32m    722\u001b[0m     \u001b[38;5;66;03m# i.e. NumpyEADtype(\"O\")\u001b[39;00m\n\u001b[1;32m    724\u001b[0m     result \u001b[38;5;241m=\u001b[39m com\u001b[38;5;241m.\u001b[39masarray_tuplesafe(data, dtype\u001b[38;5;241m=\u001b[39mnp\u001b[38;5;241m.\u001b[39mdtype(\u001b[38;5;124m\"\u001b[39m\u001b[38;5;124mobject\u001b[39m\u001b[38;5;124m\"\u001b[39m))\n",
      "\u001b[0;31mValueError\u001b[0m: Data must be 1-dimensional, got ndarray of shape (99, 12500) instead"
     ]
    }
   ],
   "source": [
    "df = pd.DataFrame(data, columns = e_dtype.names)"
   ]
  },
  {
   "cell_type": "code",
   "execution_count": 12,
   "metadata": {},
   "outputs": [
    {
     "data": {
      "text/html": [
       "<div>\n",
       "<style scoped>\n",
       "    .dataframe tbody tr th:only-of-type {\n",
       "        vertical-align: middle;\n",
       "    }\n",
       "\n",
       "    .dataframe tbody tr th {\n",
       "        vertical-align: top;\n",
       "    }\n",
       "\n",
       "    .dataframe thead th {\n",
       "        text-align: right;\n",
       "    }\n",
       "</style>\n",
       "<table border=\"1\" class=\"dataframe\">\n",
       "  <thead>\n",
       "    <tr style=\"text-align: right;\">\n",
       "      <th></th>\n",
       "      <th>Event number</th>\n",
       "      <th>Timestamp</th>\n",
       "      <th>Samples</th>\n",
       "      <th>Sampling Period</th>\n",
       "      <th>Channels</th>\n",
       "      <th>data</th>\n",
       "    </tr>\n",
       "  </thead>\n",
       "  <tbody>\n",
       "  </tbody>\n",
       "</table>\n",
       "</div>"
      ],
      "text/plain": [
       "Empty DataFrame\n",
       "Columns: [Event number, Timestamp, Samples, Sampling Period, Channels, data]\n",
       "Index: []"
      ]
     },
     "metadata": {},
     "output_type": "display_data"
    }
   ],
   "source": [
    "display(df)"
   ]
  },
  {
   "cell_type": "code",
   "execution_count": null,
   "metadata": {},
   "outputs": [],
   "source": []
  },
  {
   "cell_type": "code",
   "execution_count": null,
   "metadata": {},
   "outputs": [],
   "source": []
  },
  {
   "cell_type": "markdown",
   "metadata": {},
   "source": [
    "### lets try making the header reader dynamic"
   ]
  },
  {
   "cell_type": "code",
   "execution_count": 8,
   "metadata": {},
   "outputs": [
    {
     "name": "stdout",
     "output_type": "stream",
     "text": [
      "Fixed header values:\n",
      "[(0, 94024, 12500, 8)]\n",
      "Optional signed int64: 0\n"
     ]
    }
   ],
   "source": [
    "import struct\n",
    "\n",
    "fileName = 'test_data.bin'\n",
    "\n",
    "\n",
    "# Define the fixed part of the header: uint32, uint64, uint32, uint64\n",
    "fixed_header_dtype = np.dtype([\n",
    "    ('uint32_1', np.uint32),\n",
    "    ('uint64_1', np.uint64),\n",
    "    ('uint32_2', np.uint32),\n",
    "    ('uint64_2', np.uint64)\n",
    "])\n",
    "\n",
    "    # Define the optional signed int64\n",
    "optional_header_dtype = np.dtype([\n",
    "    ('int64_optional', np.int32)\n",
    "])\n",
    "\n",
    "with open(fileName, 'rb') as f:\n",
    "    fixed_header = np.fromfile(f, dtype=fixed_header_dtype, count=1)\n",
    "    print(\"Fixed header values:\")\n",
    "    print(fixed_header)\n",
    "\n",
    "    # Check if there's enough data left for the optional int64\n",
    "    optional_data = f.read(optional_header_dtype.itemsize)\n",
    "\n",
    "    if len(optional_data) == optional_header_dtype.itemsize:\n",
    "        # If we successfully read 8 bytes, interpret it as the optional int64\n",
    "        f.seek(-optional_header_dtype.itemsize, 1)  # Move back to the start of the optional field\n",
    "        optional_header = np.fromfile(f, dtype=optional_header_dtype, count=1)\n",
    "        print(\"Optional signed int64:\", optional_header['int64_optional'][0])\n",
    "        header_size = fixed_header_dtype.itemsize + optional_header_dtype.itemsize\n",
    "    else:\n",
    "        print(\"No optional signed int64 found.\")\n",
    "        optional_header = None\n",
    "        header_size = fixed_header_dtype.itemsize"
   ]
  },
  {
   "cell_type": "code",
   "execution_count": 60,
   "metadata": {},
   "outputs": [],
   "source": [
    "file.close()"
   ]
  },
  {
   "cell_type": "code",
   "execution_count": 77,
   "metadata": {},
   "outputs": [],
   "source": [
    "fileNamethree = 'three_channels.bin'\n",
    "\n",
    "filethree = open(fileNamethree, 'rb')\n",
    "datathree = []"
   ]
  },
  {
   "cell_type": "code",
   "execution_count": null,
   "metadata": {},
   "outputs": [],
   "source": []
  },
  {
   "cell_type": "code",
   "execution_count": 78,
   "metadata": {},
   "outputs": [
    {
     "name": "stdout",
     "output_type": "stream",
     "text": [
      "[('Event number', '<u4'), ('Timestamp', '<u8'), ('Samples', '<u4'), ('Sampling Period', '<u8'), ('Channels', '<i4'), ('data1', '<f4', (1000,)), ('data2', '<f4', (1000,)), ('data3', '<f4', (1000,))]\n"
     ]
    },
    {
     "data": {
      "text/plain": [
       "\"wdtypethree = np.dtype([\\n        ('Event number', np.uint32), \\n        ('Timestamp', np.uint64), \\n        ('Samples', np.uint32), \\n        ('Sampling Period', np.uint64), \\n        ('Channels', np.int32),     # this is removed if 'one file per channel' is selected\\n        ] + [(f'channel_{i+1}', np.float32, (1000,)) for i in range(0,3)])\\nprint(wdtypethree)\""
      ]
     },
     "execution_count": 78,
     "metadata": {},
     "output_type": "execute_result"
    }
   ],
   "source": [
    "import numpy as np\n",
    "wdtypethree = np.dtype([\n",
    "        ('Event number', np.uint32), \n",
    "        ('Timestamp', np.uint64), \n",
    "        ('Samples', np.uint32), \n",
    "        ('Sampling Period', np.uint64), \n",
    "        ('Channels', np.int32),     # this is removed if 'one file per channel' is selected\n",
    "        ('data1', np.float32, (1000,)),\n",
    "        ('data2', np.float32, (1000,)),\n",
    "        ('data3', np.float32, (1000,)),\n",
    "        ])\n",
    "\n",
    "print(wdtypethree)\n",
    "'''wdtypethree = np.dtype([\n",
    "        ('Event number', np.uint32), \n",
    "        ('Timestamp', np.uint64), \n",
    "        ('Samples', np.uint32), \n",
    "        ('Sampling Period', np.uint64), \n",
    "        ('Channels', np.int32),     # this is removed if 'one file per channel' is selected\n",
    "        ] + [(f'channel_{i+1}', np.float32, (1000,)) for i in range(0,3)])\n",
    "print(wdtypethree)'''"
   ]
  },
  {
   "cell_type": "code",
   "execution_count": 79,
   "metadata": {},
   "outputs": [],
   "source": [
    "datathree = np.fromfile(filethree, dtype=wdtypethree)"
   ]
  },
  {
   "cell_type": "code",
   "execution_count": 80,
   "metadata": {},
   "outputs": [
    {
     "name": "stdout",
     "output_type": "stream",
     "text": [
      "82\n",
      "1\n",
      "2\n",
      "3\n",
      "\n",
      "1\n",
      "\n",
      "3\n",
      "2\n",
      "1\n",
      "\n"
     ]
    }
   ],
   "source": [
    "print(len(datathree))\n",
    "for i in range(1, 4):\n",
    "    print(i)\n",
    "print(\"\")\n",
    "for i in range(1, 2):\n",
    "    print(i)\n",
    "\n",
    "print(\"\")\n",
    "for i in reversed(range(1, 4)):\n",
    "    print(i)\n",
    "print(\"\")\n"
   ]
  },
  {
   "cell_type": "code",
   "execution_count": 13,
   "metadata": {},
   "outputs": [
    {
     "name": "stdout",
     "output_type": "stream",
     "text": [
      "(('Event number', '<u4'), ('Channels', '<i4'), [('data1', '<f4', (1000,)), ('data2', '<f4', (1000,)), ('data3', '<f4', (1000,))])\n"
     ]
    }
   ],
   "source": [
    "channels = 3\n",
    "print((wdtypethree.descr[0],wdtypethree.descr[-(channels+1)],wdtypethree.descr[-channels:]))"
   ]
  },
  {
   "cell_type": "code",
   "execution_count": 10,
   "metadata": {},
   "outputs": [
    {
     "ename": "TypeError",
     "evalue": "Too many arguments for numpy.dtype",
     "output_type": "error",
     "traceback": [
      "\u001b[0;31m---------------------------------------------------------------------------\u001b[0m",
      "\u001b[0;31mTypeError\u001b[0m                                 Traceback (most recent call last)",
      "Cell \u001b[0;32mIn[10], line 1\u001b[0m\n\u001b[0;32m----> 1\u001b[0m new_type \u001b[38;5;241m=\u001b[39m np\u001b[38;5;241m.\u001b[39mdtype[(wdtypethree\u001b[38;5;241m.\u001b[39mdescr[\u001b[38;5;241m0\u001b[39m],wdtypethree\u001b[38;5;241m.\u001b[39mdescr[\u001b[38;5;241m-\u001b[39m\u001b[38;5;241m2\u001b[39m],wdtypethree\u001b[38;5;241m.\u001b[39mdescr[\u001b[38;5;241m-\u001b[39m\u001b[38;5;241m1\u001b[39m])]\n\u001b[1;32m      2\u001b[0m \u001b[38;5;28mprint\u001b[39m(new_type)\n",
      "\u001b[0;31mTypeError\u001b[0m: Too many arguments for numpy.dtype"
     ]
    }
   ],
   "source": [
    "new_type = np.dtype[(wdtypethree.descr[0],wdtypethree.descr[-2],wdtypethree.descr[-1])]\n",
    "print(new_type)"
   ]
  },
  {
   "cell_type": "code",
   "execution_count": null,
   "metadata": {},
   "outputs": [],
   "source": [
    "rwf_dtype = np.dtype([\n",
    "        ('event_number', np.uint32), \n",
    "        ('channels', np.int32),\n",
    "        ('rwf', np.float32, (samples,))\n",
    "])"
   ]
  },
  {
   "cell_type": "code",
   "execution_count": 5,
   "metadata": {},
   "outputs": [
    {
     "name": "stdout",
     "output_type": "stream",
     "text": [
      "82\n"
     ]
    }
   ],
   "source": [
    "print(len(datathree))"
   ]
  },
  {
   "cell_type": "code",
   "execution_count": 73,
   "metadata": {},
   "outputs": [
    {
     "name": "stdout",
     "output_type": "stream",
     "text": [
      "================================\n",
      "1000\n"
     ]
    }
   ],
   "source": [
    "channel_no = 3\n",
    "\n",
    "#print(datathree[0])\n",
    "#print(list(datathree[0])[-channel_no:])\n",
    "\n",
    "# create new list that consists of: event number, channel number, waveform in rest of data.\n",
    "\n",
    "q = [[(datathree[j][0], datathree[j][4] - i, list(datathree[j])[-i:][0]) for i in reversed(range(1, channel_no+1))] for j in range(len(datathree))]\n",
    "print(\"================================\")\n",
    "print(len(q[1][1][2]))"
   ]
  },
  {
   "cell_type": "code",
   "execution_count": 74,
   "metadata": {},
   "outputs": [
    {
     "name": "stdout",
     "output_type": "stream",
     "text": [
      "3\n",
      "[(0, 0, array([ 0.   , -0.384,  0.192, -0.384, -0.256, -0.512, -0.064, -0.32 ,\n",
      "        0.064, -0.128,  0.128,  0.512,  0.128, -0.064,  0.128,  0.   ,\n",
      "        0.192, -0.192,  0.   , -0.32 ,  0.256, -0.32 ,  0.256, -0.064,\n",
      "        0.   ,  0.192, -0.128, -0.128,  0.192, -0.128,  0.512,  0.32 ,\n",
      "        0.256,  0.   ,  0.32 , -0.128,  0.192, -0.128,  0.192, -0.128,\n",
      "       -0.064, -0.064,  0.   , -0.448, -0.192, -0.128,  0.256, -0.32 ,\n",
      "        0.   , -0.576, -0.256, -0.256,  0.32 , -0.128,  0.   ,  0.064,\n",
      "        0.384, -0.192, -0.064,  0.064,  0.512,  0.192,  0.256,  0.32 ,\n",
      "        0.32 , -0.064,  0.32 , -0.128, -0.064, -0.512, -0.192, -0.256,\n",
      "        0.   , -0.32 , -0.256, -0.384, -0.128, -0.064,  0.   ,  0.   ,\n",
      "        0.128, -0.128,  0.256, -0.064, -0.064, -0.192,  0.512, -0.064,\n",
      "        0.256,  0.32 ,  0.128,  0.   ,  0.192,  0.   , -0.128, -0.576,\n",
      "       -0.192, -0.384,  0.   ,  0.   ,  0.128, -0.128,  0.64 , -0.064,\n",
      "        0.256,  0.192,  0.128, -0.512, -0.512, -0.704,  0.   , -0.128,\n",
      "        0.32 ,  0.192,  0.192, -0.064,  0.256, -0.256,  0.256, -0.064,\n",
      "        0.192, -0.256,  0.064, -0.32 , -0.064, -0.576, -0.064, -0.192,\n",
      "        0.256, -0.32 , -0.064, -0.128,  0.256, -0.32 ,  0.192,  0.192,\n",
      "        0.512,  0.32 ,  0.256, -0.192,  0.   , -0.064,  0.128, -0.512,\n",
      "        0.   ,  0.064,  0.32 , -0.32 ,  0.064,  0.192,  0.256, -0.32 ,\n",
      "        0.   ,  0.064,  0.256, -0.128,  0.   , -0.064,  0.   , -0.064,\n",
      "       -0.384, -0.32 ,  0.128,  0.192,  0.   ,  0.   ,  0.128,  0.192,\n",
      "        0.256, -0.064,  0.256,  0.32 ,  0.128,  0.32 ,  0.768,  0.384,\n",
      "        0.448,  0.32 ,  0.576,  0.512,  0.512,  0.128,  0.192, -0.128,\n",
      "        0.256, -0.064,  0.384, -0.192,  0.064, -0.32 ,  0.256,  0.32 ,\n",
      "        0.256,  0.32 ,  0.32 ,  0.32 ,  0.32 ,  0.192,  0.512,  0.128,\n",
      "        0.192,  0.32 ,  0.32 , -0.128,  0.32 ,  0.192, -0.064,  0.128,\n",
      "        0.256, -0.128,  0.128, -0.32 , -0.128, -0.64 , -0.064,  0.   ,\n",
      "        0.32 ,  0.384,  0.256,  0.384,  0.32 ,  0.   ,  0.128, -0.064,\n",
      "        0.064, -0.128,  0.256, -0.32 ,  0.384, -0.256,  0.192, -0.256,\n",
      "        0.   , -0.128,  0.064, -0.256,  0.256, -0.128,  0.   , -0.256,\n",
      "       -0.064, -0.448, -0.192, -0.32 , -0.192, -0.256,  0.256,  0.32 ,\n",
      "        0.512,  0.192,  0.256,  0.32 ,  0.32 , -0.128,  0.128,  0.   ,\n",
      "        0.32 ,  0.32 ,  0.256, -0.064,  0.256, -0.256,  0.256, -0.064,\n",
      "        0.32 , -0.192,  0.192, -0.256,  0.256, -0.064,  0.512,  0.192,\n",
      "        0.   , -0.064,  0.128, -0.192,  0.384,  0.   ,  0.384, -0.064,\n",
      "        0.704,  0.   ,  0.256, -0.192, -0.192, -0.128,  0.192, -0.064,\n",
      "        0.32 , -0.064, -0.064,  0.   , -0.192, -0.448,  0.256, -0.256,\n",
      "        0.32 ,  0.192,  0.32 ,  0.256,  0.128, -0.128,  0.192, -0.128,\n",
      "        0.256,  0.128,  0.512,  0.704,  0.192,  0.192,  0.448, -0.192,\n",
      "        0.192, -0.128,  0.32 , -0.128,  0.   , -0.064,  0.192,  0.   ,\n",
      "       -0.256,  0.064,  0.192, -0.128, -0.064,  0.   ,  0.512,  0.32 ,\n",
      "        0.   , -0.32 ,  0.32 ,  0.192,  0.256, -0.384,  0.32 , -0.064,\n",
      "        0.512,  0.   ,  0.   ,  0.128,  0.128, -0.384,  0.128, -0.32 ,\n",
      "        0.128,  0.192,  0.32 ,  0.384,  0.576,  0.192,  0.064,  0.192,\n",
      "        0.512,  0.32 ,  0.192,  0.064,  0.   ,  0.   , -0.064, -0.32 ,\n",
      "        0.   ,  0.128,  0.448,  0.32 ,  0.192, -0.064,  0.32 ,  0.128,\n",
      "        0.128, -0.256,  0.32 ,  0.448,  0.32 ,  0.32 , -0.128, -0.448,\n",
      "        0.   , -0.128,  0.128, -0.128,  0.   ,  0.128,  0.512,  0.064,\n",
      "        0.256,  0.   ,  0.192, -0.128,  0.128,  0.192,  0.   , -0.576,\n",
      "        0.064, -0.128,  0.256, -0.192, -0.128, -0.512, -0.128,  0.   ,\n",
      "        0.256,  0.128,  0.192,  0.32 ,  0.   ,  0.32 ,  0.512,  0.192,\n",
      "        0.32 ,  0.448,  0.32 ,  0.064,  0.32 ,  0.32 ,  0.256,  0.64 ,\n",
      "        0.576,  0.192,  0.192,  0.192,  0.384,  0.32 ,  0.128, -0.32 ,\n",
      "       -0.064, -0.128,  0.512,  0.384,  0.448,  0.32 ,  0.256, -0.064,\n",
      "       -0.064, -0.192,  0.   ,  0.256,  0.32 , -0.256,  0.256,  0.   ,\n",
      "        0.256, -0.448, -0.192, -0.064,  0.512, -0.064,  0.256, -0.064,\n",
      "        0.128, -0.128,  0.   , -0.256,  0.   , -0.192,  0.256,  0.   ,\n",
      "        0.256, -0.064,  0.512,  0.192,  0.448,  0.128, -0.064, -0.32 ,\n",
      "        0.256, -0.064,  0.064, -0.064,  0.32 ,  0.192,  0.32 ,  0.128,\n",
      "        0.192,  0.192, -0.064, -0.448,  0.256, -0.448,  0.256,  0.192,\n",
      "        0.384, -0.064,  0.   , -0.064,  0.064,  0.128,  0.32 , -0.064,\n",
      "        0.   ,  0.128,  0.256, -0.192,  0.128, -0.576, -0.256, -0.32 ,\n",
      "        0.128, -0.128,  0.192,  0.32 , -0.064, -0.128,  0.192, -0.064,\n",
      "        0.128, -0.448, -0.064, -0.256,  0.   ,  0.128,  0.128, -0.192,\n",
      "        0.   , -0.128, -0.064, -0.448, -0.192, -0.128,  0.256,  0.064,\n",
      "        0.128, -0.064,  0.192,  0.064, -0.256, -0.384,  0.064, -0.192,\n",
      "       -0.128, -0.128,  0.128,  0.192,  0.128, -0.32 ,  0.   , -0.128,\n",
      "        0.064,  0.128,  0.32 , -0.64 , -0.192,  0.192,  0.576,  0.064,\n",
      "        0.   , -0.64 ,  0.064, -0.128, -0.128, -0.32 ,  0.   , -0.064,\n",
      "        0.256,  0.192,  0.128,  0.   ,  0.384, -0.128,  0.   , -0.32 ,\n",
      "        0.128, -0.064,  0.128,  0.   ,  0.448, -0.064,  0.128,  0.192,\n",
      "        0.384,  0.384,  0.32 ,  0.192,  0.256, -0.128,  0.32 , -0.192,\n",
      "        0.128, -0.192,  0.256, -0.384,  0.   , -0.064,  0.384, -0.32 ,\n",
      "       -0.192, -0.32 ,  0.064, -0.128,  0.   , -0.128,  0.128,  0.064,\n",
      "        0.128,  0.   ,  0.256, -0.128,  0.128,  0.32 ,  0.384, -0.32 ,\n",
      "        0.   , -0.448,  0.256, -0.384,  0.   ,  0.32 ,  0.448,  0.448,\n",
      "        0.704,  0.448,  0.32 , -0.128,  0.128, -0.32 ,  0.192, -0.256,\n",
      "        0.192,  0.384,  0.32 ,  0.   ,  0.064,  0.448,  0.32 ,  0.384,\n",
      "        0.128, -0.064,  0.32 , -0.128, -0.192,  0.384,  0.256,  0.384,\n",
      "        0.96 ,  0.64 ,  0.768,  0.64 ,  0.128, -0.832, -3.008, -4.416,\n",
      "       -3.904, -3.2  , -1.536,  0.384,  3.392,  5.312,  5.888,  4.672,\n",
      "        2.56 ,  0.96 , -0.128, -1.344, -1.408, -1.792, -1.472, -2.048,\n",
      "       -1.28 , -0.32 ,  1.152,  0.96 ,  0.512, -0.448, -0.64 , -1.344,\n",
      "       -0.896, -0.192,  1.152,  1.536,  2.304,  1.728,  1.536,  0.704,\n",
      "       -0.384, -0.832, -0.64 , -1.088, -1.28 , -1.216, -0.448, -0.32 ,\n",
      "        0.256,  0.96 ,  1.536,  1.408,  1.152,  1.216,  0.768,  0.128,\n",
      "       -0.192, -1.088, -0.768, -1.536, -1.024, -0.832, -0.064,  0.256,\n",
      "        0.96 ,  0.896,  1.28 ,  0.576,  0.384,  0.192,  0.128, -0.512,\n",
      "       -0.256, -0.32 , -0.256, -0.064,  0.448,  0.704,  0.704,  0.32 ,\n",
      "        0.192,  0.192,  0.064, -0.32 , -0.384, -0.768, -0.064,  0.128,\n",
      "        0.256,  0.576,  0.512,  0.192,  0.384,  0.256,  0.384, -0.192,\n",
      "        0.   , -0.256,  0.128, -0.448,  0.128, -0.192,  0.384,  0.   ,\n",
      "        0.256,  0.32 ,  0.704,  0.192,  0.256, -0.192,  0.   , -0.576,\n",
      "        0.064, -0.192,  0.32 ,  0.384,  0.256,  0.576,  0.768,  0.384,\n",
      "        0.448,  0.32 ,  0.384, -0.064,  0.   ,  0.192, -0.064, -0.32 ,\n",
      "       -0.064,  0.192,  0.32 ,  0.064,  0.   ,  0.   ,  0.448, -0.064,\n",
      "        0.   , -0.128,  0.256, -0.128,  0.256, -0.128,  0.192,  0.   ,\n",
      "        0.128, -0.256,  0.128,  0.192,  0.256, -0.128,  0.256,  0.256,\n",
      "        0.32 , -0.192,  0.128,  0.   ,  0.256,  0.128,  0.448,  0.256,\n",
      "        0.448,  0.32 ,  0.256, -0.32 ,  0.256,  0.192,  0.192, -0.32 ,\n",
      "        0.32 ,  0.064,  0.256, -0.064,  0.384,  0.384,  0.192, -0.384,\n",
      "       -0.256, -0.256,  0.384,  0.384,  0.512,  0.384,  0.192,  0.192,\n",
      "        0.384,  0.384,  0.448,  0.576,  0.32 ,  0.384,  0.32 ,  0.192,\n",
      "        0.   ,  0.128,  0.32 ,  0.384,  0.448,  0.384,  0.576,  0.   ,\n",
      "        0.192,  0.192,  0.32 ,  0.064,  0.064, -0.064,  0.32 ,  0.32 ,\n",
      "        0.256,  0.   ,  0.32 , -0.064,  0.128, -0.128,  0.   , -0.064,\n",
      "        0.256,  0.192,  0.256,  0.384,  0.768,  0.32 ,  0.448,  0.064,\n",
      "        0.   ,  0.256,  0.448,  0.32 ,  0.256,  0.192,  0.448,  0.832,\n",
      "        0.448,  0.32 ,  0.064, -0.192,  0.512,  0.256,  0.384,  0.192,\n",
      "        0.32 ,  0.128,  0.384,  0.32 , -0.064, -0.256,  0.256, -0.256,\n",
      "        0.256,  0.192,  0.384, -0.064,  0.384,  0.192,  0.256,  0.256,\n",
      "        0.64 ,  0.512,  0.   , -0.448,  0.   , -0.704, -1.024, -1.536,\n",
      "       -0.704,  0.704,  1.92 ,  1.92 ,  1.856,  2.304,  3.52 ,  4.096,\n",
      "        3.392,  1.728, -0.256, -2.688, -3.584, -3.456, -2.24 , -1.792,\n",
      "       -2.752, -3.392, -2.176, -0.192,  2.368,  2.816,  2.88 ,  2.368,\n",
      "        1.28 ,  0.384,  1.216,  1.344,  1.664,  1.472,  0.64 , -0.064,\n",
      "       -1.088, -1.792, -1.536, -1.6  , -0.96 , -1.344, -0.96 , -0.384,\n",
      "        0.768,  1.6  ,  2.304,  2.432,  2.048,  1.152,  0.192, -0.768,\n",
      "       -1.024, -1.344, -1.088, -1.344, -0.768, -0.512,  0.192,  0.576,\n",
      "        1.216,  1.792,  1.408,  0.704,  0.32 , -0.256, -0.128, -0.832,\n",
      "       -0.512, -0.832, -0.512, -0.32 ,  0.384,  0.704,  1.536,  1.856,\n",
      "        1.472,  1.088,  1.28 ,  0.448,  0.256, -0.832, -0.448, -1.28 ,\n",
      "       -1.28 , -1.216, -0.64 , -0.128,  0.768,  1.344,  1.344,  1.216,\n",
      "        0.64 ,  0.32 ,  0.768,  0.512,  0.384,  0.32 ,  0.256, -0.576,\n",
      "        0.   , -0.448,  0.256, -0.192,  0.   , -0.256,  0.   , -0.064],\n",
      "      dtype=float32)), (0, 1, array([-0.256,  0.448,  0.32 ,  0.128, -0.64 , -0.32 , -0.576, -0.064,\n",
      "       -0.32 , -0.64 , -0.64 , -0.576, -0.32 ,  0.   , -0.32 ,  0.128,\n",
      "        0.   , -0.256, -0.704, -0.32 , -0.192,  0.064,  0.064,  0.448,\n",
      "        0.128, -0.064, -0.128,  0.064,  0.   ,  0.064, -0.192, -0.256,\n",
      "       -0.192, -0.128, -0.448, -0.128, -0.32 , -0.064,  0.   , -0.32 ,\n",
      "       -0.064,  0.128, -0.192,  0.128, -0.512,  0.   , -0.064,  0.128,\n",
      "        0.32 , -0.064, -0.064, -0.064, -0.256,  0.384,  0.256, -0.576,\n",
      "       -0.704, -0.128, -0.832, -0.256, -0.192,  0.128, -0.128,  0.128,\n",
      "       -0.832, -0.576, -0.64 , -0.128, -0.256,  0.   , -0.32 , -0.576,\n",
      "       -0.192, -0.256, -0.384, -0.32 , -0.256, -0.384, -0.704, -0.32 ,\n",
      "       -0.128, -0.064, -0.064,  0.128,  0.   ,  0.064, -0.448, -0.256,\n",
      "       -0.256,  0.064, -0.128,  0.192, -0.512,  0.128, -0.32 , -0.384,\n",
      "       -0.576, -0.32 , -0.128, -0.384, -0.384, -0.448, -0.384, -0.576,\n",
      "       -0.704, -0.576, -0.256,  0.064, -0.32 , -0.384, -0.576, -0.32 ,\n",
      "       -0.384, -0.064, -0.512, -0.448, -0.384, -0.512, -0.384, -0.32 ,\n",
      "       -0.384,  0.   , -0.384, -0.512, -0.448,  0.   , -0.192, -0.064,\n",
      "       -0.256, -0.384, -0.064,  0.064, -0.512, -0.128, -0.512,  0.   ,\n",
      "       -0.256, -0.064, -0.128,  0.   , -0.576, -0.32 , -0.512, -0.128,\n",
      "        0.064,  0.128, -0.192,  0.064, -0.384, -0.32 , -0.192, -0.064,\n",
      "       -0.192, -0.384, -0.832, -0.64 , -0.576, -0.64 , -0.64 , -0.576,\n",
      "       -0.384, -0.256, -0.448, -0.256, -0.384, -0.064, -0.192,  0.064,\n",
      "       -0.64 , -0.576, -0.64 , -0.384, -0.512, -0.064, -0.384, -0.384,\n",
      "       -0.704, -0.576, -0.64 ,  0.   , -0.064, -0.576, -0.704, -0.128,\n",
      "        0.064, -0.064, -0.192, -0.128, -0.384, -0.384, -0.704, -0.512,\n",
      "       -0.256, -0.384, -0.192, -0.384, -0.384, -0.064,  0.128, -0.384,\n",
      "       -0.512, -0.128, -0.384, -0.384, -0.384, -0.192, -0.192, -0.768,\n",
      "       -0.704, -0.064, -0.32 , -0.064, -0.448, -0.32 , -0.192,  0.128,\n",
      "       -0.512, -0.128, -0.128, -0.256, -0.384, -0.064, -0.448, -0.256,\n",
      "       -0.384, -0.064, -0.64 ,  0.   , -0.32 , -0.064, -0.576,  0.064,\n",
      "       -0.384,  0.064, -0.064,  0.   , -0.128, -0.384, -0.192, -0.064,\n",
      "       -0.32 , -0.384, -0.384, -0.192, -0.256, -0.384, -0.192,  0.   ,\n",
      "       -0.192, -0.064, -0.256,  0.064, -0.192, -0.576, -0.896, -0.384,\n",
      "       -0.576, -0.512, -0.768, -0.576, -0.128, -0.064,  0.064, -0.128,\n",
      "       -0.192,  0.064, -0.576,  0.064, -0.32 , -0.32 , -0.704, -0.064,\n",
      "        0.064,  0.128, -0.192, -0.064, -0.384, -0.384, -0.32 , -0.064,\n",
      "       -0.192,  0.   , -0.384, -0.256, -0.128,  0.   , -0.192, -0.128,\n",
      "       -0.192, -0.128, -0.448, -0.064, -0.256, -0.256, -0.384,  0.128,\n",
      "       -0.256, -0.512, -0.704,  0.   , -0.384, -0.576, -0.896, -0.512,\n",
      "       -0.128, -0.128,  0.   ,  0.192,  0.   , -0.384, -0.384,  0.064,\n",
      "       -0.192, -0.064, -0.32 ,  0.064, -0.512, -0.512, -0.512, -0.512,\n",
      "       -0.512, -0.384, -0.704, -0.448, -0.64 , -0.064, -0.576, -0.576,\n",
      "       -0.64 , -0.576, -0.832, -0.384, -0.64 , -0.192, -0.064, -0.128,\n",
      "       -0.384, -0.064, -0.32 , -0.256, -0.576, -0.512, -0.576, -0.32 ,\n",
      "       -0.32 , -0.128, -0.256, -0.128, -0.192, -0.192, -0.192,  0.128,\n",
      "       -0.192, -0.192, -0.448, -0.128, -0.192, -0.384, -0.384, -0.064,\n",
      "       -0.512, -0.64 , -0.704, -0.128, -0.448, -0.512, -0.192, -0.192,\n",
      "       -0.192, -0.576, -0.512,  0.   , -0.128, -0.384, -0.192,  0.   ,\n",
      "       -0.384, -0.512, -0.704, -0.064, -0.128,  0.064, -0.064,  0.128,\n",
      "       -0.192, -0.32 , -0.512,  0.064, -0.192, -0.256, -0.448,  0.128,\n",
      "       -0.064,  0.128, -0.256, -0.32 , -0.576, -0.32 , -0.704, -0.512,\n",
      "       -0.512, -0.32 , -0.384, -0.256, -0.448, -0.32 , -0.256, -0.512,\n",
      "       -0.384, -0.512,  0.128, -0.128, -0.512, -0.32 ,  0.192,  0.32 ,\n",
      "        0.064, -0.128, -0.704, -0.576, -0.896, -0.64 , -0.704, -0.576,\n",
      "       -0.896, -0.576, -0.384, -0.32 , -0.256, -0.064, -0.192, -0.064,\n",
      "       -0.32 , -0.128, -0.384, -0.256, -0.384,  0.128,  0.064, -0.384,\n",
      "       -0.512,  0.   ,  0.064, -0.256, -0.512,  0.064, -0.192, -0.192,\n",
      "       -0.256,  0.128, -0.384, -0.256, -0.704, -0.384, -0.64 , -0.064,\n",
      "       -0.768, -0.32 ,  0.   , -0.128, -0.192,  0.128, -0.192, -0.384,\n",
      "       -0.512, -0.128,  0.   ,  0.128, -0.32 , -0.192, -0.192, -0.384,\n",
      "       -0.64 , -0.32 , -0.192,  0.   , -0.192,  0.128, -0.192,  0.192,\n",
      "        0.064, -0.064, -0.192, -0.256, -0.192, -0.064, -0.64 , -0.32 ,\n",
      "       -0.448, -0.448, -0.704, -0.128, -0.384, -0.192, -0.192,  0.   ,\n",
      "       -0.256, -0.064, -0.832, -0.768, -0.96 , -0.576, -0.384, -0.576,\n",
      "       -0.384, -0.128, -0.128, -0.192, -0.192, -0.128, -0.704, -0.384,\n",
      "       -0.192, -0.064, -0.384, -0.576, -0.704, -0.256, -0.192, -0.384,\n",
      "       -0.704, -0.384, -0.128, -0.064, -0.256, -0.256, -0.256,  0.128,\n",
      "       -0.192, -0.32 , -0.384, -0.064, -0.256,  0.064, -0.384,  0.256,\n",
      "       -0.256, -0.128,  0.   , -0.064,  0.128, -0.064,  0.064,  0.064,\n",
      "        0.   , -0.128, -0.064, -0.064,  0.128,  0.   , -0.192, -0.256,\n",
      "       -0.512, -0.064, -0.064,  0.256, -0.576, -0.448, -0.192, -0.064,\n",
      "       -0.192, -0.256, -0.256,  0.192, -0.256, -0.576, -0.512, -0.256,\n",
      "       -0.256, -0.256, -0.192,  0.256, -0.256, -0.128, -0.512, -0.064,\n",
      "        0.256, -0.064, -0.256,  0.128, -0.064,  0.064, -0.256, -0.576,\n",
      "       -0.704, -0.384, -0.32 , -0.384, -0.512, -0.384, -0.128,  0.   ,\n",
      "       -0.448, -0.512, -0.704, -0.32 , -0.384, -0.768, -0.832, -0.384,\n",
      "       -0.448, -0.512, -0.384,  0.256,  0.   ,  0.064, -0.128, -0.384,\n",
      "       -0.384, -0.192, -0.384, -0.384, -0.192, -0.512, -0.448, -0.192,\n",
      "       -0.192, -0.384, -0.704, -0.64 , -0.448, -0.448, -0.512, -0.512,\n",
      "       -0.256, -0.384, -0.32 , -0.576, -0.64 , -0.512, -0.256,  0.064,\n",
      "       -0.896, -0.512, -0.448, -0.064, -0.256, -0.576, -0.704, -0.512,\n",
      "       -0.256,  0.128,  0.   ,  0.128,  0.064,  0.064, -0.192, -0.384,\n",
      "       -0.96 , -0.704, -0.704, -0.64 , -0.704, -0.448, -0.64 , -0.256,\n",
      "       -0.384, -0.32 , -0.384, -0.256, -0.576, -0.256, -0.384, -0.384,\n",
      "       -0.64 , -0.32 , -0.576, -0.064,  0.064, -0.512, -0.96 , -0.512,\n",
      "       -0.704, -0.512, -0.512, -0.384, -0.512, -0.256, -0.256, -0.384,\n",
      "       -0.896, -0.64 , -0.704, -0.512, -0.256, -0.32 , -0.512, -0.064,\n",
      "       -0.448, -0.576, -0.448, -0.128, -0.512, -0.32 , -0.384, -0.128,\n",
      "       -0.704, -0.512, -0.512, -0.448, -0.384, -0.192, -0.64 , -0.512,\n",
      "       -0.64 , -0.384, -0.256, -0.384, -0.64 , -0.128, -0.192, -0.192,\n",
      "       -0.256,  0.128, -0.192, -0.384, -0.256,  0.   ,  0.   ,  0.064,\n",
      "        0.   , -0.32 , -0.448, -0.064, -0.32 , -0.384, -0.256,  0.   ,\n",
      "       -0.384, -0.128, -0.384, -0.384, -0.448, -0.128, -0.384, -0.32 ,\n",
      "       -0.448, -0.064, -0.384, -0.064, -0.384, -0.576, -0.704, -0.064,\n",
      "       -0.192,  0.064, -0.192, -0.576, -0.32 , -0.576, -0.256, -0.128,\n",
      "       -0.704, -0.576, -0.064, -0.128,  0.192,  0.   , -0.192,  0.   ,\n",
      "       -0.192, -0.32 , -0.512, -0.384, -0.128, -0.256, -0.832, -0.32 ,\n",
      "       -0.256, -0.064, -0.576,  0.256, -0.128, -0.064, -0.384,  0.256,\n",
      "       -0.128,  0.128, -0.448, -0.32 , -0.384, -0.128, -0.448, -0.512,\n",
      "       -0.896, -0.512, -0.128, -0.448, -0.576, -0.704, -0.32 , -0.064,\n",
      "       -0.512, -0.64 , -0.512, -0.32 , -0.576, -0.448, -0.384,  0.064,\n",
      "       -0.192, -0.32 , -0.448, -0.448, -0.384, -0.576, -0.256,  0.128,\n",
      "       -0.704, -0.64 , -0.832, -0.064, -0.192, -0.384, -0.32 , -0.192,\n",
      "       -0.256, -0.128, -0.704, -0.64 , -0.96 , -0.768, -0.32 , -0.064,\n",
      "        0.   , -0.32 , -0.512,  0.128, -0.192, -0.32 , -0.192, -0.32 ,\n",
      "       -0.192, -0.192, -0.576, -0.384, -0.384, -0.512, -0.32 ,  0.064,\n",
      "        0.   , -0.256, -0.32 , -0.064, -0.192, -0.384,  0.   , -0.064,\n",
      "       -0.064, -0.384, -0.384, -0.128, -0.32 , -0.064, -0.192, -0.192,\n",
      "       -0.384, -0.448, -0.128, -0.512, -0.192, -0.064, -0.192, -0.192,\n",
      "       -0.704, -0.32 , -0.256, -0.32 , -0.192,  0.128, -0.384, -0.448,\n",
      "       -0.256, -0.32 , -0.384, -0.576, -0.448, -0.448, -0.576,  0.   ,\n",
      "       -0.192, -0.384, -0.32 , -0.064, -0.448, -0.064,  0.064, -0.32 ,\n",
      "       -0.832, -0.128, -0.256,  0.128, -0.384, -0.384, -0.384,  0.128,\n",
      "        0.   , -0.512, -0.704, -0.576, -0.448,  0.128, -0.192, -0.256,\n",
      "       -0.384, -0.256, -0.704, -0.704, -0.256,  0.064, -0.192,  0.064,\n",
      "       -0.576, -0.576,  0.   , -0.128, -0.192, -0.192, -0.128,  0.   ,\n",
      "       -0.256, -0.64 , -0.704, -0.128, -0.192, -0.64 , -0.576, -0.512,\n",
      "       -0.448, -0.576, -0.256,  0.128, -0.128, -0.256, -0.256, -0.384,\n",
      "       -0.704,  0.064, -0.192, -0.384, -0.256, -0.512, -0.448, -0.448,\n",
      "       -0.832, -0.64 , -0.704, -0.448, -0.576, -0.448, -0.384, -0.32 ,\n",
      "       -0.448, -0.448, -0.384, -0.384, -0.576, -0.768, -0.64 , -0.768,\n",
      "       -0.832, -0.256, -0.576, -0.064, -0.512, -0.384, -0.384, -0.32 ,\n",
      "       -0.256, -0.256, -0.64 ,  0.128, -0.512, -0.576, -0.384, -0.064,\n",
      "       -0.64 , -0.384, -0.448, -0.384, -0.448, -0.256, -0.128,  0.   ,\n",
      "       -0.256,  0.064, -0.64 , -0.384, -0.576, -0.192, -0.192, -0.576,\n",
      "       -0.64 , -0.384, -0.32 , -0.384, -0.384, -0.448, -0.192, -0.32 ],\n",
      "      dtype=float32)), (0, 2, array([ 0.512,  0.128,  0.512,  0.128,  0.576,  0.448,  0.   , -0.32 ,\n",
      "        0.32 ,  0.064,  0.32 ,  0.256,  0.256,  0.   ,  0.064, -0.192,\n",
      "        0.192, -0.064,  0.256, -0.192,  0.128, -0.192,  0.192,  0.064,\n",
      "        0.128, -0.064,  0.512,  0.32 ,  0.32 , -0.064,  0.   ,  0.192,\n",
      "        0.32 ,  0.064,  0.064,  0.064,  0.384, -0.192, -0.256,  0.064,\n",
      "        0.512,  0.064,  0.128, -0.704,  0.   ,  0.064,  0.256, -0.192,\n",
      "        0.128, -0.064,  0.448,  0.064,  0.192, -0.384, -0.128, -0.064,\n",
      "        0.448,  0.32 ,  0.256,  0.512,  0.512,  0.32 ,  0.32 ,  0.32 ,\n",
      "        0.832,  0.128,  0.   ,  0.128, -0.384, -0.704, -0.064,  0.064,\n",
      "        0.32 ,  0.384,  0.32 , -0.064,  0.32 , -0.128,  0.128, -0.064,\n",
      "        0.192, -0.384, -0.192,  0.064,  0.192, -0.32 ,  0.128,  0.256,\n",
      "        0.32 ,  0.384,  0.128, -0.192,  0.   ,  0.384,  0.256,  0.256,\n",
      "        0.384,  0.128, -0.384, -0.192, -0.064, -0.448, -0.128, -0.064,\n",
      "        0.256,  0.064,  0.64 ,  0.384,  0.512,  0.704,  0.384,  0.064,\n",
      "        0.256,  0.448,  0.32 ,  0.384,  0.32 ,  0.32 ,  0.512, -0.064,\n",
      "        0.256,  0.32 ,  0.32 ,  0.064,  0.32 , -0.064,  0.064, -0.192,\n",
      "        0.256, -0.064,  0.128,  0.384,  0.128, -0.384,  0.   , -0.448,\n",
      "       -0.512, -0.32 ,  0.   , -0.064,  0.   ,  0.192,  0.32 ,  0.064,\n",
      "        0.064, -0.064,  0.512,  0.192,  0.256,  0.192, -0.064, -0.384,\n",
      "        0.256,  0.32 ,  0.256, -0.192,  0.256,  0.704,  0.512,  0.192,\n",
      "        0.32 ,  0.192,  0.448, -0.128,  0.   , -0.064,  0.128, -0.192,\n",
      "        0.   , -0.192,  0.32 , -0.32 ,  0.064,  0.192,  0.064,  0.064,\n",
      "        0.512,  0.384,  0.448, -0.192,  0.   , -0.064,  0.448,  0.32 ,\n",
      "        0.128,  0.   ,  0.384,  0.128,  0.192, -0.064,  0.256,  0.448,\n",
      "        0.512,  0.448,  0.192,  0.32 ,  0.32 ,  0.128,  0.32 ,  0.64 ,\n",
      "        0.256,  0.128, -0.192, -0.192,  0.064, -0.128, -0.192, -0.128,\n",
      "        0.   ,  0.128,  0.192,  0.192, -0.192, -0.192,  0.128,  0.32 ,\n",
      "        0.512,  0.32 ,  0.448,  0.128,  0.256, -0.064,  0.192,  0.128,\n",
      "        0.384, -0.064,  0.32 ,  0.384,  0.192,  0.192,  0.32 ,  0.128,\n",
      "        0.256,  0.   ,  0.256, -0.192,  0.32 , -0.192,  0.256,  0.064,\n",
      "        0.192, -0.192,  0.256,  0.128,  0.256, -0.192,  0.384,  0.064,\n",
      "        0.256, -0.448,  0.   ,  0.576,  0.32 ,  0.448,  0.32 ,  0.512,\n",
      "        0.512,  0.128,  0.32 ,  0.32 ,  0.256,  0.448,  0.384,  0.064,\n",
      "        0.32 , -0.192,  0.192,  0.256,  0.192, -0.064,  0.32 ,  0.   ,\n",
      "        0.32 , -0.064,  0.192, -0.064,  0.   , -0.128,  0.128, -0.128,\n",
      "        0.192,  0.128,  0.256,  0.128,  0.32 , -0.128,  0.32 , -0.064,\n",
      "        0.256,  0.32 ,  0.256,  0.064,  0.   , -0.128,  0.128, -0.192,\n",
      "        0.064,  0.384,  0.384, -0.384,  0.   ,  0.192,  0.384,  0.32 ,\n",
      "        0.192, -0.32 ,  0.32 ,  0.064,  0.128, -0.064,  0.128, -0.128,\n",
      "       -0.064,  0.128,  0.448, -0.256,  0.128,  0.192,  0.512,  0.256,\n",
      "        0.32 ,  0.192,  0.576,  0.32 ,  0.704,  0.192,  0.384,  0.192,\n",
      "        0.32 ,  0.128,  0.256,  0.064,  0.32 ,  0.448,  0.128, -0.064,\n",
      "        0.256,  0.32 ,  0.384,  0.32 ,  0.32 ,  0.192,  0.448,  0.256,\n",
      "        0.32 ,  0.256,  0.512,  0.256,  0.256,  0.064,  0.384,  0.128,\n",
      "        0.384,  0.192,  0.32 ,  0.192,  0.128, -0.192,  0.192, -0.128,\n",
      "        0.   , -0.064,  0.256, -0.192,  0.128,  0.064,  0.32 ,  0.32 ,\n",
      "        0.256,  0.192,  0.512,  0.32 ,  0.064, -0.064,  0.256,  0.32 ,\n",
      "        0.   ,  0.192,  0.384,  0.192,  0.256, -0.064,  0.32 ,  0.448,\n",
      "        0.512,  0.448,  0.32 ,  0.32 ,  0.384, -0.192,  0.192,  0.128,\n",
      "        0.256, -0.064,  0.256, -0.064,  0.   ,  0.192,  0.64 ,  0.192,\n",
      "        0.   ,  0.064,  0.384,  0.704,  0.384,  0.32 ,  0.768,  0.576,\n",
      "        0.064,  0.064,  0.32 , -0.064,  0.064,  0.576,  0.256,  0.192,\n",
      "        0.128,  0.128,  0.32 ,  0.128,  0.   , -0.32 ,  0.   ,  0.384,\n",
      "        0.448,  0.448,  0.448,  0.32 ,  0.256,  0.064,  0.128,  0.192,\n",
      "        0.256,  0.192,  0.   ,  0.064,  0.384, -0.064,  0.   , -0.256,\n",
      "        0.128,  0.192,  0.   ,  0.128,  0.192, -0.128,  0.   ,  0.064,\n",
      "        0.256,  0.384,  0.192,  0.   ,  0.256, -0.448,  0.256,  0.192,\n",
      "        0.384,  0.256,  0.192, -0.064,  0.384,  0.064, -0.128,  0.   ,\n",
      "        0.32 ,  0.128,  0.192,  0.448,  0.512, -0.192, -0.512, -0.128,\n",
      "        0.192, -0.064,  0.128,  0.128,  0.32 , -0.32 ,  0.064, -0.192,\n",
      "        0.   , -0.64 ,  0.32 ,  0.256,  0.448,  0.32 ,  0.256,  0.192,\n",
      "        0.512,  0.832,  0.448, -0.192,  0.   ,  0.128,  0.128,  0.192,\n",
      "        0.064, -0.192,  0.256,  0.32 ,  0.256, -0.192,  0.32 ,  0.064,\n",
      "        0.   , -0.32 ,  0.32 , -0.32 ,  0.   , -0.128,  0.256, -0.192,\n",
      "        0.   , -0.32 ,  0.32 ,  0.32 ,  0.256, -0.384, -0.256, -0.32 ,\n",
      "       -0.192, -0.128,  0.256,  0.128,  0.   , -0.128,  0.256, -0.256,\n",
      "       -0.32 , -0.192,  0.384, -0.064,  0.   ,  0.128,  0.256, -0.064,\n",
      "        0.   , -0.064,  0.384, -0.064, -0.064, -0.128,  0.128, -0.512,\n",
      "       -0.128, -0.064, -0.128, -0.704, -0.192, -0.192,  0.128, -0.128,\n",
      "        0.704,  0.384, -0.064, -0.064,  0.32 ,  0.192,  0.384,  0.064,\n",
      "        0.192,  0.128,  0.448, -0.448, -0.128, -0.32 ,  0.384,  0.128,\n",
      "        0.32 , -0.192, -0.128, -0.32 ,  0.   ,  0.   ,  0.384,  0.256,\n",
      "        0.128,  0.32 ,  0.32 ,  0.128,  0.512, -0.064,  0.256, -0.064,\n",
      "        0.32 , -0.064,  0.192, -0.192,  0.128, -0.128,  0.512,  0.32 ,\n",
      "        0.32 ,  0.064,  0.128, -0.192, -0.32 ,  0.064,  0.064,  0.   ,\n",
      "        0.192,  0.32 ,  0.448,  0.576,  0.32 ,  0.32 ,  0.448,  0.128,\n",
      "        0.   , -0.32 ,  0.32 , -0.128, -0.192, -0.064,  0.256,  0.32 ,\n",
      "        0.192,  0.128,  0.256,  0.128,  0.128,  0.192,  0.384,  0.32 ,\n",
      "        0.32 , -0.064,  0.128, -0.064,  0.256,  0.064, -0.064, -0.192,\n",
      "       -0.064, -0.064,  0.256,  0.32 ,  0.   , -0.128,  0.064, -0.384,\n",
      "        0.   , -0.064,  0.448,  0.192,  0.512,  0.192,  0.256,  0.128,\n",
      "       -0.064, -0.32 ,  0.   , -0.704,  0.   ,  0.192,  0.256, -0.128,\n",
      "       -0.064,  0.32 ,  0.512,  0.192,  0.064,  0.064,  0.32 ,  0.32 ,\n",
      "        0.192,  0.064,  0.512,  0.32 ,  0.192,  0.448,  0.448,  0.   ,\n",
      "        0.   , -0.192,  0.064,  0.32 ,  0.32 , -0.064,  0.32 ,  0.192,\n",
      "        0.256,  0.192,  0.32 ,  0.384,  0.256,  0.256,  0.32 , -0.32 ,\n",
      "        0.   ,  0.128,  0.32 , -0.064,  0.256, -0.064,  0.512,  0.384,\n",
      "        0.256,  0.32 ,  0.32 ,  0.064,  0.128, -0.128,  0.192,  0.064,\n",
      "        0.256, -0.256,  0.   ,  0.128,  0.256,  0.064,  0.   , -0.384,\n",
      "        0.128,  0.256, -0.192,  0.128,  0.576, -0.128,  0.128,  0.32 ,\n",
      "        0.512,  0.256,  0.448,  0.576,  0.192,  0.064,  0.32 ,  0.448,\n",
      "        0.256,  0.32 ,  0.448,  0.192,  0.   ,  0.128,  0.   , -0.32 ,\n",
      "       -0.192, -0.064,  0.128, -0.192,  0.192, -0.32 ,  0.128, -0.192,\n",
      "        0.256,  0.192,  0.128, -0.064,  0.256,  0.32 , -0.064, -0.32 ,\n",
      "        0.128,  0.064,  0.   , -0.064,  0.064,  0.128,  0.128, -0.32 ,\n",
      "       -0.064, -0.192,  0.32 ,  0.192,  0.576, -0.064,  0.128,  0.064,\n",
      "        0.32 , -0.192, -0.128, -0.32 ,  0.192, -0.064,  0.192, -0.064,\n",
      "        0.256,  0.32 ,  0.128,  0.128, -0.064, -0.32 , -0.384,  0.128,\n",
      "        0.384,  0.064,  0.448,  0.192,  0.256,  0.32 ,  0.32 ,  0.192,\n",
      "       -0.064, -0.064,  0.32 ,  0.192,  0.   , -0.128,  0.128,  0.064,\n",
      "        0.   , -0.192,  0.384,  0.128,  0.32 ,  0.   ,  0.256,  0.192,\n",
      "        0.448, -0.192,  0.064, -0.064,  0.32 ,  0.064,  0.32 ,  0.128,\n",
      "        0.384,  0.128,  0.192,  0.128,  0.   ,  0.384,  0.576,  0.32 ,\n",
      "        0.32 ,  0.448,  0.256, -0.128,  0.256,  0.064,  0.32 ,  0.192,\n",
      "        0.512,  0.32 ,  0.256,  0.256,  0.32 ,  0.448,  0.384,  0.256,\n",
      "        0.   ,  0.192,  0.128,  0.128,  0.064,  0.128,  0.32 ,  0.128,\n",
      "        0.128, -0.128,  0.32 ,  0.32 ,  0.448,  0.256,  0.256, -0.192,\n",
      "        0.128, -0.128,  0.64 ,  0.448,  0.256,  0.128,  0.32 ,  0.256,\n",
      "        0.512,  0.384,  0.384, -0.128,  0.256,  0.064,  0.256,  0.064,\n",
      "        0.256,  0.448,  0.256,  0.32 ,  0.32 ,  0.448,  0.384,  0.32 ,\n",
      "        0.384,  0.576,  0.704,  0.192,  0.064,  0.32 ,  0.192, -0.32 ,\n",
      "        0.32 ,  0.32 ,  0.   ,  0.064,  0.256,  0.192, -0.128, -0.32 ,\n",
      "        0.192,  0.384,  0.512,  0.384,  0.128,  0.32 ,  0.896,  0.704,\n",
      "        0.32 , -0.064,  0.064, -0.32 , -0.192, -0.576,  0.256,  0.192,\n",
      "        0.064, -0.384, -0.064,  0.128,  0.512,  0.192,  0.064, -0.064,\n",
      "        0.256,  0.384,  0.256,  0.64 ,  0.32 ,  0.192,  0.384,  0.192,\n",
      "        0.   , -0.192,  0.064,  0.192,  0.128, -0.128,  0.128,  0.384,\n",
      "        0.832,  0.704,  0.576,  0.32 ,  0.256,  0.192,  0.32 , -0.064,\n",
      "        0.   ,  0.128,  0.384,  0.128,  0.384,  0.192,  0.384,  0.576,\n",
      "        0.32 , -0.064,  0.384,  0.128,  0.128, -0.064,  0.128,  0.256,\n",
      "        0.256,  0.064,  0.32 ,  0.32 ,  0.64 ,  0.448,  0.384,  0.128,\n",
      "        0.256,  0.384,  0.32 , -0.576, -0.064, -0.064,  0.32 , -0.128,\n",
      "       -0.128, -0.128,  0.064,  0.192,  0.512,  0.256,  0.256,  0.064,\n",
      "        0.128, -0.384,  0.   , -0.128,  0.256, -0.064, -0.064, -0.064,\n",
      "        0.384,  0.576,  0.704,  0.448,  0.256,  0.064,  0.064, -0.064],\n",
      "      dtype=float32))]\n"
     ]
    }
   ],
   "source": [
    "print(len(q[0]))\n",
    "print(q[0])"
   ]
  },
  {
   "cell_type": "code",
   "execution_count": 249,
   "metadata": {},
   "outputs": [],
   "source": [
    "\n",
    "\n",
    "\n",
    "event_information = [[datathree[i][info] for info in range(0,5)] for i in range(len(datathree))]\n",
    "#event_information = [[list(datathree[i])[info].item() for info in range(0,5)] for i in range(len(datathree))]"
   ]
  },
  {
   "cell_type": "code",
   "execution_count": 252,
   "metadata": {},
   "outputs": [
    {
     "name": "stdout",
     "output_type": "stream",
     "text": [
      "[[0, 1998268, 1000, 8, 3], [1, 67506435, 1000, 8, 3], [2, 132498360, 1000, 8, 3], [3, 195997406, 1000, 8, 3], [4, 257998463, 1000, 8, 3]]\n"
     ]
    }
   ],
   "source": [
    "print(event_information[:5])"
   ]
  },
  {
   "cell_type": "code",
   "execution_count": 254,
   "metadata": {},
   "outputs": [
    {
     "name": "stdout",
     "output_type": "stream",
     "text": [
      "[('data', '<f4', (12500,))]\n"
     ]
    }
   ],
   "source": [
    "print(wdtype.descr[4:])\n",
    "#x = [print(event_information[i]) for i in range(len(event_information)) if event_information[i][0] == 50]"
   ]
  },
  {
   "cell_type": "code",
   "execution_count": 227,
   "metadata": {},
   "outputs": [
    {
     "name": "stdout",
     "output_type": "stream",
     "text": [
      "<class 'list'>\n",
      "82 5\n"
     ]
    }
   ],
   "source": [
    "print(type(event_information))\n",
    "print(len(event_information), len(event_information[0]))"
   ]
  },
  {
   "cell_type": "code",
   "execution_count": 209,
   "metadata": {},
   "outputs": [
    {
     "name": "stdout",
     "output_type": "stream",
     "text": [
      "<class 'numpy.uint32'>\n",
      "[[0, 1998268, 1000, 8, 3], [1, 67506435, 1000, 8, 3], [2, 132498360, 1000, 8, 3], [3, 195997406, 1000, 8, 3], [4, 257998463, 1000, 8, 3], [5, 320505979, 1000, 8, 3], [6, 383497026, 1000, 8, 3], [7, 445497098, 1000, 8, 3], [8, 507496928, 1000, 8, 3], [9, 570497289, 1000, 8, 3], [10, 632997863, 1000, 8, 3], [11, 695497200, 1000, 8, 3], [12, 758496152, 1000, 8, 3], [13, 820997020, 1000, 8, 3], [14, 882496907, 1000, 8, 3], [15, 945995966, 1000, 8, 3], [16, 1007999656, 1000, 8, 3], [17, 1070504581, 1000, 8, 3], [18, 1132996098, 1000, 8, 3], [19, 1195996239, 1000, 8, 3], [20, 1257496495, 1000, 8, 3], [21, 1320996727, 1000, 8, 3], [22, 1382496872, 1000, 8, 3], [23, 1445496323, 1000, 8, 3], [24, 1507995753, 1000, 8, 3], [25, 1570996597, 1000, 8, 3], [26, 1632495785, 1000, 8, 3], [27, 1695994820, 1000, 8, 3], [28, 1757495935, 1000, 8, 3], [29, 1820507051, 1000, 8, 3], [30, 1882995585, 1000, 8, 3], [31, 1945994537, 1000, 8, 3], [32, 2007497118, 1000, 8, 3], [33, 2070995360, 1000, 8, 3], [34, 2132495524, 1000, 8, 3], [35, 2195494802, 1000, 8, 3], [36, 2257994156, 1000, 8, 3], [37, 2320995903, 1000, 8, 3], [38, 2382995533, 1000, 8, 3], [39, 2445993857, 1000, 8, 3], [40, 2507496009, 1000, 8, 3], [41, 2570504846, 1000, 8, 3], [42, 2633493655, 1000, 8, 3], [43, 2695993288, 1000, 8, 3], [44, 2757999681, 1000, 8, 3], [45, 2820494256, 1000, 8, 3], [46, 2882996393, 1000, 8, 3], [47, 2944994690, 1000, 8, 3], [48, 3008494500, 1000, 8, 3], [49, 3070493773, 1000, 8, 3], [50, 3132994783, 1000, 8, 3], [51, 3195492654, 1000, 8, 3], [52, 3257993693, 1000, 8, 3], [53, 3320503761, 1000, 8, 3], [54, 3383492664, 1000, 8, 3], [55, 3445492336, 1000, 8, 3], [56, 3507995725, 1000, 8, 3], [57, 3570492938, 1000, 8, 3], [58, 3632993083, 1000, 8, 3], [59, 3694993104, 1000, 8, 3], [60, 3758491801, 1000, 8, 3], [61, 3820492512, 1000, 8, 3], [62, 3882992994, 1000, 8, 3], [63, 3945491570, 1000, 8, 3], [64, 4007992512, 1000, 8, 3], [65, 4070001484, 1000, 8, 3], [66, 4133491645, 1000, 8, 3], [67, 4195991129, 1000, 8, 3], [68, 4257492076, 1000, 8, 3], [69, 4320991665, 1000, 8, 3], [70, 4382992150, 1000, 8, 3], [71, 4445491938, 1000, 8, 3], [72, 4508490612, 1000, 8, 3], [73, 4570992054, 1000, 8, 3], [74, 4632493488, 1000, 8, 3], [75, 4695490345, 1000, 8, 3], [76, 4757491689, 1000, 8, 3], [77, 4820499947, 1000, 8, 3], [78, 4882990612, 1000, 8, 3], [79, 4945989984, 1000, 8, 3], [80, 5007490783, 1000, 8, 3], [81, 5070490655, 1000, 8, 3]]\n"
     ]
    }
   ],
   "source": [
    "print(type(event_information[0][0]))\n",
    "#print(type(event_information[0][0].item()))\n",
    "#print(event_information[0][1].type())\n",
    "#print(event_information[0][2].type())\n",
    "#print(event_information[0][3].type())\n",
    "#print(event_information[0][4].type())\n",
    "print(converted_data)"
   ]
  },
  {
   "cell_type": "code",
   "execution_count": 212,
   "metadata": {},
   "outputs": [],
   "source": [
    "# Define a structured dtype that matches the data layout\n",
    "structured_dtype = np.dtype([\n",
    "    ('event_number', int),\n",
    "    ('timestamp', int),\n",
    "    ('samples', int),\n",
    "    ('sampling_period', int),\n",
    "    ('channel_id', int)\n",
    "])"
   ]
  },
  {
   "cell_type": "code",
   "execution_count": 257,
   "metadata": {},
   "outputs": [
    {
     "name": "stdout",
     "output_type": "stream",
     "text": [
      "[( 0,    1998268, 1000, 8, 3) ( 1,   67506435, 1000, 8, 3)\n",
      " ( 2,  132498360, 1000, 8, 3) ( 3,  195997406, 1000, 8, 3)\n",
      " ( 4,  257998463, 1000, 8, 3) ( 5,  320505979, 1000, 8, 3)\n",
      " ( 6,  383497026, 1000, 8, 3) ( 7,  445497098, 1000, 8, 3)\n",
      " ( 8,  507496928, 1000, 8, 3) ( 9,  570497289, 1000, 8, 3)\n",
      " (10,  632997863, 1000, 8, 3) (11,  695497200, 1000, 8, 3)\n",
      " (12,  758496152, 1000, 8, 3) (13,  820997020, 1000, 8, 3)\n",
      " (14,  882496907, 1000, 8, 3) (15,  945995966, 1000, 8, 3)\n",
      " (16, 1007999656, 1000, 8, 3) (17, 1070504581, 1000, 8, 3)\n",
      " (18, 1132996098, 1000, 8, 3) (19, 1195996239, 1000, 8, 3)\n",
      " (20, 1257496495, 1000, 8, 3) (21, 1320996727, 1000, 8, 3)\n",
      " (22, 1382496872, 1000, 8, 3) (23, 1445496323, 1000, 8, 3)\n",
      " (24, 1507995753, 1000, 8, 3) (25, 1570996597, 1000, 8, 3)\n",
      " (26, 1632495785, 1000, 8, 3) (27, 1695994820, 1000, 8, 3)\n",
      " (28, 1757495935, 1000, 8, 3) (29, 1820507051, 1000, 8, 3)\n",
      " (30, 1882995585, 1000, 8, 3) (31, 1945994537, 1000, 8, 3)\n",
      " (32, 2007497118, 1000, 8, 3) (33, 2070995360, 1000, 8, 3)\n",
      " (34, 2132495524, 1000, 8, 3) (35, 2195494802, 1000, 8, 3)\n",
      " (36, 2257994156, 1000, 8, 3) (37, 2320995903, 1000, 8, 3)\n",
      " (38, 2382995533, 1000, 8, 3) (39, 2445993857, 1000, 8, 3)\n",
      " (40, 2507496009, 1000, 8, 3) (41, 2570504846, 1000, 8, 3)\n",
      " (42, 2633493655, 1000, 8, 3) (43, 2695993288, 1000, 8, 3)\n",
      " (44, 2757999681, 1000, 8, 3) (45, 2820494256, 1000, 8, 3)\n",
      " (46, 2882996393, 1000, 8, 3) (47, 2944994690, 1000, 8, 3)\n",
      " (48, 3008494500, 1000, 8, 3) (49, 3070493773, 1000, 8, 3)\n",
      " (50, 3132994783, 1000, 8, 3) (51, 3195492654, 1000, 8, 3)\n",
      " (52, 3257993693, 1000, 8, 3) (53, 3320503761, 1000, 8, 3)\n",
      " (54, 3383492664, 1000, 8, 3) (55, 3445492336, 1000, 8, 3)\n",
      " (56, 3507995725, 1000, 8, 3) (57, 3570492938, 1000, 8, 3)\n",
      " (58, 3632993083, 1000, 8, 3) (59, 3694993104, 1000, 8, 3)\n",
      " (60, 3758491801, 1000, 8, 3) (61, 3820492512, 1000, 8, 3)\n",
      " (62, 3882992994, 1000, 8, 3) (63, 3945491570, 1000, 8, 3)\n",
      " (64, 4007992512, 1000, 8, 3) (65, 4070001484, 1000, 8, 3)\n",
      " (66, 4133491645, 1000, 8, 3) (67, 4195991129, 1000, 8, 3)\n",
      " (68, 4257492076, 1000, 8, 3) (69, 4320991665, 1000, 8, 3)\n",
      " (70, 4382992150, 1000, 8, 3) (71, 4445491938, 1000, 8, 3)\n",
      " (72, 4508490612, 1000, 8, 3) (73, 4570992054, 1000, 8, 3)\n",
      " (74, 4632493488, 1000, 8, 3) (75, 4695490345, 1000, 8, 3)\n",
      " (76, 4757491689, 1000, 8, 3) (77, 4820499947, 1000, 8, 3)\n",
      " (78, 4882990612, 1000, 8, 3) (79, 4945989984, 1000, 8, 3)\n",
      " (80, 5007490783, 1000, 8, 3) (81, 5070490655, 1000, 8, 3)]\n"
     ]
    }
   ],
   "source": [
    "event_information = list(map(tuple, event_information))\n",
    "structured_array = np.array(event_information, dtype=structured_dtype)\n",
    "\n",
    "# Flatten the array\n",
    "print(structured_array)"
   ]
  },
  {
   "cell_type": "markdown",
   "metadata": {},
   "source": []
  },
  {
   "cell_type": "code",
   "execution_count": 247,
   "metadata": {},
   "outputs": [
    {
     "name": "stdout",
     "output_type": "stream",
     "text": [
      "[(0, 0, 0, 0, 0), (1998268, 1998268, 1998268, 1998268, 1998268), (1000, 1000, 1000, 1000, 1000), (8, 8, 8, 8, 8), (3, 3, 3, 3, 3), (1, 1, 1, 1, 1), (67506435, 67506435, 67506435, 67506435, 67506435), (2, 2, 2, 2, 2), (132498360, 132498360, 132498360, 132498360, 132498360), (195997406, 195997406, 195997406, 195997406, 195997406), (4, 4, 4, 4, 4), (257998463, 257998463, 257998463, 257998463, 257998463), (5, 5, 5, 5, 5), (320505979, 320505979, 320505979, 320505979, 320505979), (6, 6, 6, 6, 6), (383497026, 383497026, 383497026, 383497026, 383497026), (7, 7, 7, 7, 7), (445497098, 445497098, 445497098, 445497098, 445497098), (507496928, 507496928, 507496928, 507496928, 507496928), (9, 9, 9, 9, 9), (570497289, 570497289, 570497289, 570497289, 570497289), (10, 10, 10, 10, 10), (632997863, 632997863, 632997863, 632997863, 632997863), (11, 11, 11, 11, 11), (695497200, 695497200, 695497200, 695497200, 695497200), (12, 12, 12, 12, 12), (758496152, 758496152, 758496152, 758496152, 758496152), (13, 13, 13, 13, 13), (820997020, 820997020, 820997020, 820997020, 820997020), (14, 14, 14, 14, 14), (882496907, 882496907, 882496907, 882496907, 882496907), (15, 15, 15, 15, 15), (945995966, 945995966, 945995966, 945995966, 945995966), (16, 16, 16, 16, 16), (1007999656, 1007999656, 1007999656, 1007999656, 1007999656), (17, 17, 17, 17, 17), (1070504581, 1070504581, 1070504581, 1070504581, 1070504581), (18, 18, 18, 18, 18), (1132996098, 1132996098, 1132996098, 1132996098, 1132996098), (19, 19, 19, 19, 19), (1195996239, 1195996239, 1195996239, 1195996239, 1195996239), (20, 20, 20, 20, 20), (1257496495, 1257496495, 1257496495, 1257496495, 1257496495), (21, 21, 21, 21, 21), (1320996727, 1320996727, 1320996727, 1320996727, 1320996727), (22, 22, 22, 22, 22), (1382496872, 1382496872, 1382496872, 1382496872, 1382496872), (23, 23, 23, 23, 23), (1445496323, 1445496323, 1445496323, 1445496323, 1445496323), (24, 24, 24, 24, 24), (1507995753, 1507995753, 1507995753, 1507995753, 1507995753), (25, 25, 25, 25, 25), (1570996597, 1570996597, 1570996597, 1570996597, 1570996597), (26, 26, 26, 26, 26), (1632495785, 1632495785, 1632495785, 1632495785, 1632495785), (27, 27, 27, 27, 27), (1695994820, 1695994820, 1695994820, 1695994820, 1695994820), (28, 28, 28, 28, 28), (1757495935, 1757495935, 1757495935, 1757495935, 1757495935), (29, 29, 29, 29, 29), (1820507051, 1820507051, 1820507051, 1820507051, 1820507051), (30, 30, 30, 30, 30), (1882995585, 1882995585, 1882995585, 1882995585, 1882995585), (31, 31, 31, 31, 31), (1945994537, 1945994537, 1945994537, 1945994537, 1945994537), (32, 32, 32, 32, 32), (2007497118, 2007497118, 2007497118, 2007497118, 2007497118), (33, 33, 33, 33, 33), (2070995360, 2070995360, 2070995360, 2070995360, 2070995360), (34, 34, 34, 34, 34), (2132495524, 2132495524, 2132495524, 2132495524, 2132495524), (35, 35, 35, 35, 35), (2195494802, 2195494802, 2195494802, 2195494802, 2195494802), (36, 36, 36, 36, 36), (2257994156, 2257994156, 2257994156, 2257994156, 2257994156), (37, 37, 37, 37, 37), (2320995903, 2320995903, 2320995903, 2320995903, 2320995903), (38, 38, 38, 38, 38), (2382995533, 2382995533, 2382995533, 2382995533, 2382995533), (39, 39, 39, 39, 39), (2445993857, 2445993857, 2445993857, 2445993857, 2445993857), (40, 40, 40, 40, 40), (2507496009, 2507496009, 2507496009, 2507496009, 2507496009), (41, 41, 41, 41, 41), (2570504846, 2570504846, 2570504846, 2570504846, 2570504846), (42, 42, 42, 42, 42), (2633493655, 2633493655, 2633493655, 2633493655, 2633493655), (43, 43, 43, 43, 43), (2695993288, 2695993288, 2695993288, 2695993288, 2695993288), (44, 44, 44, 44, 44), (2757999681, 2757999681, 2757999681, 2757999681, 2757999681), (45, 45, 45, 45, 45), (2820494256, 2820494256, 2820494256, 2820494256, 2820494256), (46, 46, 46, 46, 46), (2882996393, 2882996393, 2882996393, 2882996393, 2882996393), (47, 47, 47, 47, 47), (2944994690, 2944994690, 2944994690, 2944994690, 2944994690), (48, 48, 48, 48, 48), (3008494500, 3008494500, 3008494500, 3008494500, 3008494500), (49, 49, 49, 49, 49), (3070493773, 3070493773, 3070493773, 3070493773, 3070493773), (50, 50, 50, 50, 50), (3132994783, 3132994783, 3132994783, 3132994783, 3132994783), (51, 51, 51, 51, 51), (3195492654, 3195492654, 3195492654, 3195492654, 3195492654), (52, 52, 52, 52, 52), (3257993693, 3257993693, 3257993693, 3257993693, 3257993693), (53, 53, 53, 53, 53), (3320503761, 3320503761, 3320503761, 3320503761, 3320503761), (54, 54, 54, 54, 54), (3383492664, 3383492664, 3383492664, 3383492664, 3383492664), (55, 55, 55, 55, 55), (3445492336, 3445492336, 3445492336, 3445492336, 3445492336), (56, 56, 56, 56, 56), (3507995725, 3507995725, 3507995725, 3507995725, 3507995725), (57, 57, 57, 57, 57), (3570492938, 3570492938, 3570492938, 3570492938, 3570492938), (58, 58, 58, 58, 58), (3632993083, 3632993083, 3632993083, 3632993083, 3632993083), (59, 59, 59, 59, 59), (3694993104, 3694993104, 3694993104, 3694993104, 3694993104), (60, 60, 60, 60, 60), (3758491801, 3758491801, 3758491801, 3758491801, 3758491801), (61, 61, 61, 61, 61), (3820492512, 3820492512, 3820492512, 3820492512, 3820492512), (62, 62, 62, 62, 62), (3882992994, 3882992994, 3882992994, 3882992994, 3882992994), (63, 63, 63, 63, 63), (3945491570, 3945491570, 3945491570, 3945491570, 3945491570), (64, 64, 64, 64, 64), (4007992512, 4007992512, 4007992512, 4007992512, 4007992512), (65, 65, 65, 65, 65), (4070001484, 4070001484, 4070001484, 4070001484, 4070001484), (66, 66, 66, 66, 66), (4133491645, 4133491645, 4133491645, 4133491645, 4133491645), (67, 67, 67, 67, 67), (4195991129, 4195991129, 4195991129, 4195991129, 4195991129), (68, 68, 68, 68, 68), (4257492076, 4257492076, 4257492076, 4257492076, 4257492076), (69, 69, 69, 69, 69), (4320991665, 4320991665, 4320991665, 4320991665, 4320991665), (70, 70, 70, 70, 70), (4382992150, 4382992150, 4382992150, 4382992150, 4382992150), (71, 71, 71, 71, 71), (4445491938, 4445491938, 4445491938, 4445491938, 4445491938), (72, 72, 72, 72, 72), (4508490612, 4508490612, 4508490612, 4508490612, 4508490612), (73, 73, 73, 73, 73), (4570992054, 4570992054, 4570992054, 4570992054, 4570992054), (74, 74, 74, 74, 74), (4632493488, 4632493488, 4632493488, 4632493488, 4632493488), (75, 75, 75, 75, 75), (4695490345, 4695490345, 4695490345, 4695490345, 4695490345), (76, 76, 76, 76, 76), (4757491689, 4757491689, 4757491689, 4757491689, 4757491689), (77, 77, 77, 77, 77), (4820499947, 4820499947, 4820499947, 4820499947, 4820499947), (78, 78, 78, 78, 78), (4882990612, 4882990612, 4882990612, 4882990612, 4882990612), (79, 79, 79, 79, 79), (4945989984, 4945989984, 4945989984, 4945989984, 4945989984), (80, 80, 80, 80, 80), (5007490783, 5007490783, 5007490783, 5007490783, 5007490783), (81, 81, 81, 81, 81), (5070490655, 5070490655, 5070490655, 5070490655, 5070490655)]\n"
     ]
    }
   ],
   "source": [
    "print(unique_data)"
   ]
  },
  {
   "cell_type": "code",
   "execution_count": 158,
   "metadata": {},
   "outputs": [
    {
     "data": {
      "text/html": [
       "<div>\n",
       "<style scoped>\n",
       "    .dataframe tbody tr th:only-of-type {\n",
       "        vertical-align: middle;\n",
       "    }\n",
       "\n",
       "    .dataframe tbody tr th {\n",
       "        vertical-align: top;\n",
       "    }\n",
       "\n",
       "    .dataframe thead th {\n",
       "        text-align: right;\n",
       "    }\n",
       "</style>\n",
       "<table border=\"1\" class=\"dataframe\">\n",
       "  <thead>\n",
       "    <tr style=\"text-align: right;\">\n",
       "      <th></th>\n",
       "      <th>Event number</th>\n",
       "      <th>Timestamp</th>\n",
       "      <th>Samples</th>\n",
       "      <th>Sampling Period</th>\n",
       "      <th>data</th>\n",
       "    </tr>\n",
       "  </thead>\n",
       "  <tbody>\n",
       "    <tr>\n",
       "      <th>0</th>\n",
       "      <td>0</td>\n",
       "      <td>1998268</td>\n",
       "      <td>1000</td>\n",
       "      <td>8</td>\n",
       "      <td>3</td>\n",
       "    </tr>\n",
       "    <tr>\n",
       "      <th>1</th>\n",
       "      <td>1</td>\n",
       "      <td>67506435</td>\n",
       "      <td>1000</td>\n",
       "      <td>8</td>\n",
       "      <td>3</td>\n",
       "    </tr>\n",
       "    <tr>\n",
       "      <th>2</th>\n",
       "      <td>2</td>\n",
       "      <td>132498360</td>\n",
       "      <td>1000</td>\n",
       "      <td>8</td>\n",
       "      <td>3</td>\n",
       "    </tr>\n",
       "    <tr>\n",
       "      <th>3</th>\n",
       "      <td>3</td>\n",
       "      <td>195997406</td>\n",
       "      <td>1000</td>\n",
       "      <td>8</td>\n",
       "      <td>3</td>\n",
       "    </tr>\n",
       "    <tr>\n",
       "      <th>4</th>\n",
       "      <td>4</td>\n",
       "      <td>257998463</td>\n",
       "      <td>1000</td>\n",
       "      <td>8</td>\n",
       "      <td>3</td>\n",
       "    </tr>\n",
       "    <tr>\n",
       "      <th>...</th>\n",
       "      <td>...</td>\n",
       "      <td>...</td>\n",
       "      <td>...</td>\n",
       "      <td>...</td>\n",
       "      <td>...</td>\n",
       "    </tr>\n",
       "    <tr>\n",
       "      <th>77</th>\n",
       "      <td>77</td>\n",
       "      <td>4820499947</td>\n",
       "      <td>1000</td>\n",
       "      <td>8</td>\n",
       "      <td>3</td>\n",
       "    </tr>\n",
       "    <tr>\n",
       "      <th>78</th>\n",
       "      <td>78</td>\n",
       "      <td>4882990612</td>\n",
       "      <td>1000</td>\n",
       "      <td>8</td>\n",
       "      <td>3</td>\n",
       "    </tr>\n",
       "    <tr>\n",
       "      <th>79</th>\n",
       "      <td>79</td>\n",
       "      <td>4945989984</td>\n",
       "      <td>1000</td>\n",
       "      <td>8</td>\n",
       "      <td>3</td>\n",
       "    </tr>\n",
       "    <tr>\n",
       "      <th>80</th>\n",
       "      <td>80</td>\n",
       "      <td>5007490783</td>\n",
       "      <td>1000</td>\n",
       "      <td>8</td>\n",
       "      <td>3</td>\n",
       "    </tr>\n",
       "    <tr>\n",
       "      <th>81</th>\n",
       "      <td>81</td>\n",
       "      <td>5070490655</td>\n",
       "      <td>1000</td>\n",
       "      <td>8</td>\n",
       "      <td>3</td>\n",
       "    </tr>\n",
       "  </tbody>\n",
       "</table>\n",
       "<p>82 rows × 5 columns</p>\n",
       "</div>"
      ],
      "text/plain": [
       "    Event number   Timestamp  Samples  Sampling Period  data\n",
       "0              0     1998268     1000                8     3\n",
       "1              1    67506435     1000                8     3\n",
       "2              2   132498360     1000                8     3\n",
       "3              3   195997406     1000                8     3\n",
       "4              4   257998463     1000                8     3\n",
       "..           ...         ...      ...              ...   ...\n",
       "77            77  4820499947     1000                8     3\n",
       "78            78  4882990612     1000                8     3\n",
       "79            79  4945989984     1000                8     3\n",
       "80            80  5007490783     1000                8     3\n",
       "81            81  5070490655     1000                8     3\n",
       "\n",
       "[82 rows x 5 columns]"
      ]
     },
     "metadata": {},
     "output_type": "display_data"
    }
   ],
   "source": [
    "display(qqq)"
   ]
  },
  {
   "cell_type": "code",
   "execution_count": 157,
   "metadata": {},
   "outputs": [],
   "source": [
    "qqq = pd.DataFrame(event_information, columns=wdtype.names[:5])"
   ]
  },
  {
   "cell_type": "code",
   "execution_count": 159,
   "metadata": {},
   "outputs": [],
   "source": [
    "qqq.to_hdf(\"test_notebook.h5\", key=\"event_info\", mode=\"w\")"
   ]
  },
  {
   "cell_type": "code",
   "execution_count": 161,
   "metadata": {},
   "outputs": [],
   "source": []
  },
  {
   "cell_type": "code",
   "execution_count": 155,
   "metadata": {},
   "outputs": [
    {
     "name": "stdout",
     "output_type": "stream",
     "text": [
      "[[0, 1998268, 1000, 8, 3], [1, 67506435, 1000, 8, 3], [2, 132498360, 1000, 8, 3], [3, 195997406, 1000, 8, 3], [4, 257998463, 1000, 8, 3], [5, 320505979, 1000, 8, 3], [6, 383497026, 1000, 8, 3], [7, 445497098, 1000, 8, 3], [8, 507496928, 1000, 8, 3], [9, 570497289, 1000, 8, 3], [10, 632997863, 1000, 8, 3], [11, 695497200, 1000, 8, 3], [12, 758496152, 1000, 8, 3], [13, 820997020, 1000, 8, 3], [14, 882496907, 1000, 8, 3], [15, 945995966, 1000, 8, 3], [16, 1007999656, 1000, 8, 3], [17, 1070504581, 1000, 8, 3], [18, 1132996098, 1000, 8, 3], [19, 1195996239, 1000, 8, 3], [20, 1257496495, 1000, 8, 3], [21, 1320996727, 1000, 8, 3], [22, 1382496872, 1000, 8, 3], [23, 1445496323, 1000, 8, 3], [24, 1507995753, 1000, 8, 3], [25, 1570996597, 1000, 8, 3], [26, 1632495785, 1000, 8, 3], [27, 1695994820, 1000, 8, 3], [28, 1757495935, 1000, 8, 3], [29, 1820507051, 1000, 8, 3], [30, 1882995585, 1000, 8, 3], [31, 1945994537, 1000, 8, 3], [32, 2007497118, 1000, 8, 3], [33, 2070995360, 1000, 8, 3], [34, 2132495524, 1000, 8, 3], [35, 2195494802, 1000, 8, 3], [36, 2257994156, 1000, 8, 3], [37, 2320995903, 1000, 8, 3], [38, 2382995533, 1000, 8, 3], [39, 2445993857, 1000, 8, 3], [40, 2507496009, 1000, 8, 3], [41, 2570504846, 1000, 8, 3], [42, 2633493655, 1000, 8, 3], [43, 2695993288, 1000, 8, 3], [44, 2757999681, 1000, 8, 3], [45, 2820494256, 1000, 8, 3], [46, 2882996393, 1000, 8, 3], [47, 2944994690, 1000, 8, 3], [48, 3008494500, 1000, 8, 3], [49, 3070493773, 1000, 8, 3], [50, 3132994783, 1000, 8, 3], [51, 3195492654, 1000, 8, 3], [52, 3257993693, 1000, 8, 3], [53, 3320503761, 1000, 8, 3], [54, 3383492664, 1000, 8, 3], [55, 3445492336, 1000, 8, 3], [56, 3507995725, 1000, 8, 3], [57, 3570492938, 1000, 8, 3], [58, 3632993083, 1000, 8, 3], [59, 3694993104, 1000, 8, 3], [60, 3758491801, 1000, 8, 3], [61, 3820492512, 1000, 8, 3], [62, 3882992994, 1000, 8, 3], [63, 3945491570, 1000, 8, 3], [64, 4007992512, 1000, 8, 3], [65, 4070001484, 1000, 8, 3], [66, 4133491645, 1000, 8, 3], [67, 4195991129, 1000, 8, 3], [68, 4257492076, 1000, 8, 3], [69, 4320991665, 1000, 8, 3], [70, 4382992150, 1000, 8, 3], [71, 4445491938, 1000, 8, 3], [72, 4508490612, 1000, 8, 3], [73, 4570992054, 1000, 8, 3], [74, 4632493488, 1000, 8, 3], [75, 4695490345, 1000, 8, 3], [76, 4757491689, 1000, 8, 3], [77, 4820499947, 1000, 8, 3], [78, 4882990612, 1000, 8, 3], [79, 4945989984, 1000, 8, 3], [80, 5007490783, 1000, 8, 3], [81, 5070490655, 1000, 8, 3]]\n"
     ]
    }
   ],
   "source": [
    "print(event_information)\n",
    "\n",
    "with h5py.File('test_notebook.h5', 'w') as h5f:\n",
    "\n",
    "    evt_info = h5f.create_dataset('event_info', data = event_information)\n",
    "    evt_info.attrs['column_names'] = e_dtype.names"
   ]
  },
  {
   "cell_type": "code",
   "execution_count": 76,
   "metadata": {},
   "outputs": [
    {
     "name": "stdout",
     "output_type": "stream",
     "text": [
      "(0, 0, [ 0.   , -0.384,  0.192, -0.384, -0.256, -0.512, -0.064, -0.32 ,  0.064, -0.128,  0.128,  0.512,  0.128, -0.064,  0.128,  0.   ,  0.192, -0.192,  0.   , -0.32 ,  0.256, -0.32 ,  0.256, -0.064,  0.   ,  0.192, -0.128, -0.128,  0.192, -0.128,  0.512,  0.32 ,  0.256,  0.   ,  0.32 , -0.128,  0.192, -0.128,  0.192, -0.128, -0.064, -0.064,  0.   , -0.448, -0.192, -0.128,  0.256, -0.32 ,  0.   , -0.576, -0.256, -0.256,  0.32 , -0.128,  0.   ,  0.064,  0.384, -0.192, -0.064,  0.064,  0.512,  0.192,  0.256,  0.32 ,  0.32 , -0.064,  0.32 , -0.128, -0.064, -0.512, -0.192, -0.256,  0.   , -0.32 , -0.256, -0.384, -0.128, -0.064,  0.   ,  0.   ,  0.128, -0.128,  0.256, -0.064, -0.064, -0.192,  0.512, -0.064,  0.256,  0.32 ,  0.128,  0.   ,  0.192,  0.   , -0.128, -0.576, -0.192, -0.384,  0.   ,  0.   ,  0.128, -0.128,  0.64 , -0.064,  0.256,  0.192,  0.128, -0.512, -0.512, -0.704,  0.   , -0.128,  0.32 ,  0.192,  0.192, -0.064,  0.256, -0.256,  0.256, -0.064,  0.192, -0.256,  0.064, -0.32 , -0.064, -0.576, -0.064, -0.192,  0.256, -0.32 , -0.064, -0.128,  0.256, -0.32 ,  0.192,  0.192,  0.512,  0.32 ,  0.256, -0.192,  0.   , -0.064,  0.128, -0.512,  0.   ,  0.064,  0.32 , -0.32 ,  0.064,  0.192,  0.256, -0.32 ,  0.   ,  0.064,  0.256, -0.128,  0.   , -0.064,  0.   , -0.064, -0.384, -0.32 ,  0.128,  0.192,  0.   ,  0.   ,  0.128,  0.192,  0.256, -0.064,  0.256,  0.32 ,  0.128,  0.32 ,  0.768,  0.384,  0.448,  0.32 ,  0.576,  0.512,  0.512,  0.128,  0.192, -0.128,  0.256, -0.064,  0.384, -0.192,  0.064, -0.32 ,  0.256,  0.32 ,  0.256,  0.32 ,  0.32 ,  0.32 ,  0.32 ,  0.192,  0.512,  0.128,  0.192,  0.32 ,  0.32 , -0.128,  0.32 ,  0.192, -0.064,  0.128,  0.256, -0.128,  0.128, -0.32 , -0.128, -0.64 , -0.064,  0.   ,  0.32 ,  0.384,  0.256,  0.384,  0.32 ,  0.   ,  0.128, -0.064,  0.064, -0.128,  0.256, -0.32 ,  0.384, -0.256,  0.192, -0.256,  0.   , -0.128,  0.064, -0.256,  0.256, -0.128,  0.   , -0.256, -0.064, -0.448, -0.192, -0.32 , -0.192, -0.256,  0.256,  0.32 ,  0.512,  0.192,  0.256,  0.32 ,  0.32 , -0.128,  0.128,  0.   ,  0.32 ,  0.32 ,  0.256, -0.064,  0.256, -0.256,  0.256, -0.064,  0.32 , -0.192,  0.192, -0.256,  0.256, -0.064,  0.512,  0.192,  0.   , -0.064,  0.128, -0.192,  0.384,  0.   ,  0.384, -0.064,  0.704,  0.   ,  0.256, -0.192, -0.192, -0.128,  0.192, -0.064,  0.32 , -0.064, -0.064,  0.   , -0.192, -0.448,  0.256, -0.256,  0.32 ,  0.192,  0.32 ,  0.256,  0.128, -0.128,  0.192, -0.128,  0.256,  0.128,  0.512,  0.704,  0.192,  0.192,  0.448, -0.192,  0.192, -0.128,  0.32 , -0.128,  0.   , -0.064,  0.192,  0.   , -0.256,  0.064,  0.192, -0.128, -0.064,  0.   ,  0.512,  0.32 ,  0.   , -0.32 ,  0.32 ,  0.192,  0.256, -0.384,  0.32 , -0.064,  0.512,  0.   ,  0.   ,  0.128,  0.128, -0.384,  0.128, -0.32 ,  0.128,  0.192,  0.32 ,  0.384,  0.576,  0.192,  0.064,  0.192,  0.512,  0.32 ,  0.192,  0.064,  0.   ,  0.   , -0.064, -0.32 ,  0.   ,  0.128,  0.448,  0.32 ,  0.192, -0.064,  0.32 ,  0.128,  0.128, -0.256,  0.32 ,  0.448,  0.32 ,  0.32 , -0.128, -0.448,  0.   , -0.128,  0.128, -0.128,  0.   ,  0.128,  0.512,  0.064,  0.256,  0.   ,  0.192, -0.128,  0.128,  0.192,  0.   , -0.576,  0.064, -0.128,  0.256, -0.192, -0.128, -0.512, -0.128,  0.   ,  0.256,  0.128,  0.192,  0.32 ,  0.   ,  0.32 ,  0.512,  0.192,  0.32 ,  0.448,  0.32 ,  0.064,  0.32 ,  0.32 ,  0.256,  0.64 ,  0.576,  0.192,  0.192,  0.192,  0.384,  0.32 ,  0.128, -0.32 , -0.064, -0.128,  0.512,  0.384,  0.448,  0.32 ,  0.256, -0.064, -0.064, -0.192,  0.   ,  0.256,  0.32 , -0.256,  0.256,  0.   ,  0.256, -0.448, -0.192, -0.064,  0.512, -0.064,  0.256, -0.064,  0.128, -0.128,  0.   , -0.256,  0.   , -0.192,  0.256,  0.   ,  0.256, -0.064,  0.512,  0.192,  0.448,  0.128, -0.064, -0.32 ,  0.256, -0.064,  0.064, -0.064,  0.32 ,  0.192,  0.32 ,  0.128,  0.192,  0.192, -0.064, -0.448,  0.256, -0.448,  0.256,  0.192,  0.384, -0.064,  0.   , -0.064,  0.064,  0.128,  0.32 , -0.064,  0.   ,  0.128,  0.256, -0.192,  0.128, -0.576, -0.256, -0.32 ,  0.128, -0.128,  0.192,  0.32 , -0.064, -0.128,  0.192, -0.064,  0.128, -0.448, -0.064, -0.256,  0.   ,  0.128,  0.128, -0.192,  0.   , -0.128, -0.064, -0.448, -0.192, -0.128,  0.256,  0.064,  0.128, -0.064,  0.192,  0.064, -0.256, -0.384,  0.064, -0.192, -0.128, -0.128,  0.128,  0.192,  0.128, -0.32 ,  0.   , -0.128,  0.064,  0.128,  0.32 , -0.64 , -0.192,  0.192,  0.576,  0.064,  0.   , -0.64 ,  0.064, -0.128, -0.128, -0.32 ,  0.   , -0.064,  0.256,  0.192,  0.128,  0.   ,  0.384, -0.128,  0.   , -0.32 ,  0.128, -0.064,  0.128,  0.   ,  0.448, -0.064,  0.128,  0.192,  0.384,  0.384,  0.32 ,  0.192,  0.256, -0.128,  0.32 , -0.192,  0.128, -0.192,  0.256, -0.384,  0.   , -0.064,  0.384, -0.32 , -0.192, -0.32 ,  0.064, -0.128,  0.   , -0.128,  0.128,  0.064,  0.128,  0.   ,  0.256, -0.128,  0.128,  0.32 ,  0.384, -0.32 ,  0.   , -0.448,  0.256, -0.384,  0.   ,  0.32 ,  0.448,  0.448,  0.704,  0.448,  0.32 , -0.128,  0.128, -0.32 ,  0.192, -0.256,  0.192,  0.384,  0.32 ,  0.   ,  0.064,  0.448,  0.32 ,  0.384,  0.128, -0.064,  0.32 , -0.128, -0.192,  0.384,  0.256,  0.384,  0.96 ,  0.64 ,  0.768,  0.64 ,  0.128, -0.832, -3.008, -4.416, -3.904, -3.2  , -1.536,  0.384,  3.392,  5.312,  5.888,  4.672,  2.56 ,  0.96 , -0.128, -1.344, -1.408, -1.792, -1.472, -2.048, -1.28 , -0.32 ,  1.152,  0.96 ,  0.512, -0.448, -0.64 , -1.344, -0.896, -0.192,  1.152,  1.536,  2.304,  1.728,  1.536,  0.704, -0.384, -0.832, -0.64 , -1.088, -1.28 , -1.216, -0.448, -0.32 ,  0.256,  0.96 ,  1.536,  1.408,  1.152,  1.216,  0.768,  0.128, -0.192, -1.088, -0.768, -1.536, -1.024, -0.832, -0.064,  0.256,  0.96 ,  0.896,  1.28 ,  0.576,  0.384,  0.192,  0.128, -0.512, -0.256, -0.32 , -0.256, -0.064,  0.448,  0.704,  0.704,  0.32 ,  0.192,  0.192,  0.064, -0.32 , -0.384, -0.768, -0.064,  0.128,  0.256,  0.576,  0.512,  0.192,  0.384,  0.256,  0.384, -0.192,  0.   , -0.256,  0.128, -0.448,  0.128, -0.192,  0.384,  0.   ,  0.256,  0.32 ,  0.704,  0.192,  0.256, -0.192,  0.   , -0.576,  0.064, -0.192,  0.32 ,  0.384,  0.256,  0.576,  0.768,  0.384,  0.448,  0.32 ,  0.384, -0.064,  0.   ,  0.192, -0.064, -0.32 , -0.064,  0.192,  0.32 ,  0.064,  0.   ,  0.   ,  0.448, -0.064,  0.   , -0.128,  0.256, -0.128,  0.256, -0.128,  0.192,  0.   ,  0.128, -0.256,  0.128,  0.192,  0.256, -0.128,  0.256,  0.256,  0.32 , -0.192,  0.128,  0.   ,  0.256,  0.128,  0.448,  0.256,  0.448,  0.32 ,  0.256, -0.32 ,  0.256,  0.192,  0.192, -0.32 ,  0.32 ,  0.064,  0.256, -0.064,  0.384,  0.384,  0.192, -0.384, -0.256, -0.256,  0.384,  0.384,  0.512,  0.384,  0.192,  0.192,  0.384,  0.384,  0.448,  0.576,  0.32 ,  0.384,  0.32 ,  0.192,  0.   ,  0.128,  0.32 ,  0.384,  0.448,  0.384,  0.576,  0.   ,  0.192,  0.192,  0.32 ,  0.064,  0.064, -0.064,  0.32 ,  0.32 ,  0.256,  0.   ,  0.32 , -0.064,  0.128, -0.128,  0.   , -0.064,  0.256,  0.192,  0.256,  0.384,  0.768,  0.32 ,  0.448,  0.064,  0.   ,  0.256,  0.448,  0.32 ,  0.256,  0.192,  0.448,  0.832,  0.448,  0.32 ,  0.064, -0.192,  0.512,  0.256,  0.384,  0.192,  0.32 ,  0.128,  0.384,  0.32 , -0.064, -0.256,  0.256, -0.256,  0.256,  0.192,  0.384, -0.064,  0.384,  0.192,  0.256,  0.256,  0.64 ,  0.512,  0.   , -0.448,  0.   , -0.704, -1.024, -1.536, -0.704,  0.704,  1.92 ,  1.92 ,  1.856,  2.304,  3.52 ,  4.096,  3.392,  1.728, -0.256, -2.688, -3.584, -3.456, -2.24 , -1.792, -2.752, -3.392, -2.176, -0.192,  2.368,  2.816,  2.88 ,  2.368,  1.28 ,  0.384,  1.216,  1.344,  1.664,  1.472,  0.64 , -0.064, -1.088, -1.792, -1.536, -1.6  , -0.96 , -1.344, -0.96 , -0.384,  0.768,  1.6  ,  2.304,  2.432,  2.048,  1.152,  0.192, -0.768, -1.024, -1.344, -1.088, -1.344, -0.768, -0.512,  0.192,  0.576,  1.216,  1.792,  1.408,  0.704,  0.32 , -0.256, -0.128, -0.832, -0.512, -0.832, -0.512, -0.32 ,  0.384,  0.704,  1.536,  1.856,  1.472,  1.088,  1.28 ,  0.448,  0.256, -0.832, -0.448, -1.28 , -1.28 , -1.216, -0.64 , -0.128,  0.768,  1.344,  1.344,  1.216,  0.64 ,  0.32 ,  0.768,  0.512,  0.384,  0.32 ,  0.256, -0.576,  0.   , -0.448,  0.256, -0.192,  0.   , -0.256,  0.   , -0.064])\n"
     ]
    }
   ],
   "source": [
    "import pandas as pd\n",
    "\n",
    "def flatten(xss):\n",
    "    return [x for xs in xss for x in xs]\n",
    "\n",
    "\n",
    "\n",
    "\n",
    "dtype_flat = np.dtype([\n",
    "            ('event_number', np.uint32), \n",
    "            ('channel_no', np.int32),\n",
    "            ('rwf', np.float32, (1000,))\n",
    "        ])\n",
    "\n",
    "q_flat = np.array(flatten(q), dtype = dtype_flat)\n",
    "print(q_flat[0])\n",
    "#pd_flat = pd.DataFrame(q_flat, dtype = dtype_flat)\n",
    "# write event information\n",
    "with h5py.File('test_notebook.h5', 'w') as h5f:\n",
    "\n",
    "    h5f.create_dataset('raw_wf', data=q_flat)"
   ]
  },
  {
   "cell_type": "code",
   "execution_count": 48,
   "metadata": {},
   "outputs": [],
   "source": [
    "file = open('test_data.bin', 'rb')\n",
    "data = np.fromfile(file, dtype=wdtype)\n",
    "file.close()"
   ]
  },
  {
   "cell_type": "code",
   "execution_count": 52,
   "metadata": {},
   "outputs": [
    {
     "name": "stdout",
     "output_type": "stream",
     "text": [
      "[ True  True  True  True  True  True  True  True  True  True  True  True\n",
      "  True  True  True  True  True  True  True  True  True  True  True  True\n",
      "  True  True  True  True  True  True  True  True  True  True  True  True\n",
      "  True  True  True  True  True  True  True  True  True  True  True  True\n",
      "  True  True  True  True  True  True  True  True  True  True  True  True\n",
      "  True  True  True  True  True  True  True  True  True  True  True  True\n",
      "  True  True  True  True  True  True  True  True  True  True  True  True\n",
      "  True  True  True  True  True  True  True  True  True  True  True  True\n",
      "  True  True  True  True]\n",
      "(71, 6593930, 12500, 8, [-0.384, -0.384, -0.32 , ..., -0.576, -0.064,  0.064])\n",
      "(71, 6593930, 12500, 8, [-0.384, -0.384, -0.32 , ..., -0.576, -0.064,  0.064])\n"
     ]
    }
   ],
   "source": [
    "with open('test_data.bin', 'rb') as f:\n",
    "    data_with = np.fromfile(f, dtype=wdtype)\n",
    "\n",
    "print(data == data_with)\n",
    "print(data[52])\n",
    "print(data_with[52])"
   ]
  },
  {
   "cell_type": "code",
   "execution_count": 39,
   "metadata": {},
   "outputs": [
    {
     "data": {
      "text/html": [
       "<div>\n",
       "<style scoped>\n",
       "    .dataframe tbody tr th:only-of-type {\n",
       "        vertical-align: middle;\n",
       "    }\n",
       "\n",
       "    .dataframe tbody tr th {\n",
       "        vertical-align: top;\n",
       "    }\n",
       "\n",
       "    .dataframe thead th {\n",
       "        text-align: right;\n",
       "    }\n",
       "</style>\n",
       "<table border=\"1\" class=\"dataframe\">\n",
       "  <thead>\n",
       "    <tr style=\"text-align: right;\">\n",
       "      <th></th>\n",
       "      <th>event_number</th>\n",
       "      <th>channels</th>\n",
       "      <th>rwf</th>\n",
       "    </tr>\n",
       "  </thead>\n",
       "  <tbody>\n",
       "    <tr>\n",
       "      <th>0</th>\n",
       "      <td>0</td>\n",
       "      <td>0</td>\n",
       "      <td>[0.0, -0.384, 0.192, -0.384, -0.256, -0.512, -...</td>\n",
       "    </tr>\n",
       "    <tr>\n",
       "      <th>1</th>\n",
       "      <td>0</td>\n",
       "      <td>1</td>\n",
       "      <td>[-0.256, 0.448, 0.32, 0.128, -0.64, -0.32, -0....</td>\n",
       "    </tr>\n",
       "    <tr>\n",
       "      <th>2</th>\n",
       "      <td>0</td>\n",
       "      <td>2</td>\n",
       "      <td>[0.512, 0.128, 0.512, 0.128, 0.576, 0.448, 0.0...</td>\n",
       "    </tr>\n",
       "    <tr>\n",
       "      <th>3</th>\n",
       "      <td>1</td>\n",
       "      <td>0</td>\n",
       "      <td>[-0.128, -0.128, -0.128, 0.448, 0.32, 0.32, 0....</td>\n",
       "    </tr>\n",
       "    <tr>\n",
       "      <th>4</th>\n",
       "      <td>1</td>\n",
       "      <td>1</td>\n",
       "      <td>[-0.064, -0.448, -0.384, -0.704, -0.576, -0.12...</td>\n",
       "    </tr>\n",
       "    <tr>\n",
       "      <th>...</th>\n",
       "      <td>...</td>\n",
       "      <td>...</td>\n",
       "      <td>...</td>\n",
       "    </tr>\n",
       "    <tr>\n",
       "      <th>241</th>\n",
       "      <td>80</td>\n",
       "      <td>1</td>\n",
       "      <td>[-0.064, -0.384, -0.64, -0.256, -0.256, -0.384...</td>\n",
       "    </tr>\n",
       "    <tr>\n",
       "      <th>242</th>\n",
       "      <td>80</td>\n",
       "      <td>2</td>\n",
       "      <td>[0.32, 0.064, 0.064, 0.576, 0.064, 0.256, -0.3...</td>\n",
       "    </tr>\n",
       "    <tr>\n",
       "      <th>243</th>\n",
       "      <td>81</td>\n",
       "      <td>0</td>\n",
       "      <td>[0.192, 0.256, 0.256, 0.256, 0.192, 0.256, -0....</td>\n",
       "    </tr>\n",
       "    <tr>\n",
       "      <th>244</th>\n",
       "      <td>81</td>\n",
       "      <td>1</td>\n",
       "      <td>[-0.256, -0.384, -0.064, -0.256, -0.256, -0.38...</td>\n",
       "    </tr>\n",
       "    <tr>\n",
       "      <th>245</th>\n",
       "      <td>81</td>\n",
       "      <td>2</td>\n",
       "      <td>[0.32, 0.256, 0.32, 0.32, 0.256, 0.448, -0.064...</td>\n",
       "    </tr>\n",
       "  </tbody>\n",
       "</table>\n",
       "<p>246 rows × 3 columns</p>\n",
       "</div>"
      ],
      "text/plain": [
       "     event_number  channels                                                rwf\n",
       "0               0         0  [0.0, -0.384, 0.192, -0.384, -0.256, -0.512, -...\n",
       "1               0         1  [-0.256, 0.448, 0.32, 0.128, -0.64, -0.32, -0....\n",
       "2               0         2  [0.512, 0.128, 0.512, 0.128, 0.576, 0.448, 0.0...\n",
       "3               1         0  [-0.128, -0.128, -0.128, 0.448, 0.32, 0.32, 0....\n",
       "4               1         1  [-0.064, -0.448, -0.384, -0.704, -0.576, -0.12...\n",
       "..            ...       ...                                                ...\n",
       "241            80         1  [-0.064, -0.384, -0.64, -0.256, -0.256, -0.384...\n",
       "242            80         2  [0.32, 0.064, 0.064, 0.576, 0.064, 0.256, -0.3...\n",
       "243            81         0  [0.192, 0.256, 0.256, 0.256, 0.192, 0.256, -0....\n",
       "244            81         1  [-0.256, -0.384, -0.064, -0.256, -0.256, -0.38...\n",
       "245            81         2  [0.32, 0.256, 0.32, 0.32, 0.256, 0.448, -0.064...\n",
       "\n",
       "[246 rows x 3 columns]"
      ]
     },
     "metadata": {},
     "output_type": "display_data"
    }
   ],
   "source": [
    "display(pd_flat)"
   ]
  },
  {
   "cell_type": "code",
   "execution_count": 63,
   "metadata": {},
   "outputs": [
    {
     "name": "stdout",
     "output_type": "stream",
     "text": [
      "0      [0.0, -0.384, 0.192, -0.384, -0.256, -0.512, -...\n",
      "1      [-0.256, 0.448, 0.32, 0.128, -0.64, -0.32, -0....\n",
      "2      [0.512, 0.128, 0.512, 0.128, 0.576, 0.448, 0.0...\n",
      "3      [-0.128, -0.128, -0.128, 0.448, 0.32, 0.32, 0....\n",
      "4      [-0.064, -0.448, -0.384, -0.704, -0.576, -0.12...\n",
      "                             ...                        \n",
      "241    [-0.064, -0.384, -0.64, -0.256, -0.256, -0.384...\n",
      "242    [0.32, 0.064, 0.064, 0.576, 0.064, 0.256, -0.3...\n",
      "243    [0.192, 0.256, 0.256, 0.256, 0.192, 0.256, -0....\n",
      "244    [-0.256, -0.384, -0.064, -0.256, -0.256, -0.38...\n",
      "245    [0.32, 0.256, 0.32, 0.32, 0.256, 0.448, -0.064...\n",
      "Name: rwf, Length: 246, dtype: object\n"
     ]
    }
   ],
   "source": [
    "print(pd_flat.rwf)"
   ]
  },
  {
   "cell_type": "code",
   "execution_count": 1,
   "metadata": {},
   "outputs": [
    {
     "ename": "NameError",
     "evalue": "name 'np' is not defined",
     "output_type": "error",
     "traceback": [
      "\u001b[0;31m---------------------------------------------------------------------------\u001b[0m",
      "\u001b[0;31mNameError\u001b[0m                                 Traceback (most recent call last)",
      "Cell \u001b[0;32mIn[1], line 5\u001b[0m\n\u001b[1;32m      3\u001b[0m \u001b[38;5;66;03m# write event information\u001b[39;00m\n\u001b[1;32m      4\u001b[0m \u001b[38;5;28;01mwith\u001b[39;00m h5py\u001b[38;5;241m.\u001b[39mFile(\u001b[38;5;124m'\u001b[39m\u001b[38;5;124msave_path.h5\u001b[39m\u001b[38;5;124m'\u001b[39m, \u001b[38;5;124m'\u001b[39m\u001b[38;5;124mw\u001b[39m\u001b[38;5;124m'\u001b[39m) \u001b[38;5;28;01mas\u001b[39;00m h5f:\n\u001b[0;32m----> 5\u001b[0m     h5f\u001b[38;5;241m.\u001b[39mcreate_dataset(\u001b[38;5;124m'\u001b[39m\u001b[38;5;124mraw_wf\u001b[39m\u001b[38;5;124m'\u001b[39m, data\u001b[38;5;241m=\u001b[39mnp\u001b[38;5;241m.\u001b[39marray(pd_flat[\u001b[38;5;124m'\u001b[39m\u001b[38;5;124mrwf\u001b[39m\u001b[38;5;124m'\u001b[39m])\u001b[38;5;241m.\u001b[39mto_list())\n",
      "\u001b[0;31mNameError\u001b[0m: name 'np' is not defined"
     ]
    }
   ],
   "source": [
    "import h5py\n",
    "\n",
    "# write event information\n",
    "with h5py.File('save_path.h5', 'w') as h5f:\n",
    "    h5f.create_dataset('raw_wf', data=np.array(pd_flat['rwf']).to_list())"
   ]
  },
  {
   "cell_type": "code",
   "execution_count": 66,
   "metadata": {},
   "outputs": [
    {
     "name": "stdout",
     "output_type": "stream",
     "text": [
      "(0, 1998268, 1000, 8, 3, [ 0.   , -0.384,  0.192, -0.384, -0.256, -0.512, -0.064, -0.32 ,  0.064, -0.128,  0.128,  0.512,  0.128, -0.064,  0.128,  0.   ,  0.192, -0.192,  0.   , -0.32 ,  0.256, -0.32 ,  0.256, -0.064,  0.   ,  0.192, -0.128, -0.128,  0.192, -0.128,  0.512,  0.32 ,  0.256,  0.   ,  0.32 , -0.128,  0.192, -0.128,  0.192, -0.128, -0.064, -0.064,  0.   , -0.448, -0.192, -0.128,  0.256, -0.32 ,  0.   , -0.576, -0.256, -0.256,  0.32 , -0.128,  0.   ,  0.064,  0.384, -0.192, -0.064,  0.064,  0.512,  0.192,  0.256,  0.32 ,  0.32 , -0.064,  0.32 , -0.128, -0.064, -0.512, -0.192, -0.256,  0.   , -0.32 , -0.256, -0.384, -0.128, -0.064,  0.   ,  0.   ,  0.128, -0.128,  0.256, -0.064, -0.064, -0.192,  0.512, -0.064,  0.256,  0.32 ,  0.128,  0.   ,  0.192,  0.   , -0.128, -0.576, -0.192, -0.384,  0.   ,  0.   ,  0.128, -0.128,  0.64 , -0.064,  0.256,  0.192,  0.128, -0.512, -0.512, -0.704,  0.   , -0.128,  0.32 ,  0.192,  0.192, -0.064,  0.256, -0.256,  0.256, -0.064,  0.192, -0.256,  0.064, -0.32 , -0.064, -0.576, -0.064, -0.192,  0.256, -0.32 , -0.064, -0.128,  0.256, -0.32 ,  0.192,  0.192,  0.512,  0.32 ,  0.256, -0.192,  0.   , -0.064,  0.128, -0.512,  0.   ,  0.064,  0.32 , -0.32 ,  0.064,  0.192,  0.256, -0.32 ,  0.   ,  0.064,  0.256, -0.128,  0.   , -0.064,  0.   , -0.064, -0.384, -0.32 ,  0.128,  0.192,  0.   ,  0.   ,  0.128,  0.192,  0.256, -0.064,  0.256,  0.32 ,  0.128,  0.32 ,  0.768,  0.384,  0.448,  0.32 ,  0.576,  0.512,  0.512,  0.128,  0.192, -0.128,  0.256, -0.064,  0.384, -0.192,  0.064, -0.32 ,  0.256,  0.32 ,  0.256,  0.32 ,  0.32 ,  0.32 ,  0.32 ,  0.192,  0.512,  0.128,  0.192,  0.32 ,  0.32 , -0.128,  0.32 ,  0.192, -0.064,  0.128,  0.256, -0.128,  0.128, -0.32 , -0.128, -0.64 , -0.064,  0.   ,  0.32 ,  0.384,  0.256,  0.384,  0.32 ,  0.   ,  0.128, -0.064,  0.064, -0.128,  0.256, -0.32 ,  0.384, -0.256,  0.192, -0.256,  0.   , -0.128,  0.064, -0.256,  0.256, -0.128,  0.   , -0.256, -0.064, -0.448, -0.192, -0.32 , -0.192, -0.256,  0.256,  0.32 ,  0.512,  0.192,  0.256,  0.32 ,  0.32 , -0.128,  0.128,  0.   ,  0.32 ,  0.32 ,  0.256, -0.064,  0.256, -0.256,  0.256, -0.064,  0.32 , -0.192,  0.192, -0.256,  0.256, -0.064,  0.512,  0.192,  0.   , -0.064,  0.128, -0.192,  0.384,  0.   ,  0.384, -0.064,  0.704,  0.   ,  0.256, -0.192, -0.192, -0.128,  0.192, -0.064,  0.32 , -0.064, -0.064,  0.   , -0.192, -0.448,  0.256, -0.256,  0.32 ,  0.192,  0.32 ,  0.256,  0.128, -0.128,  0.192, -0.128,  0.256,  0.128,  0.512,  0.704,  0.192,  0.192,  0.448, -0.192,  0.192, -0.128,  0.32 , -0.128,  0.   , -0.064,  0.192,  0.   , -0.256,  0.064,  0.192, -0.128, -0.064,  0.   ,  0.512,  0.32 ,  0.   , -0.32 ,  0.32 ,  0.192,  0.256, -0.384,  0.32 , -0.064,  0.512,  0.   ,  0.   ,  0.128,  0.128, -0.384,  0.128, -0.32 ,  0.128,  0.192,  0.32 ,  0.384,  0.576,  0.192,  0.064,  0.192,  0.512,  0.32 ,  0.192,  0.064,  0.   ,  0.   , -0.064, -0.32 ,  0.   ,  0.128,  0.448,  0.32 ,  0.192, -0.064,  0.32 ,  0.128,  0.128, -0.256,  0.32 ,  0.448,  0.32 ,  0.32 , -0.128, -0.448,  0.   , -0.128,  0.128, -0.128,  0.   ,  0.128,  0.512,  0.064,  0.256,  0.   ,  0.192, -0.128,  0.128,  0.192,  0.   , -0.576,  0.064, -0.128,  0.256, -0.192, -0.128, -0.512, -0.128,  0.   ,  0.256,  0.128,  0.192,  0.32 ,  0.   ,  0.32 ,  0.512,  0.192,  0.32 ,  0.448,  0.32 ,  0.064,  0.32 ,  0.32 ,  0.256,  0.64 ,  0.576,  0.192,  0.192,  0.192,  0.384,  0.32 ,  0.128, -0.32 , -0.064, -0.128,  0.512,  0.384,  0.448,  0.32 ,  0.256, -0.064, -0.064, -0.192,  0.   ,  0.256,  0.32 , -0.256,  0.256,  0.   ,  0.256, -0.448, -0.192, -0.064,  0.512, -0.064,  0.256, -0.064,  0.128, -0.128,  0.   , -0.256,  0.   , -0.192,  0.256,  0.   ,  0.256, -0.064,  0.512,  0.192,  0.448,  0.128, -0.064, -0.32 ,  0.256, -0.064,  0.064, -0.064,  0.32 ,  0.192,  0.32 ,  0.128,  0.192,  0.192, -0.064, -0.448,  0.256, -0.448,  0.256,  0.192,  0.384, -0.064,  0.   , -0.064,  0.064,  0.128,  0.32 , -0.064,  0.   ,  0.128,  0.256, -0.192,  0.128, -0.576, -0.256, -0.32 ,  0.128, -0.128,  0.192,  0.32 , -0.064, -0.128,  0.192, -0.064,  0.128, -0.448, -0.064, -0.256,  0.   ,  0.128,  0.128, -0.192,  0.   , -0.128, -0.064, -0.448, -0.192, -0.128,  0.256,  0.064,  0.128, -0.064,  0.192,  0.064, -0.256, -0.384,  0.064, -0.192, -0.128, -0.128,  0.128,  0.192,  0.128, -0.32 ,  0.   , -0.128,  0.064,  0.128,  0.32 , -0.64 , -0.192,  0.192,  0.576,  0.064,  0.   , -0.64 ,  0.064, -0.128, -0.128, -0.32 ,  0.   , -0.064,  0.256,  0.192,  0.128,  0.   ,  0.384, -0.128,  0.   , -0.32 ,  0.128, -0.064,  0.128,  0.   ,  0.448, -0.064,  0.128,  0.192,  0.384,  0.384,  0.32 ,  0.192,  0.256, -0.128,  0.32 , -0.192,  0.128, -0.192,  0.256, -0.384,  0.   , -0.064,  0.384, -0.32 , -0.192, -0.32 ,  0.064, -0.128,  0.   , -0.128,  0.128,  0.064,  0.128,  0.   ,  0.256, -0.128,  0.128,  0.32 ,  0.384, -0.32 ,  0.   , -0.448,  0.256, -0.384,  0.   ,  0.32 ,  0.448,  0.448,  0.704,  0.448,  0.32 , -0.128,  0.128, -0.32 ,  0.192, -0.256,  0.192,  0.384,  0.32 ,  0.   ,  0.064,  0.448,  0.32 ,  0.384,  0.128, -0.064,  0.32 , -0.128, -0.192,  0.384,  0.256,  0.384,  0.96 ,  0.64 ,  0.768,  0.64 ,  0.128, -0.832, -3.008, -4.416, -3.904, -3.2  , -1.536,  0.384,  3.392,  5.312,  5.888,  4.672,  2.56 ,  0.96 , -0.128, -1.344, -1.408, -1.792, -1.472, -2.048, -1.28 , -0.32 ,  1.152,  0.96 ,  0.512, -0.448, -0.64 , -1.344, -0.896, -0.192,  1.152,  1.536,  2.304,  1.728,  1.536,  0.704, -0.384, -0.832, -0.64 , -1.088, -1.28 , -1.216, -0.448, -0.32 ,  0.256,  0.96 ,  1.536,  1.408,  1.152,  1.216,  0.768,  0.128, -0.192, -1.088, -0.768, -1.536, -1.024, -0.832, -0.064,  0.256,  0.96 ,  0.896,  1.28 ,  0.576,  0.384,  0.192,  0.128, -0.512, -0.256, -0.32 , -0.256, -0.064,  0.448,  0.704,  0.704,  0.32 ,  0.192,  0.192,  0.064, -0.32 , -0.384, -0.768, -0.064,  0.128,  0.256,  0.576,  0.512,  0.192,  0.384,  0.256,  0.384, -0.192,  0.   , -0.256,  0.128, -0.448,  0.128, -0.192,  0.384,  0.   ,  0.256,  0.32 ,  0.704,  0.192,  0.256, -0.192,  0.   , -0.576,  0.064, -0.192,  0.32 ,  0.384,  0.256,  0.576,  0.768,  0.384,  0.448,  0.32 ,  0.384, -0.064,  0.   ,  0.192, -0.064, -0.32 , -0.064,  0.192,  0.32 ,  0.064,  0.   ,  0.   ,  0.448, -0.064,  0.   , -0.128,  0.256, -0.128,  0.256, -0.128,  0.192,  0.   ,  0.128, -0.256,  0.128,  0.192,  0.256, -0.128,  0.256,  0.256,  0.32 , -0.192,  0.128,  0.   ,  0.256,  0.128,  0.448,  0.256,  0.448,  0.32 ,  0.256, -0.32 ,  0.256,  0.192,  0.192, -0.32 ,  0.32 ,  0.064,  0.256, -0.064,  0.384,  0.384,  0.192, -0.384, -0.256, -0.256,  0.384,  0.384,  0.512,  0.384,  0.192,  0.192,  0.384,  0.384,  0.448,  0.576,  0.32 ,  0.384,  0.32 ,  0.192,  0.   ,  0.128,  0.32 ,  0.384,  0.448,  0.384,  0.576,  0.   ,  0.192,  0.192,  0.32 ,  0.064,  0.064, -0.064,  0.32 ,  0.32 ,  0.256,  0.   ,  0.32 , -0.064,  0.128, -0.128,  0.   , -0.064,  0.256,  0.192,  0.256,  0.384,  0.768,  0.32 ,  0.448,  0.064,  0.   ,  0.256,  0.448,  0.32 ,  0.256,  0.192,  0.448,  0.832,  0.448,  0.32 ,  0.064, -0.192,  0.512,  0.256,  0.384,  0.192,  0.32 ,  0.128,  0.384,  0.32 , -0.064, -0.256,  0.256, -0.256,  0.256,  0.192,  0.384, -0.064,  0.384,  0.192,  0.256,  0.256,  0.64 ,  0.512,  0.   , -0.448,  0.   , -0.704, -1.024, -1.536, -0.704,  0.704,  1.92 ,  1.92 ,  1.856,  2.304,  3.52 ,  4.096,  3.392,  1.728, -0.256, -2.688, -3.584, -3.456, -2.24 , -1.792, -2.752, -3.392, -2.176, -0.192,  2.368,  2.816,  2.88 ,  2.368,  1.28 ,  0.384,  1.216,  1.344,  1.664,  1.472,  0.64 , -0.064, -1.088, -1.792, -1.536, -1.6  , -0.96 , -1.344, -0.96 , -0.384,  0.768,  1.6  ,  2.304,  2.432,  2.048,  1.152,  0.192, -0.768, -1.024, -1.344, -1.088, -1.344, -0.768, -0.512,  0.192,  0.576,  1.216,  1.792,  1.408,  0.704,  0.32 , -0.256, -0.128, -0.832, -0.512, -0.832, -0.512, -0.32 ,  0.384,  0.704,  1.536,  1.856,  1.472,  1.088,  1.28 ,  0.448,  0.256, -0.832, -0.448, -1.28 , -1.28 , -1.216, -0.64 , -0.128,  0.768,  1.344,  1.344,  1.216,  0.64 ,  0.32 ,  0.768,  0.512,  0.384,  0.32 ,  0.256, -0.576,  0.   , -0.448,  0.256, -0.192,  0.   , -0.256,  0.   , -0.064], [-0.256,  0.448,  0.32 ,  0.128, -0.64 , -0.32 , -0.576, -0.064, -0.32 , -0.64 , -0.64 , -0.576, -0.32 ,  0.   , -0.32 ,  0.128,  0.   , -0.256, -0.704, -0.32 , -0.192,  0.064,  0.064,  0.448,  0.128, -0.064, -0.128,  0.064,  0.   ,  0.064, -0.192, -0.256, -0.192, -0.128, -0.448, -0.128, -0.32 , -0.064,  0.   , -0.32 , -0.064,  0.128, -0.192,  0.128, -0.512,  0.   , -0.064,  0.128,  0.32 , -0.064, -0.064, -0.064, -0.256,  0.384,  0.256, -0.576, -0.704, -0.128, -0.832, -0.256, -0.192,  0.128, -0.128,  0.128, -0.832, -0.576, -0.64 , -0.128, -0.256,  0.   , -0.32 , -0.576, -0.192, -0.256, -0.384, -0.32 , -0.256, -0.384, -0.704, -0.32 , -0.128, -0.064, -0.064,  0.128,  0.   ,  0.064, -0.448, -0.256, -0.256,  0.064, -0.128,  0.192, -0.512,  0.128, -0.32 , -0.384, -0.576, -0.32 , -0.128, -0.384, -0.384, -0.448, -0.384, -0.576, -0.704, -0.576, -0.256,  0.064, -0.32 , -0.384, -0.576, -0.32 , -0.384, -0.064, -0.512, -0.448, -0.384, -0.512, -0.384, -0.32 , -0.384,  0.   , -0.384, -0.512, -0.448,  0.   , -0.192, -0.064, -0.256, -0.384, -0.064,  0.064, -0.512, -0.128, -0.512,  0.   , -0.256, -0.064, -0.128,  0.   , -0.576, -0.32 , -0.512, -0.128,  0.064,  0.128, -0.192,  0.064, -0.384, -0.32 , -0.192, -0.064, -0.192, -0.384, -0.832, -0.64 , -0.576, -0.64 , -0.64 , -0.576, -0.384, -0.256, -0.448, -0.256, -0.384, -0.064, -0.192,  0.064, -0.64 , -0.576, -0.64 , -0.384, -0.512, -0.064, -0.384, -0.384, -0.704, -0.576, -0.64 ,  0.   , -0.064, -0.576, -0.704, -0.128,  0.064, -0.064, -0.192, -0.128, -0.384, -0.384, -0.704, -0.512, -0.256, -0.384, -0.192, -0.384, -0.384, -0.064,  0.128, -0.384, -0.512, -0.128, -0.384, -0.384, -0.384, -0.192, -0.192, -0.768, -0.704, -0.064, -0.32 , -0.064, -0.448, -0.32 , -0.192,  0.128, -0.512, -0.128, -0.128, -0.256, -0.384, -0.064, -0.448, -0.256, -0.384, -0.064, -0.64 ,  0.   , -0.32 , -0.064, -0.576,  0.064, -0.384,  0.064, -0.064,  0.   , -0.128, -0.384, -0.192, -0.064, -0.32 , -0.384, -0.384, -0.192, -0.256, -0.384, -0.192,  0.   , -0.192, -0.064, -0.256,  0.064, -0.192, -0.576, -0.896, -0.384, -0.576, -0.512, -0.768, -0.576, -0.128, -0.064,  0.064, -0.128, -0.192,  0.064, -0.576,  0.064, -0.32 , -0.32 , -0.704, -0.064,  0.064,  0.128, -0.192, -0.064, -0.384, -0.384, -0.32 , -0.064, -0.192,  0.   , -0.384, -0.256, -0.128,  0.   , -0.192, -0.128, -0.192, -0.128, -0.448, -0.064, -0.256, -0.256, -0.384,  0.128, -0.256, -0.512, -0.704,  0.   , -0.384, -0.576, -0.896, -0.512, -0.128, -0.128,  0.   ,  0.192,  0.   , -0.384, -0.384,  0.064, -0.192, -0.064, -0.32 ,  0.064, -0.512, -0.512, -0.512, -0.512, -0.512, -0.384, -0.704, -0.448, -0.64 , -0.064, -0.576, -0.576, -0.64 , -0.576, -0.832, -0.384, -0.64 , -0.192, -0.064, -0.128, -0.384, -0.064, -0.32 , -0.256, -0.576, -0.512, -0.576, -0.32 , -0.32 , -0.128, -0.256, -0.128, -0.192, -0.192, -0.192,  0.128, -0.192, -0.192, -0.448, -0.128, -0.192, -0.384, -0.384, -0.064, -0.512, -0.64 , -0.704, -0.128, -0.448, -0.512, -0.192, -0.192, -0.192, -0.576, -0.512,  0.   , -0.128, -0.384, -0.192,  0.   , -0.384, -0.512, -0.704, -0.064, -0.128,  0.064, -0.064,  0.128, -0.192, -0.32 , -0.512,  0.064, -0.192, -0.256, -0.448,  0.128, -0.064,  0.128, -0.256, -0.32 , -0.576, -0.32 , -0.704, -0.512, -0.512, -0.32 , -0.384, -0.256, -0.448, -0.32 , -0.256, -0.512, -0.384, -0.512,  0.128, -0.128, -0.512, -0.32 ,  0.192,  0.32 ,  0.064, -0.128, -0.704, -0.576, -0.896, -0.64 , -0.704, -0.576, -0.896, -0.576, -0.384, -0.32 , -0.256, -0.064, -0.192, -0.064, -0.32 , -0.128, -0.384, -0.256, -0.384,  0.128,  0.064, -0.384, -0.512,  0.   ,  0.064, -0.256, -0.512,  0.064, -0.192, -0.192, -0.256,  0.128, -0.384, -0.256, -0.704, -0.384, -0.64 , -0.064, -0.768, -0.32 ,  0.   , -0.128, -0.192,  0.128, -0.192, -0.384, -0.512, -0.128,  0.   ,  0.128, -0.32 , -0.192, -0.192, -0.384, -0.64 , -0.32 , -0.192,  0.   , -0.192,  0.128, -0.192,  0.192,  0.064, -0.064, -0.192, -0.256, -0.192, -0.064, -0.64 , -0.32 , -0.448, -0.448, -0.704, -0.128, -0.384, -0.192, -0.192,  0.   , -0.256, -0.064, -0.832, -0.768, -0.96 , -0.576, -0.384, -0.576, -0.384, -0.128, -0.128, -0.192, -0.192, -0.128, -0.704, -0.384, -0.192, -0.064, -0.384, -0.576, -0.704, -0.256, -0.192, -0.384, -0.704, -0.384, -0.128, -0.064, -0.256, -0.256, -0.256,  0.128, -0.192, -0.32 , -0.384, -0.064, -0.256,  0.064, -0.384,  0.256, -0.256, -0.128,  0.   , -0.064,  0.128, -0.064,  0.064,  0.064,  0.   , -0.128, -0.064, -0.064,  0.128,  0.   , -0.192, -0.256, -0.512, -0.064, -0.064,  0.256, -0.576, -0.448, -0.192, -0.064, -0.192, -0.256, -0.256,  0.192, -0.256, -0.576, -0.512, -0.256, -0.256, -0.256, -0.192,  0.256, -0.256, -0.128, -0.512, -0.064,  0.256, -0.064, -0.256,  0.128, -0.064,  0.064, -0.256, -0.576, -0.704, -0.384, -0.32 , -0.384, -0.512, -0.384, -0.128,  0.   , -0.448, -0.512, -0.704, -0.32 , -0.384, -0.768, -0.832, -0.384, -0.448, -0.512, -0.384,  0.256,  0.   ,  0.064, -0.128, -0.384, -0.384, -0.192, -0.384, -0.384, -0.192, -0.512, -0.448, -0.192, -0.192, -0.384, -0.704, -0.64 , -0.448, -0.448, -0.512, -0.512, -0.256, -0.384, -0.32 , -0.576, -0.64 , -0.512, -0.256,  0.064, -0.896, -0.512, -0.448, -0.064, -0.256, -0.576, -0.704, -0.512, -0.256,  0.128,  0.   ,  0.128,  0.064,  0.064, -0.192, -0.384, -0.96 , -0.704, -0.704, -0.64 , -0.704, -0.448, -0.64 , -0.256, -0.384, -0.32 , -0.384, -0.256, -0.576, -0.256, -0.384, -0.384, -0.64 , -0.32 , -0.576, -0.064,  0.064, -0.512, -0.96 , -0.512, -0.704, -0.512, -0.512, -0.384, -0.512, -0.256, -0.256, -0.384, -0.896, -0.64 , -0.704, -0.512, -0.256, -0.32 , -0.512, -0.064, -0.448, -0.576, -0.448, -0.128, -0.512, -0.32 , -0.384, -0.128, -0.704, -0.512, -0.512, -0.448, -0.384, -0.192, -0.64 , -0.512, -0.64 , -0.384, -0.256, -0.384, -0.64 , -0.128, -0.192, -0.192, -0.256,  0.128, -0.192, -0.384, -0.256,  0.   ,  0.   ,  0.064,  0.   , -0.32 , -0.448, -0.064, -0.32 , -0.384, -0.256,  0.   , -0.384, -0.128, -0.384, -0.384, -0.448, -0.128, -0.384, -0.32 , -0.448, -0.064, -0.384, -0.064, -0.384, -0.576, -0.704, -0.064, -0.192,  0.064, -0.192, -0.576, -0.32 , -0.576, -0.256, -0.128, -0.704, -0.576, -0.064, -0.128,  0.192,  0.   , -0.192,  0.   , -0.192, -0.32 , -0.512, -0.384, -0.128, -0.256, -0.832, -0.32 , -0.256, -0.064, -0.576,  0.256, -0.128, -0.064, -0.384,  0.256, -0.128,  0.128, -0.448, -0.32 , -0.384, -0.128, -0.448, -0.512, -0.896, -0.512, -0.128, -0.448, -0.576, -0.704, -0.32 , -0.064, -0.512, -0.64 , -0.512, -0.32 , -0.576, -0.448, -0.384,  0.064, -0.192, -0.32 , -0.448, -0.448, -0.384, -0.576, -0.256,  0.128, -0.704, -0.64 , -0.832, -0.064, -0.192, -0.384, -0.32 , -0.192, -0.256, -0.128, -0.704, -0.64 , -0.96 , -0.768, -0.32 , -0.064,  0.   , -0.32 , -0.512,  0.128, -0.192, -0.32 , -0.192, -0.32 , -0.192, -0.192, -0.576, -0.384, -0.384, -0.512, -0.32 ,  0.064,  0.   , -0.256, -0.32 , -0.064, -0.192, -0.384,  0.   , -0.064, -0.064, -0.384, -0.384, -0.128, -0.32 , -0.064, -0.192, -0.192, -0.384, -0.448, -0.128, -0.512, -0.192, -0.064, -0.192, -0.192, -0.704, -0.32 , -0.256, -0.32 , -0.192,  0.128, -0.384, -0.448, -0.256, -0.32 , -0.384, -0.576, -0.448, -0.448, -0.576,  0.   , -0.192, -0.384, -0.32 , -0.064, -0.448, -0.064,  0.064, -0.32 , -0.832, -0.128, -0.256,  0.128, -0.384, -0.384, -0.384,  0.128,  0.   , -0.512, -0.704, -0.576, -0.448,  0.128, -0.192, -0.256, -0.384, -0.256, -0.704, -0.704, -0.256,  0.064, -0.192,  0.064, -0.576, -0.576,  0.   , -0.128, -0.192, -0.192, -0.128,  0.   , -0.256, -0.64 , -0.704, -0.128, -0.192, -0.64 , -0.576, -0.512, -0.448, -0.576, -0.256,  0.128, -0.128, -0.256, -0.256, -0.384, -0.704,  0.064, -0.192, -0.384, -0.256, -0.512, -0.448, -0.448, -0.832, -0.64 , -0.704, -0.448, -0.576, -0.448, -0.384, -0.32 , -0.448, -0.448, -0.384, -0.384, -0.576, -0.768, -0.64 , -0.768, -0.832, -0.256, -0.576, -0.064, -0.512, -0.384, -0.384, -0.32 , -0.256, -0.256, -0.64 ,  0.128, -0.512, -0.576, -0.384, -0.064, -0.64 , -0.384, -0.448, -0.384, -0.448, -0.256, -0.128,  0.   , -0.256,  0.064, -0.64 , -0.384, -0.576, -0.192, -0.192, -0.576, -0.64 , -0.384, -0.32 , -0.384, -0.384, -0.448, -0.192, -0.32 ], [ 0.512,  0.128,  0.512,  0.128,  0.576,  0.448,  0.   , -0.32 ,  0.32 ,  0.064,  0.32 ,  0.256,  0.256,  0.   ,  0.064, -0.192,  0.192, -0.064,  0.256, -0.192,  0.128, -0.192,  0.192,  0.064,  0.128, -0.064,  0.512,  0.32 ,  0.32 , -0.064,  0.   ,  0.192,  0.32 ,  0.064,  0.064,  0.064,  0.384, -0.192, -0.256,  0.064,  0.512,  0.064,  0.128, -0.704,  0.   ,  0.064,  0.256, -0.192,  0.128, -0.064,  0.448,  0.064,  0.192, -0.384, -0.128, -0.064,  0.448,  0.32 ,  0.256,  0.512,  0.512,  0.32 ,  0.32 ,  0.32 ,  0.832,  0.128,  0.   ,  0.128, -0.384, -0.704, -0.064,  0.064,  0.32 ,  0.384,  0.32 , -0.064,  0.32 , -0.128,  0.128, -0.064,  0.192, -0.384, -0.192,  0.064,  0.192, -0.32 ,  0.128,  0.256,  0.32 ,  0.384,  0.128, -0.192,  0.   ,  0.384,  0.256,  0.256,  0.384,  0.128, -0.384, -0.192, -0.064, -0.448, -0.128, -0.064,  0.256,  0.064,  0.64 ,  0.384,  0.512,  0.704,  0.384,  0.064,  0.256,  0.448,  0.32 ,  0.384,  0.32 ,  0.32 ,  0.512, -0.064,  0.256,  0.32 ,  0.32 ,  0.064,  0.32 , -0.064,  0.064, -0.192,  0.256, -0.064,  0.128,  0.384,  0.128, -0.384,  0.   , -0.448, -0.512, -0.32 ,  0.   , -0.064,  0.   ,  0.192,  0.32 ,  0.064,  0.064, -0.064,  0.512,  0.192,  0.256,  0.192, -0.064, -0.384,  0.256,  0.32 ,  0.256, -0.192,  0.256,  0.704,  0.512,  0.192,  0.32 ,  0.192,  0.448, -0.128,  0.   , -0.064,  0.128, -0.192,  0.   , -0.192,  0.32 , -0.32 ,  0.064,  0.192,  0.064,  0.064,  0.512,  0.384,  0.448, -0.192,  0.   , -0.064,  0.448,  0.32 ,  0.128,  0.   ,  0.384,  0.128,  0.192, -0.064,  0.256,  0.448,  0.512,  0.448,  0.192,  0.32 ,  0.32 ,  0.128,  0.32 ,  0.64 ,  0.256,  0.128, -0.192, -0.192,  0.064, -0.128, -0.192, -0.128,  0.   ,  0.128,  0.192,  0.192, -0.192, -0.192,  0.128,  0.32 ,  0.512,  0.32 ,  0.448,  0.128,  0.256, -0.064,  0.192,  0.128,  0.384, -0.064,  0.32 ,  0.384,  0.192,  0.192,  0.32 ,  0.128,  0.256,  0.   ,  0.256, -0.192,  0.32 , -0.192,  0.256,  0.064,  0.192, -0.192,  0.256,  0.128,  0.256, -0.192,  0.384,  0.064,  0.256, -0.448,  0.   ,  0.576,  0.32 ,  0.448,  0.32 ,  0.512,  0.512,  0.128,  0.32 ,  0.32 ,  0.256,  0.448,  0.384,  0.064,  0.32 , -0.192,  0.192,  0.256,  0.192, -0.064,  0.32 ,  0.   ,  0.32 , -0.064,  0.192, -0.064,  0.   , -0.128,  0.128, -0.128,  0.192,  0.128,  0.256,  0.128,  0.32 , -0.128,  0.32 , -0.064,  0.256,  0.32 ,  0.256,  0.064,  0.   , -0.128,  0.128, -0.192,  0.064,  0.384,  0.384, -0.384,  0.   ,  0.192,  0.384,  0.32 ,  0.192, -0.32 ,  0.32 ,  0.064,  0.128, -0.064,  0.128, -0.128, -0.064,  0.128,  0.448, -0.256,  0.128,  0.192,  0.512,  0.256,  0.32 ,  0.192,  0.576,  0.32 ,  0.704,  0.192,  0.384,  0.192,  0.32 ,  0.128,  0.256,  0.064,  0.32 ,  0.448,  0.128, -0.064,  0.256,  0.32 ,  0.384,  0.32 ,  0.32 ,  0.192,  0.448,  0.256,  0.32 ,  0.256,  0.512,  0.256,  0.256,  0.064,  0.384,  0.128,  0.384,  0.192,  0.32 ,  0.192,  0.128, -0.192,  0.192, -0.128,  0.   , -0.064,  0.256, -0.192,  0.128,  0.064,  0.32 ,  0.32 ,  0.256,  0.192,  0.512,  0.32 ,  0.064, -0.064,  0.256,  0.32 ,  0.   ,  0.192,  0.384,  0.192,  0.256, -0.064,  0.32 ,  0.448,  0.512,  0.448,  0.32 ,  0.32 ,  0.384, -0.192,  0.192,  0.128,  0.256, -0.064,  0.256, -0.064,  0.   ,  0.192,  0.64 ,  0.192,  0.   ,  0.064,  0.384,  0.704,  0.384,  0.32 ,  0.768,  0.576,  0.064,  0.064,  0.32 , -0.064,  0.064,  0.576,  0.256,  0.192,  0.128,  0.128,  0.32 ,  0.128,  0.   , -0.32 ,  0.   ,  0.384,  0.448,  0.448,  0.448,  0.32 ,  0.256,  0.064,  0.128,  0.192,  0.256,  0.192,  0.   ,  0.064,  0.384, -0.064,  0.   , -0.256,  0.128,  0.192,  0.   ,  0.128,  0.192, -0.128,  0.   ,  0.064,  0.256,  0.384,  0.192,  0.   ,  0.256, -0.448,  0.256,  0.192,  0.384,  0.256,  0.192, -0.064,  0.384,  0.064, -0.128,  0.   ,  0.32 ,  0.128,  0.192,  0.448,  0.512, -0.192, -0.512, -0.128,  0.192, -0.064,  0.128,  0.128,  0.32 , -0.32 ,  0.064, -0.192,  0.   , -0.64 ,  0.32 ,  0.256,  0.448,  0.32 ,  0.256,  0.192,  0.512,  0.832,  0.448, -0.192,  0.   ,  0.128,  0.128,  0.192,  0.064, -0.192,  0.256,  0.32 ,  0.256, -0.192,  0.32 ,  0.064,  0.   , -0.32 ,  0.32 , -0.32 ,  0.   , -0.128,  0.256, -0.192,  0.   , -0.32 ,  0.32 ,  0.32 ,  0.256, -0.384, -0.256, -0.32 , -0.192, -0.128,  0.256,  0.128,  0.   , -0.128,  0.256, -0.256, -0.32 , -0.192,  0.384, -0.064,  0.   ,  0.128,  0.256, -0.064,  0.   , -0.064,  0.384, -0.064, -0.064, -0.128,  0.128, -0.512, -0.128, -0.064, -0.128, -0.704, -0.192, -0.192,  0.128, -0.128,  0.704,  0.384, -0.064, -0.064,  0.32 ,  0.192,  0.384,  0.064,  0.192,  0.128,  0.448, -0.448, -0.128, -0.32 ,  0.384,  0.128,  0.32 , -0.192, -0.128, -0.32 ,  0.   ,  0.   ,  0.384,  0.256,  0.128,  0.32 ,  0.32 ,  0.128,  0.512, -0.064,  0.256, -0.064,  0.32 , -0.064,  0.192, -0.192,  0.128, -0.128,  0.512,  0.32 ,  0.32 ,  0.064,  0.128, -0.192, -0.32 ,  0.064,  0.064,  0.   ,  0.192,  0.32 ,  0.448,  0.576,  0.32 ,  0.32 ,  0.448,  0.128,  0.   , -0.32 ,  0.32 , -0.128, -0.192, -0.064,  0.256,  0.32 ,  0.192,  0.128,  0.256,  0.128,  0.128,  0.192,  0.384,  0.32 ,  0.32 , -0.064,  0.128, -0.064,  0.256,  0.064, -0.064, -0.192, -0.064, -0.064,  0.256,  0.32 ,  0.   , -0.128,  0.064, -0.384,  0.   , -0.064,  0.448,  0.192,  0.512,  0.192,  0.256,  0.128, -0.064, -0.32 ,  0.   , -0.704,  0.   ,  0.192,  0.256, -0.128, -0.064,  0.32 ,  0.512,  0.192,  0.064,  0.064,  0.32 ,  0.32 ,  0.192,  0.064,  0.512,  0.32 ,  0.192,  0.448,  0.448,  0.   ,  0.   , -0.192,  0.064,  0.32 ,  0.32 , -0.064,  0.32 ,  0.192,  0.256,  0.192,  0.32 ,  0.384,  0.256,  0.256,  0.32 , -0.32 ,  0.   ,  0.128,  0.32 , -0.064,  0.256, -0.064,  0.512,  0.384,  0.256,  0.32 ,  0.32 ,  0.064,  0.128, -0.128,  0.192,  0.064,  0.256, -0.256,  0.   ,  0.128,  0.256,  0.064,  0.   , -0.384,  0.128,  0.256, -0.192,  0.128,  0.576, -0.128,  0.128,  0.32 ,  0.512,  0.256,  0.448,  0.576,  0.192,  0.064,  0.32 ,  0.448,  0.256,  0.32 ,  0.448,  0.192,  0.   ,  0.128,  0.   , -0.32 , -0.192, -0.064,  0.128, -0.192,  0.192, -0.32 ,  0.128, -0.192,  0.256,  0.192,  0.128, -0.064,  0.256,  0.32 , -0.064, -0.32 ,  0.128,  0.064,  0.   , -0.064,  0.064,  0.128,  0.128, -0.32 , -0.064, -0.192,  0.32 ,  0.192,  0.576, -0.064,  0.128,  0.064,  0.32 , -0.192, -0.128, -0.32 ,  0.192, -0.064,  0.192, -0.064,  0.256,  0.32 ,  0.128,  0.128, -0.064, -0.32 , -0.384,  0.128,  0.384,  0.064,  0.448,  0.192,  0.256,  0.32 ,  0.32 ,  0.192, -0.064, -0.064,  0.32 ,  0.192,  0.   , -0.128,  0.128,  0.064,  0.   , -0.192,  0.384,  0.128,  0.32 ,  0.   ,  0.256,  0.192,  0.448, -0.192,  0.064, -0.064,  0.32 ,  0.064,  0.32 ,  0.128,  0.384,  0.128,  0.192,  0.128,  0.   ,  0.384,  0.576,  0.32 ,  0.32 ,  0.448,  0.256, -0.128,  0.256,  0.064,  0.32 ,  0.192,  0.512,  0.32 ,  0.256,  0.256,  0.32 ,  0.448,  0.384,  0.256,  0.   ,  0.192,  0.128,  0.128,  0.064,  0.128,  0.32 ,  0.128,  0.128, -0.128,  0.32 ,  0.32 ,  0.448,  0.256,  0.256, -0.192,  0.128, -0.128,  0.64 ,  0.448,  0.256,  0.128,  0.32 ,  0.256,  0.512,  0.384,  0.384, -0.128,  0.256,  0.064,  0.256,  0.064,  0.256,  0.448,  0.256,  0.32 ,  0.32 ,  0.448,  0.384,  0.32 ,  0.384,  0.576,  0.704,  0.192,  0.064,  0.32 ,  0.192, -0.32 ,  0.32 ,  0.32 ,  0.   ,  0.064,  0.256,  0.192, -0.128, -0.32 ,  0.192,  0.384,  0.512,  0.384,  0.128,  0.32 ,  0.896,  0.704,  0.32 , -0.064,  0.064, -0.32 , -0.192, -0.576,  0.256,  0.192,  0.064, -0.384, -0.064,  0.128,  0.512,  0.192,  0.064, -0.064,  0.256,  0.384,  0.256,  0.64 ,  0.32 ,  0.192,  0.384,  0.192,  0.   , -0.192,  0.064,  0.192,  0.128, -0.128,  0.128,  0.384,  0.832,  0.704,  0.576,  0.32 ,  0.256,  0.192,  0.32 , -0.064,  0.   ,  0.128,  0.384,  0.128,  0.384,  0.192,  0.384,  0.576,  0.32 , -0.064,  0.384,  0.128,  0.128, -0.064,  0.128,  0.256,  0.256,  0.064,  0.32 ,  0.32 ,  0.64 ,  0.448,  0.384,  0.128,  0.256,  0.384,  0.32 , -0.576, -0.064, -0.064,  0.32 , -0.128, -0.128, -0.128,  0.064,  0.192,  0.512,  0.256,  0.256,  0.064,  0.128, -0.384,  0.   , -0.128,  0.256, -0.064, -0.064, -0.064,  0.384,  0.576,  0.704,  0.448,  0.256,  0.064,  0.064, -0.064])\n",
      "\n"
     ]
    }
   ],
   "source": [
    "import matplotlib.pyplot as plt\n",
    "\n",
    "print(datathree[0])\n",
    "print(\"\")\n",
    "#print(datathree[1])\n",
    "\n",
    "\n",
    "\n",
    "testing = [[datathree[i][-chan] for chan in reversed(range(1,channels + 1))] for i in range(len(datathree))]\n",
    "#print(testing[0][0][:3])\n",
    "#print(datathree[0][-3][:3])\n",
    "#print(testing[0][1][:3])\n",
    "#print(datathree[0][-2][:3])\n",
    "\n",
    "#print(testing[0][2][:3])\n",
    "#print(datathree[0][-1][:3])\n",
    "#x = np.linspace(0, 1000, 1000)\n",
    "#plt.plot(x,datathree[1][:-3])"
   ]
  },
  {
   "cell_type": "code",
   "execution_count": 71,
   "metadata": {},
   "outputs": [
    {
     "data": {
      "text/plain": [
       "array([ 0.512,  0.128,  0.512,  0.128,  0.576,  0.448,  0.   , -0.32 ,\n",
       "        0.32 ,  0.064,  0.32 ,  0.256,  0.256,  0.   ,  0.064, -0.192,\n",
       "        0.192, -0.064,  0.256, -0.192,  0.128, -0.192,  0.192,  0.064,\n",
       "        0.128, -0.064,  0.512,  0.32 ,  0.32 , -0.064,  0.   ,  0.192,\n",
       "        0.32 ,  0.064,  0.064,  0.064,  0.384, -0.192, -0.256,  0.064,\n",
       "        0.512,  0.064,  0.128, -0.704,  0.   ,  0.064,  0.256, -0.192,\n",
       "        0.128, -0.064,  0.448,  0.064,  0.192, -0.384, -0.128, -0.064,\n",
       "        0.448,  0.32 ,  0.256,  0.512,  0.512,  0.32 ,  0.32 ,  0.32 ,\n",
       "        0.832,  0.128,  0.   ,  0.128, -0.384, -0.704, -0.064,  0.064,\n",
       "        0.32 ,  0.384,  0.32 , -0.064,  0.32 , -0.128,  0.128, -0.064,\n",
       "        0.192, -0.384, -0.192,  0.064,  0.192, -0.32 ,  0.128,  0.256,\n",
       "        0.32 ,  0.384,  0.128, -0.192,  0.   ,  0.384,  0.256,  0.256,\n",
       "        0.384,  0.128, -0.384, -0.192, -0.064, -0.448, -0.128, -0.064,\n",
       "        0.256,  0.064,  0.64 ,  0.384,  0.512,  0.704,  0.384,  0.064,\n",
       "        0.256,  0.448,  0.32 ,  0.384,  0.32 ,  0.32 ,  0.512, -0.064,\n",
       "        0.256,  0.32 ,  0.32 ,  0.064,  0.32 , -0.064,  0.064, -0.192,\n",
       "        0.256, -0.064,  0.128,  0.384,  0.128, -0.384,  0.   , -0.448,\n",
       "       -0.512, -0.32 ,  0.   , -0.064,  0.   ,  0.192,  0.32 ,  0.064,\n",
       "        0.064, -0.064,  0.512,  0.192,  0.256,  0.192, -0.064, -0.384,\n",
       "        0.256,  0.32 ,  0.256, -0.192,  0.256,  0.704,  0.512,  0.192,\n",
       "        0.32 ,  0.192,  0.448, -0.128,  0.   , -0.064,  0.128, -0.192,\n",
       "        0.   , -0.192,  0.32 , -0.32 ,  0.064,  0.192,  0.064,  0.064,\n",
       "        0.512,  0.384,  0.448, -0.192,  0.   , -0.064,  0.448,  0.32 ,\n",
       "        0.128,  0.   ,  0.384,  0.128,  0.192, -0.064,  0.256,  0.448,\n",
       "        0.512,  0.448,  0.192,  0.32 ,  0.32 ,  0.128,  0.32 ,  0.64 ,\n",
       "        0.256,  0.128, -0.192, -0.192,  0.064, -0.128, -0.192, -0.128,\n",
       "        0.   ,  0.128,  0.192,  0.192, -0.192, -0.192,  0.128,  0.32 ,\n",
       "        0.512,  0.32 ,  0.448,  0.128,  0.256, -0.064,  0.192,  0.128,\n",
       "        0.384, -0.064,  0.32 ,  0.384,  0.192,  0.192,  0.32 ,  0.128,\n",
       "        0.256,  0.   ,  0.256, -0.192,  0.32 , -0.192,  0.256,  0.064,\n",
       "        0.192, -0.192,  0.256,  0.128,  0.256, -0.192,  0.384,  0.064,\n",
       "        0.256, -0.448,  0.   ,  0.576,  0.32 ,  0.448,  0.32 ,  0.512,\n",
       "        0.512,  0.128,  0.32 ,  0.32 ,  0.256,  0.448,  0.384,  0.064,\n",
       "        0.32 , -0.192,  0.192,  0.256,  0.192, -0.064,  0.32 ,  0.   ,\n",
       "        0.32 , -0.064,  0.192, -0.064,  0.   , -0.128,  0.128, -0.128,\n",
       "        0.192,  0.128,  0.256,  0.128,  0.32 , -0.128,  0.32 , -0.064,\n",
       "        0.256,  0.32 ,  0.256,  0.064,  0.   , -0.128,  0.128, -0.192,\n",
       "        0.064,  0.384,  0.384, -0.384,  0.   ,  0.192,  0.384,  0.32 ,\n",
       "        0.192, -0.32 ,  0.32 ,  0.064,  0.128, -0.064,  0.128, -0.128,\n",
       "       -0.064,  0.128,  0.448, -0.256,  0.128,  0.192,  0.512,  0.256,\n",
       "        0.32 ,  0.192,  0.576,  0.32 ,  0.704,  0.192,  0.384,  0.192,\n",
       "        0.32 ,  0.128,  0.256,  0.064,  0.32 ,  0.448,  0.128, -0.064,\n",
       "        0.256,  0.32 ,  0.384,  0.32 ,  0.32 ,  0.192,  0.448,  0.256,\n",
       "        0.32 ,  0.256,  0.512,  0.256,  0.256,  0.064,  0.384,  0.128,\n",
       "        0.384,  0.192,  0.32 ,  0.192,  0.128, -0.192,  0.192, -0.128,\n",
       "        0.   , -0.064,  0.256, -0.192,  0.128,  0.064,  0.32 ,  0.32 ,\n",
       "        0.256,  0.192,  0.512,  0.32 ,  0.064, -0.064,  0.256,  0.32 ,\n",
       "        0.   ,  0.192,  0.384,  0.192,  0.256, -0.064,  0.32 ,  0.448,\n",
       "        0.512,  0.448,  0.32 ,  0.32 ,  0.384, -0.192,  0.192,  0.128,\n",
       "        0.256, -0.064,  0.256, -0.064,  0.   ,  0.192,  0.64 ,  0.192,\n",
       "        0.   ,  0.064,  0.384,  0.704,  0.384,  0.32 ,  0.768,  0.576,\n",
       "        0.064,  0.064,  0.32 , -0.064,  0.064,  0.576,  0.256,  0.192,\n",
       "        0.128,  0.128,  0.32 ,  0.128,  0.   , -0.32 ,  0.   ,  0.384,\n",
       "        0.448,  0.448,  0.448,  0.32 ,  0.256,  0.064,  0.128,  0.192,\n",
       "        0.256,  0.192,  0.   ,  0.064,  0.384, -0.064,  0.   , -0.256,\n",
       "        0.128,  0.192,  0.   ,  0.128,  0.192, -0.128,  0.   ,  0.064,\n",
       "        0.256,  0.384,  0.192,  0.   ,  0.256, -0.448,  0.256,  0.192,\n",
       "        0.384,  0.256,  0.192, -0.064,  0.384,  0.064, -0.128,  0.   ,\n",
       "        0.32 ,  0.128,  0.192,  0.448,  0.512, -0.192, -0.512, -0.128,\n",
       "        0.192, -0.064,  0.128,  0.128,  0.32 , -0.32 ,  0.064, -0.192,\n",
       "        0.   , -0.64 ,  0.32 ,  0.256,  0.448,  0.32 ,  0.256,  0.192,\n",
       "        0.512,  0.832,  0.448, -0.192,  0.   ,  0.128,  0.128,  0.192,\n",
       "        0.064, -0.192,  0.256,  0.32 ,  0.256, -0.192,  0.32 ,  0.064,\n",
       "        0.   , -0.32 ,  0.32 , -0.32 ,  0.   , -0.128,  0.256, -0.192,\n",
       "        0.   , -0.32 ,  0.32 ,  0.32 ,  0.256, -0.384, -0.256, -0.32 ,\n",
       "       -0.192, -0.128,  0.256,  0.128,  0.   , -0.128,  0.256, -0.256,\n",
       "       -0.32 , -0.192,  0.384, -0.064,  0.   ,  0.128,  0.256, -0.064,\n",
       "        0.   , -0.064,  0.384, -0.064, -0.064, -0.128,  0.128, -0.512,\n",
       "       -0.128, -0.064, -0.128, -0.704, -0.192, -0.192,  0.128, -0.128,\n",
       "        0.704,  0.384, -0.064, -0.064,  0.32 ,  0.192,  0.384,  0.064,\n",
       "        0.192,  0.128,  0.448, -0.448, -0.128, -0.32 ,  0.384,  0.128,\n",
       "        0.32 , -0.192, -0.128, -0.32 ,  0.   ,  0.   ,  0.384,  0.256,\n",
       "        0.128,  0.32 ,  0.32 ,  0.128,  0.512, -0.064,  0.256, -0.064,\n",
       "        0.32 , -0.064,  0.192, -0.192,  0.128, -0.128,  0.512,  0.32 ,\n",
       "        0.32 ,  0.064,  0.128, -0.192, -0.32 ,  0.064,  0.064,  0.   ,\n",
       "        0.192,  0.32 ,  0.448,  0.576,  0.32 ,  0.32 ,  0.448,  0.128,\n",
       "        0.   , -0.32 ,  0.32 , -0.128, -0.192, -0.064,  0.256,  0.32 ,\n",
       "        0.192,  0.128,  0.256,  0.128,  0.128,  0.192,  0.384,  0.32 ,\n",
       "        0.32 , -0.064,  0.128, -0.064,  0.256,  0.064, -0.064, -0.192,\n",
       "       -0.064, -0.064,  0.256,  0.32 ,  0.   , -0.128,  0.064, -0.384,\n",
       "        0.   , -0.064,  0.448,  0.192,  0.512,  0.192,  0.256,  0.128,\n",
       "       -0.064, -0.32 ,  0.   , -0.704,  0.   ,  0.192,  0.256, -0.128,\n",
       "       -0.064,  0.32 ,  0.512,  0.192,  0.064,  0.064,  0.32 ,  0.32 ,\n",
       "        0.192,  0.064,  0.512,  0.32 ,  0.192,  0.448,  0.448,  0.   ,\n",
       "        0.   , -0.192,  0.064,  0.32 ,  0.32 , -0.064,  0.32 ,  0.192,\n",
       "        0.256,  0.192,  0.32 ,  0.384,  0.256,  0.256,  0.32 , -0.32 ,\n",
       "        0.   ,  0.128,  0.32 , -0.064,  0.256, -0.064,  0.512,  0.384,\n",
       "        0.256,  0.32 ,  0.32 ,  0.064,  0.128, -0.128,  0.192,  0.064,\n",
       "        0.256, -0.256,  0.   ,  0.128,  0.256,  0.064,  0.   , -0.384,\n",
       "        0.128,  0.256, -0.192,  0.128,  0.576, -0.128,  0.128,  0.32 ,\n",
       "        0.512,  0.256,  0.448,  0.576,  0.192,  0.064,  0.32 ,  0.448,\n",
       "        0.256,  0.32 ,  0.448,  0.192,  0.   ,  0.128,  0.   , -0.32 ,\n",
       "       -0.192, -0.064,  0.128, -0.192,  0.192, -0.32 ,  0.128, -0.192,\n",
       "        0.256,  0.192,  0.128, -0.064,  0.256,  0.32 , -0.064, -0.32 ,\n",
       "        0.128,  0.064,  0.   , -0.064,  0.064,  0.128,  0.128, -0.32 ,\n",
       "       -0.064, -0.192,  0.32 ,  0.192,  0.576, -0.064,  0.128,  0.064,\n",
       "        0.32 , -0.192, -0.128, -0.32 ,  0.192, -0.064,  0.192, -0.064,\n",
       "        0.256,  0.32 ,  0.128,  0.128, -0.064, -0.32 , -0.384,  0.128,\n",
       "        0.384,  0.064,  0.448,  0.192,  0.256,  0.32 ,  0.32 ,  0.192,\n",
       "       -0.064, -0.064,  0.32 ,  0.192,  0.   , -0.128,  0.128,  0.064,\n",
       "        0.   , -0.192,  0.384,  0.128,  0.32 ,  0.   ,  0.256,  0.192,\n",
       "        0.448, -0.192,  0.064, -0.064,  0.32 ,  0.064,  0.32 ,  0.128,\n",
       "        0.384,  0.128,  0.192,  0.128,  0.   ,  0.384,  0.576,  0.32 ,\n",
       "        0.32 ,  0.448,  0.256, -0.128,  0.256,  0.064,  0.32 ,  0.192,\n",
       "        0.512,  0.32 ,  0.256,  0.256,  0.32 ,  0.448,  0.384,  0.256,\n",
       "        0.   ,  0.192,  0.128,  0.128,  0.064,  0.128,  0.32 ,  0.128,\n",
       "        0.128, -0.128,  0.32 ,  0.32 ,  0.448,  0.256,  0.256, -0.192,\n",
       "        0.128, -0.128,  0.64 ,  0.448,  0.256,  0.128,  0.32 ,  0.256,\n",
       "        0.512,  0.384,  0.384, -0.128,  0.256,  0.064,  0.256,  0.064,\n",
       "        0.256,  0.448,  0.256,  0.32 ,  0.32 ,  0.448,  0.384,  0.32 ,\n",
       "        0.384,  0.576,  0.704,  0.192,  0.064,  0.32 ,  0.192, -0.32 ,\n",
       "        0.32 ,  0.32 ,  0.   ,  0.064,  0.256,  0.192, -0.128, -0.32 ,\n",
       "        0.192,  0.384,  0.512,  0.384,  0.128,  0.32 ,  0.896,  0.704,\n",
       "        0.32 , -0.064,  0.064, -0.32 , -0.192, -0.576,  0.256,  0.192,\n",
       "        0.064, -0.384, -0.064,  0.128,  0.512,  0.192,  0.064, -0.064,\n",
       "        0.256,  0.384,  0.256,  0.64 ,  0.32 ,  0.192,  0.384,  0.192,\n",
       "        0.   , -0.192,  0.064,  0.192,  0.128, -0.128,  0.128,  0.384,\n",
       "        0.832,  0.704,  0.576,  0.32 ,  0.256,  0.192,  0.32 , -0.064,\n",
       "        0.   ,  0.128,  0.384,  0.128,  0.384,  0.192,  0.384,  0.576,\n",
       "        0.32 , -0.064,  0.384,  0.128,  0.128, -0.064,  0.128,  0.256,\n",
       "        0.256,  0.064,  0.32 ,  0.32 ,  0.64 ,  0.448,  0.384,  0.128,\n",
       "        0.256,  0.384,  0.32 , -0.576, -0.064, -0.064,  0.32 , -0.128,\n",
       "       -0.128, -0.128,  0.064,  0.192,  0.512,  0.256,  0.256,  0.064,\n",
       "        0.128, -0.384,  0.   , -0.128,  0.256, -0.064, -0.064, -0.064,\n",
       "        0.384,  0.576,  0.704,  0.448,  0.256,  0.064,  0.064, -0.064],\n",
       "      dtype=float32)"
      ]
     },
     "execution_count": 71,
     "metadata": {},
     "output_type": "execute_result"
    }
   ],
   "source": [
    "datathree[0][-1]"
   ]
  },
  {
   "cell_type": "code",
   "execution_count": 115,
   "metadata": {},
   "outputs": [
    {
     "name": "stdout",
     "output_type": "stream",
     "text": [
      "67506435, 1998268, 65508167, 64991925\n"
     ]
    }
   ],
   "source": [
    "#datathree[1][1] - datathree[0][1]\n",
    "print(f'{datathree[1][1]}, {datathree[0][1]}, {datathree[1][1] - datathree[0][1]}, {datathree[2][1] - datathree[1][1]}')"
   ]
  },
  {
   "cell_type": "code",
   "execution_count": null,
   "metadata": {},
   "outputs": [],
   "source": [
    "#def collect_header_info(file):\n",
    "    \n",
    "\n",
    "def check_header(file_path):\n",
    "    '''\n",
    "    Annoyingly, WaveDump2 allows for varying header size. \n",
    "    We can check if the dataframe is the same in a less-hacky way by scanning through the headers and ensuring that:\n",
    "        - the event number is consecutive\n",
    "        - the number of samples and sampling periods are the same\n",
    "        - the number of channels are the same\n",
    "    \n",
    "    Parameters\n",
    "    ----------\n",
    "\n",
    "    Returns\n",
    "    -------\n",
    "    The file format \n",
    "    '''\n",
    "    try:\n",
    "        file = open(file_path, 'rb')\n",
    "    except Exception as e:\n",
    "        print(f\"The file path provided is incorrect!\\n{file_path} doesn't exist.\")\n",
    "        print(e)\n",
    "    \n",
    "    \n"
   ]
  },
  {
   "cell_type": "code",
   "execution_count": 4,
   "metadata": {},
   "outputs": [],
   "source": [
    "fileNamethree = 'three_channels.bin'\n",
    "\n",
    "filethree = open(fileNamethree, 'rb')\n",
    "datathree = []\n",
    "\n"
   ]
  },
  {
   "cell_type": "markdown",
   "metadata": {},
   "source": [
    "### "
   ]
  },
  {
   "cell_type": "code",
   "execution_count": 1,
   "metadata": {},
   "outputs": [
    {
     "ename": "NameError",
     "evalue": "name 'proc' is not defined",
     "output_type": "error",
     "traceback": [
      "\u001b[0;31m---------------------------------------------------------------------------\u001b[0m",
      "\u001b[0;31mNameError\u001b[0m                                 Traceback (most recent call last)",
      "Cell \u001b[0;32mIn[1], line 1\u001b[0m\n\u001b[0;32m----> 1\u001b[0m x \u001b[38;5;241m=\u001b[39m proc\u001b[38;5;241m.\u001b[39mgenerate_rwf_type(\u001b[38;5;241m500\u001b[39m)\n\u001b[1;32m      2\u001b[0m \u001b[38;5;28mprint\u001b[39m(x)\n",
      "\u001b[0;31mNameError\u001b[0m: name 'proc' is not defined"
     ]
    }
   ],
   "source": [
    "x = proc.generate_rwf_type(500)\n",
    "print(x)"
   ]
  },
  {
   "cell_type": "code",
   "execution_count": 60,
   "metadata": {},
   "outputs": [],
   "source": [
    "def read_and_print(file, type = int, bytes = 4):\n",
    "    '''\n",
    "    open file, reading out binary X at a time, little endian atm for whatever reason\n",
    "    '''\n",
    "    x = file.read(bytes)\n",
    "    print(x)\n",
    "    print(type.from_bytes(x, byteorder='little'))\n",
    "\n",
    "    return x\n",
    "    "
   ]
  },
  {
   "cell_type": "code",
   "execution_count": 61,
   "metadata": {},
   "outputs": [
    {
     "name": "stdout",
     "output_type": "stream",
     "text": [
      "b'\\x00\\x00\\x00\\x00'\n",
      "0\n",
      "b'\\xbc}\\x1e\\x00\\x00\\x00\\x00\\x00'\n",
      "1998268\n",
      "b'\\xe8\\x03\\x00\\x00'\n",
      "1000\n",
      "b'\\x08\\x00\\x00\\x00\\x00\\x00\\x00\\x00'\n",
      "8\n",
      "b'\\x03\\x00\\x00\\x00'\n",
      "3\n"
     ]
    }
   ],
   "source": [
    "read_and_print(filethree, int, 4)\n",
    "read_and_print(filethree, int, 8)\n",
    "read_and_print(filethree, int, 4)\n",
    "q = read_and_print(filethree, int, 8)\n",
    "q = read_and_print(filethree, int, 4)"
   ]
  },
  {
   "cell_type": "code",
   "execution_count": 62,
   "metadata": {},
   "outputs": [
    {
     "name": "stdout",
     "output_type": "stream",
     "text": [
      "b'\\x00\\x00\\x00\\x00\\xa6\\x9b\\xc4\\xbe\\xa6\\x9b'\n"
     ]
    }
   ],
   "source": [
    "x = filethree.read(10)\n",
    "print(x)"
   ]
  },
  {
   "cell_type": "code",
   "execution_count": 68,
   "metadata": {},
   "outputs": [
    {
     "name": "stdout",
     "output_type": "stream",
     "text": [
      "b'\\x00\\x00\\x00\\x00\\xbc}\\x1e\\x00\\x00\\x00\\x00\\x00\\xe8\\x03\\x00\\x00\\x08\\x00\\x00\\x00\\x00\\x00\\x00\\x00\\x03\\x00\\x00\\x00\\x00\\x00\\x00\\x00\\xa6\\x9b\\xc4\\xbe\\xa6\\x9bD>\\xa6\\x9b\\xc4\\xbeo\\x12\\x83\\xbeo\\x12\\x03\\xbfo\\x12\\x83\\xbd\\n\\xd7\\xa3\\xbeo\\x12\\x83='\n"
     ]
    }
   ],
   "source": [
    "x = filethree.read(64)\n",
    "print(x)"
   ]
  },
  {
   "cell_type": "code",
   "execution_count": null,
   "metadata": {},
   "outputs": [],
   "source": []
  }
 ],
 "metadata": {
  "kernelspec": {
   "display_name": "MULE-3.12-10-24",
   "language": "python",
   "name": "python3"
  },
  "language_info": {
   "codemirror_mode": {
    "name": "ipython",
    "version": 3
   },
   "file_extension": ".py",
   "mimetype": "text/x-python",
   "name": "python",
   "nbconvert_exporter": "python",
   "pygments_lexer": "ipython3",
   "version": "3.12.7"
  }
 },
 "nbformat": 4,
 "nbformat_minor": 2
}
